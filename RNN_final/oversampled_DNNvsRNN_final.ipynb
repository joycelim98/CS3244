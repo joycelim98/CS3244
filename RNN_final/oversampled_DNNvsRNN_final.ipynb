{
 "cells": [
  {
   "cell_type": "markdown",
   "metadata": {},
   "source": [
    "## DNN vs LSTM\n",
    "\n",
    "This notebook mainly compares a DNN (1 layer) vs an LSTM for determining whether an article is clickbait from its title. We balance out the instances in each class as well.\n",
    "\n",
    "Here, we use oversampling of the minority class (clickbait)."
   ]
  },
  {
   "cell_type": "raw",
   "metadata": {},
   "source": [
    "!pip3 install fasttext\n",
    "!pip3 install pandas numpy tensorflow sklearn scipy six keras matplotlib pydot imbalanced-learn seaborn"
   ]
  },
  {
   "cell_type": "code",
   "execution_count": 1,
   "metadata": {
    "colab": {
     "base_uri": "https://localhost:8080/",
     "height": 80
    },
    "colab_type": "code",
    "id": "7O-jpVEA42cc",
    "outputId": "7da0dceb-d05f-4b95-dc97-08fd146ea392",
    "scrolled": true
   },
   "outputs": [
    {
     "name": "stderr",
     "output_type": "stream",
     "text": [
      "Using TensorFlow backend.\n",
      "/home/mj/.local/lib/python3.7/site-packages/tensorflow/python/framework/dtypes.py:516: FutureWarning: Passing (type, 1) or '1type' as a synonym of type is deprecated; in a future version of numpy, it will be understood as (type, (1,)) / '(1,)type'.\n",
      "  _np_qint8 = np.dtype([(\"qint8\", np.int8, 1)])\n",
      "/home/mj/.local/lib/python3.7/site-packages/tensorflow/python/framework/dtypes.py:517: FutureWarning: Passing (type, 1) or '1type' as a synonym of type is deprecated; in a future version of numpy, it will be understood as (type, (1,)) / '(1,)type'.\n",
      "  _np_quint8 = np.dtype([(\"quint8\", np.uint8, 1)])\n",
      "/home/mj/.local/lib/python3.7/site-packages/tensorflow/python/framework/dtypes.py:518: FutureWarning: Passing (type, 1) or '1type' as a synonym of type is deprecated; in a future version of numpy, it will be understood as (type, (1,)) / '(1,)type'.\n",
      "  _np_qint16 = np.dtype([(\"qint16\", np.int16, 1)])\n",
      "/home/mj/.local/lib/python3.7/site-packages/tensorflow/python/framework/dtypes.py:519: FutureWarning: Passing (type, 1) or '1type' as a synonym of type is deprecated; in a future version of numpy, it will be understood as (type, (1,)) / '(1,)type'.\n",
      "  _np_quint16 = np.dtype([(\"quint16\", np.uint16, 1)])\n",
      "/home/mj/.local/lib/python3.7/site-packages/tensorflow/python/framework/dtypes.py:520: FutureWarning: Passing (type, 1) or '1type' as a synonym of type is deprecated; in a future version of numpy, it will be understood as (type, (1,)) / '(1,)type'.\n",
      "  _np_qint32 = np.dtype([(\"qint32\", np.int32, 1)])\n",
      "/home/mj/.local/lib/python3.7/site-packages/tensorflow/python/framework/dtypes.py:525: FutureWarning: Passing (type, 1) or '1type' as a synonym of type is deprecated; in a future version of numpy, it will be understood as (type, (1,)) / '(1,)type'.\n",
      "  np_resource = np.dtype([(\"resource\", np.ubyte, 1)])\n",
      "/home/mj/.local/lib/python3.7/site-packages/tensorboard/compat/tensorflow_stub/dtypes.py:541: FutureWarning: Passing (type, 1) or '1type' as a synonym of type is deprecated; in a future version of numpy, it will be understood as (type, (1,)) / '(1,)type'.\n",
      "  _np_qint8 = np.dtype([(\"qint8\", np.int8, 1)])\n",
      "/home/mj/.local/lib/python3.7/site-packages/tensorboard/compat/tensorflow_stub/dtypes.py:542: FutureWarning: Passing (type, 1) or '1type' as a synonym of type is deprecated; in a future version of numpy, it will be understood as (type, (1,)) / '(1,)type'.\n",
      "  _np_quint8 = np.dtype([(\"quint8\", np.uint8, 1)])\n",
      "/home/mj/.local/lib/python3.7/site-packages/tensorboard/compat/tensorflow_stub/dtypes.py:543: FutureWarning: Passing (type, 1) or '1type' as a synonym of type is deprecated; in a future version of numpy, it will be understood as (type, (1,)) / '(1,)type'.\n",
      "  _np_qint16 = np.dtype([(\"qint16\", np.int16, 1)])\n",
      "/home/mj/.local/lib/python3.7/site-packages/tensorboard/compat/tensorflow_stub/dtypes.py:544: FutureWarning: Passing (type, 1) or '1type' as a synonym of type is deprecated; in a future version of numpy, it will be understood as (type, (1,)) / '(1,)type'.\n",
      "  _np_quint16 = np.dtype([(\"quint16\", np.uint16, 1)])\n",
      "/home/mj/.local/lib/python3.7/site-packages/tensorboard/compat/tensorflow_stub/dtypes.py:545: FutureWarning: Passing (type, 1) or '1type' as a synonym of type is deprecated; in a future version of numpy, it will be understood as (type, (1,)) / '(1,)type'.\n",
      "  _np_qint32 = np.dtype([(\"qint32\", np.int32, 1)])\n",
      "/home/mj/.local/lib/python3.7/site-packages/tensorboard/compat/tensorflow_stub/dtypes.py:550: FutureWarning: Passing (type, 1) or '1type' as a synonym of type is deprecated; in a future version of numpy, it will be understood as (type, (1,)) / '(1,)type'.\n",
      "  np_resource = np.dtype([(\"resource\", np.ubyte, 1)])\n"
     ]
    }
   ],
   "source": [
    "import os\n",
    "import random\n",
    "import pandas as pd\n",
    "import numpy as np\n",
    "import matplotlib.pyplot as plt\n",
    "\n",
    "from imblearn.over_sampling import RandomOverSampler\n",
    "\n",
    "from keras.preprocessing.text import Tokenizer\n",
    "from keras.preprocessing.sequence import pad_sequences\n",
    "from keras.utils import to_categorical\n",
    "from keras.layers import Dense, Flatten, Input, Embedding, LSTM, Dropout, BatchNormalization, GRU\n",
    "from keras.models import Model, Sequential\n",
    "from keras.initializers import Constant\n",
    "from keras.callbacks import ModelCheckpoint, EarlyStopping\n",
    "from keras.optimizers import Adam, SGD, RMSprop\n",
    "\n",
    "from sklearn.model_selection import train_test_split\n",
    "\n",
    "from small_dataset import get_small_dataset\n",
    "from large_dataset_title import get_large_dataset\n",
    "\n",
    "from collections import Counter"
   ]
  },
  {
   "cell_type": "markdown",
   "metadata": {},
   "source": [
    "## Preliminaries"
   ]
  },
  {
   "cell_type": "code",
   "execution_count": 2,
   "metadata": {},
   "outputs": [],
   "source": [
    "def plot_confusion_matrix(y_true, y_pred, classes,\n",
    "                          normalize=False,\n",
    "                          title=None,\n",
    "                          cmap=plt.cm.Blues):\n",
    "    \"\"\"\n",
    "    This function prints and plots the confusion matrix.\n",
    "    Normalization can be applied by setting `normalize=True`.\n",
    "    \"\"\"\n",
    "    if not title:\n",
    "        if normalize:\n",
    "            title = 'Normalized confusion matrix'\n",
    "        else:\n",
    "            title = 'Confusion matrix, without normalization'\n",
    "\n",
    "    # Compute confusion matrix\n",
    "    cm = confusion_matrix(y_true, y_pred)\n",
    "    # Only use the labels that appear in the data\n",
    "    #classes = classes[unique_labels(y_true, y_pred)]\n",
    "    if normalize:\n",
    "        cm = cm.astype('float') / cm.sum(axis=1)[:, np.newaxis]\n",
    "        print(\"Normalized confusion matrix\")\n",
    "    else:\n",
    "        print('Confusion matrix, without normalization')\n",
    "\n",
    "    print(cm)\n",
    "\n",
    "    fig, ax = plt.subplots()\n",
    "    im = ax.imshow(cm, interpolation='nearest', cmap=cmap)\n",
    "    ax.figure.colorbar(im, ax=ax)\n",
    "    # We want to show all ticks...\n",
    "    ax.set(xticks=np.arange(cm.shape[1]),\n",
    "           yticks=np.arange(cm.shape[0]),\n",
    "           # ... and label them with the respective list entries\n",
    "           xticklabels=classes, yticklabels=classes,\n",
    "           title=title,\n",
    "           ylabel='True label',\n",
    "           xlabel='Predicted label')\n",
    "\n",
    "    # Rotate the tick labels and set their alignment.\n",
    "    plt.setp(ax.get_xticklabels(), rotation=45, ha=\"right\",\n",
    "             rotation_mode=\"anchor\")\n",
    "\n",
    "    # Loop over data dimensions and create text annotations.\n",
    "    fmt = '.2f' if normalize else 'd'\n",
    "    thresh = cm.max() / 2.\n",
    "    for i in range(cm.shape[0]):\n",
    "        for j in range(cm.shape[1]):\n",
    "            ax.text(j, i, format(cm[i, j], fmt),\n",
    "                    ha=\"center\", va=\"center\",\n",
    "                    color=\"white\" if cm[i, j] > thresh else \"black\")\n",
    "    fig.tight_layout()\n",
    "    return ax"
   ]
  },
  {
   "cell_type": "code",
   "execution_count": 3,
   "metadata": {},
   "outputs": [],
   "source": [
    "def print_cm(y_test, y_pred):\n",
    "    y_test = np.array(y_test)\n",
    "\n",
    "    y_pred_output = np.array([1 if y_pred[i] > 0.5 else 0 for i in range(len(y_pred))])\n",
    "    cm = confusion_matrix(y_test, y_pred_output)\n",
    "\n",
    "    class_names = [\"nonclickbait\", \"clickbait\"]\n",
    "    plot_confusion_matrix(y_test, y_pred_output, classes=class_names,\n",
    "                          title='Confusion matrix, without normalization')\n",
    "\n",
    "    # Plot normalized confusion matrix\n",
    "    plot_confusion_matrix(y_test, y_pred_output, classes=class_names, normalize=True,\n",
    "                          title='Normalized confusion matrix')\n",
    "\n",
    "    plt.show()"
   ]
  },
  {
   "cell_type": "code",
   "execution_count": 4,
   "metadata": {},
   "outputs": [],
   "source": [
    "# preprocess text to remove redundant things\n",
    "# courtesy of https://stackabuse.com/python-for-nlp-movie-sentiment-analysis-using-deep-learning-in-keras/\n",
    "import re\n",
    "\n",
    "def preprocess_text(sen):\n",
    "    # Remove punctuations and numbers\n",
    "    sentence = re.sub('[^a-zA-Z]', ' ', sen)\n",
    "\n",
    "    # Single character removal\n",
    "    sentence = re.sub(r\"\\s+[a-zA-Z]\\s+\", ' ', sentence)\n",
    "\n",
    "    # Removing multiple spaces\n",
    "    sentence = re.sub(r'\\s+', ' ', sentence)\n",
    "\n",
    "    return sentence"
   ]
  },
  {
   "cell_type": "code",
   "execution_count": 5,
   "metadata": {},
   "outputs": [
    {
     "name": "stdout",
     "output_type": "stream",
     "text": [
      "Indexing word vectors.\n",
      "Found 400000 word vectors.\n"
     ]
    }
   ],
   "source": [
    "\"\"\"\n",
    "Code courtesy of https://keras.io/examples/pretrained_word_embeddings/\n",
    "Inspiration also from https://blog.keras.io/using-pre-trained-word-embeddings-in-a-keras-model.html\n",
    "\"\"\"\n",
    "# load glove embeddings - only need to be run once\n",
    "BASE_DIR = ''\n",
    "GLOVE_DIR = os.path.join(BASE_DIR, 'glove.6B')\n",
    "EMBEDDING_DIM = 100  # because using glove.6B.100\n",
    "\n",
    "# first, build index mapping words in the embeddings set\n",
    "# to their embedding vector\n",
    "print('Indexing word vectors.')\n",
    "\n",
    "embeddings_dictionary = {}\n",
    "with open(os.path.join(GLOVE_DIR, 'glove.6B.100d.txt')) as f:\n",
    "    for line in f:\n",
    "        word, coefs = line.split(maxsplit=1)\n",
    "        coefs = np.fromstring(coefs, 'f', sep=' ')\n",
    "        embeddings_dictionary[word] = coefs\n",
    "\n",
    "print('Found %s word vectors.' % len(embeddings_dictionary))"
   ]
  },
  {
   "cell_type": "code",
   "execution_count": 6,
   "metadata": {},
   "outputs": [],
   "source": [
    "def plot_loss_accuracy(history):\n",
    "    # Plot training & validation accuracy values\n",
    "    plt.plot(history.history['accuracy'])\n",
    "    plt.plot(history.history['val_accuracy'])\n",
    "\n",
    "    plt.title('Model accuracy')\n",
    "    plt.ylabel('Accuracy')\n",
    "    plt.xlabel('Epoch')\n",
    "    plt.legend(['Train', 'Test'], loc='lower right')\n",
    "    plt.show()\n",
    "\n",
    "    # Plot training & validation loss values\n",
    "    plt.plot(history.history['loss'])\n",
    "    plt.plot(history.history['val_loss'])\n",
    "    plt.title('Model loss')\n",
    "    plt.ylabel('Loss')\n",
    "    plt.xlabel('Epoch')\n",
    "    plt.legend(['Train', 'Test'], loc='upper right')\n",
    "    plt.show()"
   ]
  },
  {
   "cell_type": "markdown",
   "metadata": {},
   "source": [
    "## Using normal deep neural network (1 dense layer)"
   ]
  },
  {
   "cell_type": "code",
   "execution_count": 7,
   "metadata": {},
   "outputs": [
    {
     "data": {
      "text/plain": [
       "'World Anti-Doping Agency lifts ban on Madrid laboratory'"
      ]
     },
     "execution_count": 7,
     "metadata": {},
     "output_type": "execute_result"
    }
   ],
   "source": [
    "# get dataset\n",
    "df = get_large_dataset()\n",
    "df[\"title\"][5]"
   ]
  },
  {
   "cell_type": "code",
   "execution_count": 8,
   "metadata": {},
   "outputs": [
    {
     "name": "stdout",
     "output_type": "stream",
     "text": [
      "dataset shape [(0, 14777), (1, 4761)]\n"
     ]
    }
   ],
   "source": [
    "X = df[\"title\"]\n",
    "y = df[\"label\"]\n",
    "y = [1 if y[i] == '1' else 0 for i in range(len(y))]\n",
    "\n",
    "print('dataset shape %s' % sorted(Counter(y).items()))"
   ]
  },
  {
   "cell_type": "code",
   "execution_count": 9,
   "metadata": {},
   "outputs": [
    {
     "data": {
      "text/plain": [
       "<matplotlib.axes._subplots.AxesSubplot at 0x7f8e029c5850>"
      ]
     },
     "execution_count": 9,
     "metadata": {},
     "output_type": "execute_result"
    },
    {
     "data": {
      "image/png": "[encoded data removed]",
      "text/plain": [
       "<Figure size 432x288 with 1 Axes>"
      ]
     },
     "metadata": {
      "needs_background": "light"
     },
     "output_type": "display_data"
    }
   ],
   "source": [
    "# visualise number of instances of each label\n",
    "import seaborn as sns\n",
    "\n",
    "sns.countplot(y)"
   ]
  },
  {
   "cell_type": "code",
   "execution_count": 10,
   "metadata": {},
   "outputs": [
    {
     "name": "stdout",
     "output_type": "stream",
     "text": [
      "Melissa Etheridge: ‘I’d Much Rather Have a Smoke With My Grown Kids Than a Drink’ [Video]\n",
      "Melissa Etheridge d Much Rather Have Smoke With My Grown Kids Than Drink Video \n"
     ]
    }
   ],
   "source": [
    "print(X[99])\n",
    "X_processed = [preprocess_text(X[i]) for i in range(len(X))]\n",
    "print(X_processed[99])"
   ]
  },
  {
   "cell_type": "code",
   "execution_count": 11,
   "metadata": {},
   "outputs": [],
   "source": [
    "# split dataset into train and test\n",
    "X_train_temp, X_test, y_train_temp, y_test = train_test_split(X_processed, y, test_size=0.20, random_state=42)"
   ]
  },
  {
   "cell_type": "code",
   "execution_count": 12,
   "metadata": {},
   "outputs": [
    {
     "name": "stdout",
     "output_type": "stream",
     "text": [
      "Original dataset shape Counter({0: 14777, 1: 4761})\n"
     ]
    }
   ],
   "source": [
    "# oversample X_train and y_train\n",
    "# oversample minority instances (clickbait) to equalise number of instances\n",
    "\n",
    "print('Original dataset shape %s' % Counter(y))\n",
    "ros = RandomOverSampler(random_state=0)\n",
    "X_train_temp2 = np.asarray(X_train_temp)\n",
    "X_reshaped = X_train_temp2.reshape(-1, 1)\n",
    "X_train, y_train = ros.fit_resample(X_reshaped, y_train_temp)"
   ]
  },
  {
   "cell_type": "code",
   "execution_count": 15,
   "metadata": {},
   "outputs": [
    {
     "name": "stdout",
     "output_type": "stream",
     "text": [
      "Found 19246 unique tokens.\n"
     ]
    }
   ],
   "source": [
    "# create a word-to-index dictionary\n",
    "MAX_NUM_WORDS = 20000\n",
    "tokenizer = Tokenizer(num_words=MAX_NUM_WORDS)\n",
    "X_train_list = [X_train[i][0] for i in range(len(X_train))]\n",
    "tokenizer.fit_on_texts(X_train_list)\n",
    "\n",
    "X_train_tok = tokenizer.texts_to_sequences(X_train_list)\n",
    "X_test_tok = tokenizer.texts_to_sequences(X_test)\n",
    "\n",
    "word_index = tokenizer.word_index\n",
    "print('Found %s unique tokens.' % len(word_index))"
   ]
  },
  {
   "cell_type": "code",
   "execution_count": 16,
   "metadata": {},
   "outputs": [
    {
     "name": "stdout",
     "output_type": "stream",
     "text": [
      "Shape of data tensor: (23650, 100)\n",
      "Shape of label tensor: (23650,)\n"
     ]
    }
   ],
   "source": [
    "# Adding 1 because of reserved 0 index\n",
    "vocab_size = len(tokenizer.word_index) + 1\n",
    "\n",
    "maxlen = 100\n",
    "\n",
    "X_train_padded = pad_sequences(X_train_tok, padding='post', maxlen=maxlen)\n",
    "X_test_padded = pad_sequences(X_test_tok, padding='post', maxlen=maxlen)\n",
    "\n",
    "print('Shape of data tensor:', X_train_padded.shape)\n",
    "print('Shape of label tensor:', y_train.shape)"
   ]
  },
  {
   "cell_type": "code",
   "execution_count": 17,
   "metadata": {},
   "outputs": [],
   "source": [
    "# create an embedding matrix where each row number will correspond to the index of the word in the corpus\n",
    "embedding_matrix = np.zeros((vocab_size, 100))\n",
    "for word, index in tokenizer.word_index.items():\n",
    "    embedding_vector = embeddings_dictionary.get(word)\n",
    "    if embedding_vector is not None:\n",
    "        embedding_matrix[index] = embedding_vector"
   ]
  },
  {
   "cell_type": "code",
   "execution_count": 18,
   "metadata": {},
   "outputs": [
    {
     "name": "stdout",
     "output_type": "stream",
     "text": [
      "WARNING:tensorflow:From /home/mj/.local/lib/python3.7/site-packages/tensorflow/python/ops/nn_impl.py:180: add_dispatch_support.<locals>.wrapper (from tensorflow.python.ops.array_ops) is deprecated and will be removed in a future version.\n",
      "Instructions for updating:\n",
      "Use tf.where in 2.0, which has the same broadcast rule as np.where\n",
      "Model: \"sequential_1\"\n",
      "_________________________________________________________________\n",
      "Layer (type)                 Output Shape              Param #   \n",
      "=================================================================\n",
      "embedding_1 (Embedding)      (None, 100, 100)          1924700   \n",
      "_________________________________________________________________\n",
      "flatten_1 (Flatten)          (None, 10000)             0         \n",
      "_________________________________________________________________\n",
      "dropout_1 (Dropout)          (None, 10000)             0         \n",
      "_________________________________________________________________\n",
      "dense_1 (Dense)              (None, 128)               1280128   \n",
      "_________________________________________________________________\n",
      "batch_normalization_1 (Batch (None, 128)               512       \n",
      "_________________________________________________________________\n",
      "dense_2 (Dense)              (None, 1)                 129       \n",
      "=================================================================\n",
      "Total params: 3,205,469\n",
      "Trainable params: 1,280,513\n",
      "Non-trainable params: 1,924,956\n",
      "_________________________________________________________________\n",
      "None\n"
     ]
    }
   ],
   "source": [
    "# set up models\n",
    "dropout = 0.5\n",
    "dropout_embedding = 0.2\n",
    "learning_rate = 1e-5\n",
    "\n",
    "model = Sequential()\n",
    "model.add(Embedding(vocab_size, 100, weights=[embedding_matrix], input_length=maxlen, trainable=False))\n",
    "model.add(Flatten())\n",
    "model.add(Dropout(dropout))\n",
    "model.add(Dense(128, batch_size=3, activation='relu'))\n",
    "model.add(BatchNormalization())\n",
    "model.add(Dense(1, activation='sigmoid', kernel_initializer='glorot_normal'))\n",
    "\n",
    "opt = Adam(lr=1e-5)\n",
    "\n",
    "model.compile(loss='binary_crossentropy', optimizer=opt, metrics=['accuracy'])\n",
    "print(model.summary())"
   ]
  },
  {
   "cell_type": "code",
   "execution_count": 19,
   "metadata": {},
   "outputs": [],
   "source": [
    "### Create model checkpoint\n",
    "output_dir = os.getcwd()\n",
    "modelcheckpoint = ModelCheckpoint(filepath = output_dir + \"/DNN_oversampledafter.{epoch:02d}-{val_loss:.2f}.hdf5\",\n",
    "                                 monitor='val_loss', verbose=1, save_best_only=True)\n",
    "callbacks_list = [modelcheckpoint]#, EarlyStopping(monitor = \"val_loss\", patience = 15)]"
   ]
  },
  {
   "cell_type": "code",
   "execution_count": 20,
   "metadata": {},
   "outputs": [
    {
     "name": "stdout",
     "output_type": "stream",
     "text": [
      "WARNING:tensorflow:From /home/mj/.local/lib/python3.7/site-packages/keras/backend/tensorflow_backend.py:422: The name tf.global_variables is deprecated. Please use tf.compat.v1.global_variables instead.\n",
      "\n",
      "Train on 18920 samples, validate on 4730 samples\n",
      "Epoch 1/100\n",
      "18920/18920 [==============================] - 11s 566us/step - loss: 0.7887 - accuracy: 0.5561 - val_loss: 0.5013 - val_accuracy: 0.7789\n",
      "\n",
      "Epoch 00001: val_loss improved from inf to 0.50126, saving model to /home/mj/Documents/School_Work/CS3244/PROJECT/CS3244Project/RNN/DNN_oversampledafter.01-0.50.hdf5\n",
      "Epoch 2/100\n",
      "18920/18920 [==============================] - 10s 550us/step - loss: 0.7230 - accuracy: 0.5992 - val_loss: 0.4937 - val_accuracy: 0.7767\n",
      "\n",
      "Epoch 00002: val_loss improved from 0.50126 to 0.49369, saving model to /home/mj/Documents/School_Work/CS3244/PROJECT/CS3244Project/RNN/DNN_oversampledafter.02-0.49.hdf5\n",
      "Epoch 3/100\n",
      "18920/18920 [==============================] - 10s 518us/step - loss: 0.6787 - accuracy: 0.6292 - val_loss: 0.4915 - val_accuracy: 0.7700\n",
      "\n",
      "Epoch 00003: val_loss improved from 0.49369 to 0.49149, saving model to /home/mj/Documents/School_Work/CS3244/PROJECT/CS3244Project/RNN/DNN_oversampledafter.03-0.49.hdf5\n",
      "Epoch 4/100\n",
      "18920/18920 [==============================] - 10s 542us/step - loss: 0.6543 - accuracy: 0.6458 - val_loss: 0.5228 - val_accuracy: 0.7389\n",
      "\n",
      "Epoch 00004: val_loss did not improve from 0.49149\n",
      "Epoch 5/100\n",
      "18920/18920 [==============================] - 11s 577us/step - loss: 0.6373 - accuracy: 0.6609 - val_loss: 0.5091 - val_accuracy: 0.7459\n",
      "\n",
      "Epoch 00005: val_loss did not improve from 0.49149\n",
      "Epoch 6/100\n",
      "18920/18920 [==============================] - 12s 620us/step - loss: 0.6176 - accuracy: 0.6719 - val_loss: 0.5114 - val_accuracy: 0.7402\n",
      "\n",
      "Epoch 00006: val_loss did not improve from 0.49149\n",
      "Epoch 7/100\n",
      "18920/18920 [==============================] - 14s 765us/step - loss: 0.6020 - accuracy: 0.6822 - val_loss: 0.5137 - val_accuracy: 0.7374\n",
      "\n",
      "Epoch 00007: val_loss did not improve from 0.49149\n",
      "Epoch 8/100\n",
      "18920/18920 [==============================] - 14s 760us/step - loss: 0.5948 - accuracy: 0.6884 - val_loss: 0.5083 - val_accuracy: 0.7410\n",
      "\n",
      "Epoch 00008: val_loss did not improve from 0.49149\n",
      "Epoch 9/100\n",
      "18920/18920 [==============================] - 17s 904us/step - loss: 0.5824 - accuracy: 0.6953 - val_loss: 0.5267 - val_accuracy: 0.7273\n",
      "\n",
      "Epoch 00009: val_loss did not improve from 0.49149\n",
      "Epoch 10/100\n",
      "18920/18920 [==============================] - 17s 912us/step - loss: 0.5771 - accuracy: 0.7007 - val_loss: 0.5201 - val_accuracy: 0.7338\n",
      "\n",
      "Epoch 00010: val_loss did not improve from 0.49149\n",
      "Epoch 11/100\n",
      "18920/18920 [==============================] - 15s 807us/step - loss: 0.5666 - accuracy: 0.7079 - val_loss: 0.5008 - val_accuracy: 0.7569\n",
      "\n",
      "Epoch 00011: val_loss did not improve from 0.49149\n",
      "Epoch 12/100\n",
      "18920/18920 [==============================] - 13s 708us/step - loss: 0.5618 - accuracy: 0.7113 - val_loss: 0.5110 - val_accuracy: 0.7452\n",
      "\n",
      "Epoch 00012: val_loss did not improve from 0.49149\n",
      "Epoch 13/100\n",
      "18920/18920 [==============================] - 13s 662us/step - loss: 0.5568 - accuracy: 0.7170 - val_loss: 0.5195 - val_accuracy: 0.7317\n",
      "\n",
      "Epoch 00013: val_loss did not improve from 0.49149\n",
      "Epoch 14/100\n",
      "18920/18920 [==============================] - 13s 700us/step - loss: 0.5550 - accuracy: 0.7187 - val_loss: 0.5291 - val_accuracy: 0.7300\n",
      "\n",
      "Epoch 00014: val_loss did not improve from 0.49149\n",
      "Epoch 15/100\n",
      "18920/18920 [==============================] - 12s 643us/step - loss: 0.5511 - accuracy: 0.7215 - val_loss: 0.5196 - val_accuracy: 0.7323\n",
      "\n",
      "Epoch 00015: val_loss did not improve from 0.49149\n",
      "Epoch 16/100\n",
      "18920/18920 [==============================] - 12s 645us/step - loss: 0.5439 - accuracy: 0.7283 - val_loss: 0.5351 - val_accuracy: 0.7178\n",
      "\n",
      "Epoch 00016: val_loss did not improve from 0.49149\n",
      "Epoch 17/100\n",
      "18920/18920 [==============================] - 12s 619us/step - loss: 0.5409 - accuracy: 0.7262 - val_loss: 0.5338 - val_accuracy: 0.7218\n",
      "\n",
      "Epoch 00017: val_loss did not improve from 0.49149\n",
      "Epoch 18/100\n",
      "18920/18920 [==============================] - 12s 637us/step - loss: 0.5407 - accuracy: 0.7250 - val_loss: 0.5357 - val_accuracy: 0.7154\n",
      "\n",
      "Epoch 00018: val_loss did not improve from 0.49149\n",
      "Epoch 19/100\n",
      "18920/18920 [==============================] - 12s 631us/step - loss: 0.5403 - accuracy: 0.7274 - val_loss: 0.5371 - val_accuracy: 0.7129\n",
      "\n",
      "Epoch 00019: val_loss did not improve from 0.49149\n",
      "Epoch 20/100\n",
      "18920/18920 [==============================] - 12s 635us/step - loss: 0.5316 - accuracy: 0.7314 - val_loss: 0.5464 - val_accuracy: 0.7063\n",
      "\n",
      "Epoch 00020: val_loss did not improve from 0.49149\n",
      "Epoch 21/100\n",
      "18920/18920 [==============================] - 12s 626us/step - loss: 0.5359 - accuracy: 0.7297 - val_loss: 0.5163 - val_accuracy: 0.7279\n",
      "\n",
      "Epoch 00021: val_loss did not improve from 0.49149\n",
      "Epoch 22/100\n",
      "18920/18920 [==============================] - 12s 628us/step - loss: 0.5354 - accuracy: 0.7341 - val_loss: 0.5380 - val_accuracy: 0.7112\n",
      "\n",
      "Epoch 00022: val_loss did not improve from 0.49149\n",
      "Epoch 23/100\n",
      "18920/18920 [==============================] - 12s 623us/step - loss: 0.5351 - accuracy: 0.7294 - val_loss: 0.5395 - val_accuracy: 0.7101\n",
      "\n",
      "Epoch 00023: val_loss did not improve from 0.49149\n",
      "Epoch 24/100\n",
      "18920/18920 [==============================] - 12s 636us/step - loss: 0.5305 - accuracy: 0.7332 - val_loss: 0.5182 - val_accuracy: 0.7283\n",
      "\n",
      "Epoch 00024: val_loss did not improve from 0.49149\n",
      "Epoch 25/100\n",
      "18920/18920 [==============================] - 12s 619us/step - loss: 0.5256 - accuracy: 0.7400 - val_loss: 0.5086 - val_accuracy: 0.7404\n",
      "\n",
      "Epoch 00025: val_loss did not improve from 0.49149\n",
      "Epoch 26/100\n",
      "18920/18920 [==============================] - 12s 623us/step - loss: 0.5253 - accuracy: 0.7397 - val_loss: 0.5154 - val_accuracy: 0.7355\n",
      "\n",
      "Epoch 00026: val_loss did not improve from 0.49149\n",
      "Epoch 27/100\n",
      "18920/18920 [==============================] - 12s 631us/step - loss: 0.5251 - accuracy: 0.7342 - val_loss: 0.5126 - val_accuracy: 0.7372\n",
      "\n",
      "Epoch 00027: val_loss did not improve from 0.49149\n",
      "Epoch 28/100\n",
      "18920/18920 [==============================] - 13s 665us/step - loss: 0.5173 - accuracy: 0.7423 - val_loss: 0.5218 - val_accuracy: 0.7300\n",
      "\n",
      "Epoch 00028: val_loss did not improve from 0.49149\n",
      "Epoch 29/100\n",
      "18920/18920 [==============================] - 16s 827us/step - loss: 0.5190 - accuracy: 0.7408 - val_loss: 0.5054 - val_accuracy: 0.7425\n",
      "\n",
      "Epoch 00029: val_loss did not improve from 0.49149\n",
      "Epoch 30/100\n",
      "18920/18920 [==============================] - 15s 806us/step - loss: 0.5198 - accuracy: 0.7428 - val_loss: 0.5261 - val_accuracy: 0.7317\n",
      "\n",
      "Epoch 00030: val_loss did not improve from 0.49149\n",
      "Epoch 31/100\n",
      "18920/18920 [==============================] - 14s 764us/step - loss: 0.5145 - accuracy: 0.7461 - val_loss: 0.5382 - val_accuracy: 0.7175\n",
      "\n",
      "Epoch 00031: val_loss did not improve from 0.49149\n",
      "Epoch 32/100\n",
      "18920/18920 [==============================] - 14s 753us/step - loss: 0.5153 - accuracy: 0.7421 - val_loss: 0.4997 - val_accuracy: 0.7499\n",
      "\n",
      "Epoch 00032: val_loss did not improve from 0.49149\n",
      "Epoch 33/100\n",
      "18920/18920 [==============================] - 14s 729us/step - loss: 0.5116 - accuracy: 0.7467 - val_loss: 0.4673 - val_accuracy: 0.7746\n",
      "\n",
      "Epoch 00033: val_loss improved from 0.49149 to 0.46731, saving model to /home/mj/Documents/School_Work/CS3244/PROJECT/CS3244Project/RNN/DNN_oversampledafter.33-0.47.hdf5\n",
      "Epoch 34/100\n",
      "18920/18920 [==============================] - 15s 774us/step - loss: 0.5122 - accuracy: 0.7445 - val_loss: 0.4980 - val_accuracy: 0.7529\n",
      "\n",
      "Epoch 00034: val_loss did not improve from 0.46731\n",
      "Epoch 35/100\n",
      "18920/18920 [==============================] - 16s 860us/step - loss: 0.5099 - accuracy: 0.7467 - val_loss: 0.4843 - val_accuracy: 0.7632\n",
      "\n",
      "Epoch 00035: val_loss did not improve from 0.46731\n",
      "Epoch 36/100\n",
      "18920/18920 [==============================] - 20s 1ms/step - loss: 0.5054 - accuracy: 0.7527 - val_loss: 0.4839 - val_accuracy: 0.7628\n",
      "\n",
      "Epoch 00036: val_loss did not improve from 0.46731\n",
      "Epoch 37/100\n",
      "18920/18920 [==============================] - 20s 1ms/step - loss: 0.5014 - accuracy: 0.7519 - val_loss: 0.4743 - val_accuracy: 0.7712\n",
      "\n",
      "Epoch 00037: val_loss did not improve from 0.46731\n",
      "Epoch 38/100\n"
     ]
    },
    {
     "name": "stdout",
     "output_type": "stream",
     "text": [
      "18920/18920 [==============================] - 16s 865us/step - loss: 0.5036 - accuracy: 0.7496 - val_loss: 0.4646 - val_accuracy: 0.7854\n",
      "\n",
      "Epoch 00038: val_loss improved from 0.46731 to 0.46458, saving model to /home/mj/Documents/School_Work/CS3244/PROJECT/CS3244Project/RNN/DNN_oversampledafter.38-0.46.hdf5\n",
      "Epoch 39/100\n",
      "18920/18920 [==============================] - 13s 670us/step - loss: 0.4992 - accuracy: 0.7554 - val_loss: 0.4918 - val_accuracy: 0.7567\n",
      "\n",
      "Epoch 00039: val_loss did not improve from 0.46458\n",
      "Epoch 40/100\n",
      "18920/18920 [==============================] - 12s 616us/step - loss: 0.5004 - accuracy: 0.7539 - val_loss: 0.4800 - val_accuracy: 0.7719\n",
      "\n",
      "Epoch 00040: val_loss did not improve from 0.46458\n",
      "Epoch 41/100\n",
      "18920/18920 [==============================] - 12s 649us/step - loss: 0.4991 - accuracy: 0.7558 - val_loss: 0.4976 - val_accuracy: 0.7556\n",
      "\n",
      "Epoch 00041: val_loss did not improve from 0.46458\n",
      "Epoch 42/100\n",
      "18920/18920 [==============================] - 14s 714us/step - loss: 0.4994 - accuracy: 0.7525 - val_loss: 0.4414 - val_accuracy: 0.8063\n",
      "\n",
      "Epoch 00042: val_loss improved from 0.46458 to 0.44140, saving model to /home/mj/Documents/School_Work/CS3244/PROJECT/CS3244Project/RNN/DNN_oversampledafter.42-0.44.hdf5\n",
      "Epoch 43/100\n",
      "18920/18920 [==============================] - 12s 644us/step - loss: 0.4923 - accuracy: 0.7581 - val_loss: 0.4597 - val_accuracy: 0.7915\n",
      "\n",
      "Epoch 00043: val_loss did not improve from 0.44140\n",
      "Epoch 44/100\n",
      "18920/18920 [==============================] - 13s 685us/step - loss: 0.4887 - accuracy: 0.7593 - val_loss: 0.4608 - val_accuracy: 0.7937\n",
      "\n",
      "Epoch 00044: val_loss did not improve from 0.44140\n",
      "Epoch 45/100\n",
      "18920/18920 [==============================] - 14s 747us/step - loss: 0.4872 - accuracy: 0.7617 - val_loss: 0.4423 - val_accuracy: 0.8070\n",
      "\n",
      "Epoch 00045: val_loss did not improve from 0.44140\n",
      "Epoch 46/100\n",
      "18920/18920 [==============================] - 14s 727us/step - loss: 0.4858 - accuracy: 0.7640 - val_loss: 0.4429 - val_accuracy: 0.8082\n",
      "\n",
      "Epoch 00046: val_loss did not improve from 0.44140\n",
      "Epoch 47/100\n",
      "18920/18920 [==============================] - 14s 738us/step - loss: 0.4834 - accuracy: 0.7660 - val_loss: 0.4615 - val_accuracy: 0.7928\n",
      "\n",
      "Epoch 00047: val_loss did not improve from 0.44140\n",
      "Epoch 48/100\n",
      "18920/18920 [==============================] - 13s 692us/step - loss: 0.4832 - accuracy: 0.7633 - val_loss: 0.4425 - val_accuracy: 0.8106\n",
      "\n",
      "Epoch 00048: val_loss did not improve from 0.44140\n",
      "Epoch 49/100\n",
      "18920/18920 [==============================] - 13s 694us/step - loss: 0.4805 - accuracy: 0.7665 - val_loss: 0.4423 - val_accuracy: 0.8133\n",
      "\n",
      "Epoch 00049: val_loss did not improve from 0.44140\n",
      "Epoch 50/100\n",
      "18920/18920 [==============================] - 13s 698us/step - loss: 0.4818 - accuracy: 0.7672 - val_loss: 0.4295 - val_accuracy: 0.8275\n",
      "\n",
      "Epoch 00050: val_loss improved from 0.44140 to 0.42949, saving model to /home/mj/Documents/School_Work/CS3244/PROJECT/CS3244Project/RNN/DNN_oversampledafter.50-0.43.hdf5\n",
      "Epoch 51/100\n",
      "18920/18920 [==============================] - 13s 673us/step - loss: 0.4783 - accuracy: 0.7672 - val_loss: 0.4320 - val_accuracy: 0.8216\n",
      "\n",
      "Epoch 00051: val_loss did not improve from 0.42949\n",
      "Epoch 52/100\n",
      "18920/18920 [==============================] - 12s 622us/step - loss: 0.4774 - accuracy: 0.7658 - val_loss: 0.4243 - val_accuracy: 0.8273\n",
      "\n",
      "Epoch 00052: val_loss improved from 0.42949 to 0.42427, saving model to /home/mj/Documents/School_Work/CS3244/PROJECT/CS3244Project/RNN/DNN_oversampledafter.52-0.42.hdf5\n",
      "Epoch 53/100\n",
      "18920/18920 [==============================] - 12s 628us/step - loss: 0.4787 - accuracy: 0.7669 - val_loss: 0.4233 - val_accuracy: 0.8283\n",
      "\n",
      "Epoch 00053: val_loss improved from 0.42427 to 0.42333, saving model to /home/mj/Documents/School_Work/CS3244/PROJECT/CS3244Project/RNN/DNN_oversampledafter.53-0.42.hdf5\n",
      "Epoch 54/100\n",
      "18920/18920 [==============================] - 13s 691us/step - loss: 0.4746 - accuracy: 0.7714 - val_loss: 0.4245 - val_accuracy: 0.8245\n",
      "\n",
      "Epoch 00054: val_loss did not improve from 0.42333\n",
      "Epoch 55/100\n",
      "18920/18920 [==============================] - 16s 819us/step - loss: 0.4721 - accuracy: 0.7776 - val_loss: 0.4059 - val_accuracy: 0.8419\n",
      "\n",
      "Epoch 00055: val_loss improved from 0.42333 to 0.40589, saving model to /home/mj/Documents/School_Work/CS3244/PROJECT/CS3244Project/RNN/DNN_oversampledafter.55-0.41.hdf5\n",
      "Epoch 56/100\n",
      "18920/18920 [==============================] - 17s 874us/step - loss: 0.4673 - accuracy: 0.7773 - val_loss: 0.4275 - val_accuracy: 0.8224\n",
      "\n",
      "Epoch 00056: val_loss did not improve from 0.40589\n",
      "Epoch 57/100\n",
      "18920/18920 [==============================] - 19s 1ms/step - loss: 0.4709 - accuracy: 0.7766 - val_loss: 0.4103 - val_accuracy: 0.8408\n",
      "\n",
      "Epoch 00057: val_loss did not improve from 0.40589\n",
      "Epoch 58/100\n",
      "18920/18920 [==============================] - 14s 766us/step - loss: 0.4638 - accuracy: 0.7767 - val_loss: 0.4169 - val_accuracy: 0.8378\n",
      "\n",
      "Epoch 00058: val_loss did not improve from 0.40589\n",
      "Epoch 59/100\n",
      "18920/18920 [==============================] - 12s 642us/step - loss: 0.4629 - accuracy: 0.7823 - val_loss: 0.4133 - val_accuracy: 0.8385\n",
      "\n",
      "Epoch 00059: val_loss did not improve from 0.40589\n",
      "Epoch 60/100\n",
      "18920/18920 [==============================] - 12s 635us/step - loss: 0.4610 - accuracy: 0.7809 - val_loss: 0.4016 - val_accuracy: 0.8505\n",
      "\n",
      "Epoch 00060: val_loss improved from 0.40589 to 0.40165, saving model to /home/mj/Documents/School_Work/CS3244/PROJECT/CS3244Project/RNN/DNN_oversampledafter.60-0.40.hdf5\n",
      "Epoch 61/100\n",
      "18920/18920 [==============================] - 12s 645us/step - loss: 0.4581 - accuracy: 0.7817 - val_loss: 0.4062 - val_accuracy: 0.8452\n",
      "\n",
      "Epoch 00061: val_loss did not improve from 0.40165\n",
      "Epoch 62/100\n",
      "18920/18920 [==============================] - 12s 647us/step - loss: 0.4607 - accuracy: 0.7797 - val_loss: 0.4001 - val_accuracy: 0.8507\n",
      "\n",
      "Epoch 00062: val_loss improved from 0.40165 to 0.40006, saving model to /home/mj/Documents/School_Work/CS3244/PROJECT/CS3244Project/RNN/DNN_oversampledafter.62-0.40.hdf5\n",
      "Epoch 63/100\n",
      "18920/18920 [==============================] - 12s 627us/step - loss: 0.4502 - accuracy: 0.7894 - val_loss: 0.3956 - val_accuracy: 0.8562\n",
      "\n",
      "Epoch 00063: val_loss improved from 0.40006 to 0.39556, saving model to /home/mj/Documents/School_Work/CS3244/PROJECT/CS3244Project/RNN/DNN_oversampledafter.63-0.40.hdf5\n",
      "Epoch 64/100\n",
      "18920/18920 [==============================] - 12s 635us/step - loss: 0.4559 - accuracy: 0.7860 - val_loss: 0.3990 - val_accuracy: 0.8539\n",
      "\n",
      "Epoch 00064: val_loss did not improve from 0.39556\n",
      "Epoch 65/100\n",
      "18920/18920 [==============================] - 13s 706us/step - loss: 0.4502 - accuracy: 0.7901 - val_loss: 0.3960 - val_accuracy: 0.8526\n",
      "\n",
      "Epoch 00065: val_loss did not improve from 0.39556\n",
      "Epoch 66/100\n",
      "18920/18920 [==============================] - 16s 843us/step - loss: 0.4512 - accuracy: 0.7868 - val_loss: 0.3903 - val_accuracy: 0.8596\n",
      "\n",
      "Epoch 00066: val_loss improved from 0.39556 to 0.39031, saving model to /home/mj/Documents/School_Work/CS3244/PROJECT/CS3244Project/RNN/DNN_oversampledafter.66-0.39.hdf5\n",
      "Epoch 67/100\n",
      "18920/18920 [==============================] - 14s 751us/step - loss: 0.4454 - accuracy: 0.7909 - val_loss: 0.3977 - val_accuracy: 0.8539\n",
      "\n",
      "Epoch 00067: val_loss did not improve from 0.39031\n",
      "Epoch 68/100\n",
      "18920/18920 [==============================] - 13s 707us/step - loss: 0.4463 - accuracy: 0.7914 - val_loss: 0.3968 - val_accuracy: 0.8539\n",
      "\n",
      "Epoch 00068: val_loss did not improve from 0.39031\n",
      "Epoch 69/100\n",
      "18920/18920 [==============================] - 14s 735us/step - loss: 0.4430 - accuracy: 0.7932 - val_loss: 0.3781 - val_accuracy: 0.8700\n",
      "\n",
      "Epoch 00069: val_loss improved from 0.39031 to 0.37811, saving model to /home/mj/Documents/School_Work/CS3244/PROJECT/CS3244Project/RNN/DNN_oversampledafter.69-0.38.hdf5\n",
      "Epoch 70/100\n",
      "18920/18920 [==============================] - 16s 822us/step - loss: 0.4434 - accuracy: 0.7904 - val_loss: 0.3686 - val_accuracy: 0.8727\n",
      "\n",
      "Epoch 00070: val_loss improved from 0.37811 to 0.36860, saving model to /home/mj/Documents/School_Work/CS3244/PROJECT/CS3244Project/RNN/DNN_oversampledafter.70-0.37.hdf5\n",
      "Epoch 71/100\n",
      "18920/18920 [==============================] - 13s 706us/step - loss: 0.4347 - accuracy: 0.7993 - val_loss: 0.3726 - val_accuracy: 0.8742\n",
      "\n",
      "Epoch 00071: val_loss did not improve from 0.36860\n",
      "Epoch 72/100\n",
      "18920/18920 [==============================] - 14s 741us/step - loss: 0.4337 - accuracy: 0.8032 - val_loss: 0.3662 - val_accuracy: 0.8755\n",
      "\n",
      "Epoch 00072: val_loss improved from 0.36860 to 0.36621, saving model to /home/mj/Documents/School_Work/CS3244/PROJECT/CS3244Project/RNN/DNN_oversampledafter.72-0.37.hdf5\n",
      "Epoch 73/100\n",
      "18920/18920 [==============================] - 15s 768us/step - loss: 0.4335 - accuracy: 0.7977 - val_loss: 0.3680 - val_accuracy: 0.8753\n",
      "\n",
      "Epoch 00073: val_loss did not improve from 0.36621\n",
      "Epoch 74/100\n",
      "18920/18920 [==============================] - 18s 969us/step - loss: 0.4317 - accuracy: 0.8008 - val_loss: 0.3543 - val_accuracy: 0.8829\n",
      "\n",
      "Epoch 00074: val_loss improved from 0.36621 to 0.35427, saving model to /home/mj/Documents/School_Work/CS3244/PROJECT/CS3244Project/RNN/DNN_oversampledafter.74-0.35.hdf5\n",
      "Epoch 75/100\n",
      "18920/18920 [==============================] - 15s 778us/step - loss: 0.4357 - accuracy: 0.8002 - val_loss: 0.3537 - val_accuracy: 0.8856\n",
      "\n",
      "Epoch 00075: val_loss improved from 0.35427 to 0.35370, saving model to /home/mj/Documents/School_Work/CS3244/PROJECT/CS3244Project/RNN/DNN_oversampledafter.75-0.35.hdf5\n",
      "Epoch 76/100\n",
      "18920/18920 [==============================] - 12s 647us/step - loss: 0.4277 - accuracy: 0.8066 - val_loss: 0.3570 - val_accuracy: 0.8848\n",
      "\n",
      "Epoch 00076: val_loss did not improve from 0.35370\n",
      "Epoch 77/100\n",
      "18920/18920 [==============================] - 12s 621us/step - loss: 0.4271 - accuracy: 0.8026 - val_loss: 0.3479 - val_accuracy: 0.8863\n",
      "\n",
      "Epoch 00077: val_loss improved from 0.35370 to 0.34788, saving model to /home/mj/Documents/School_Work/CS3244/PROJECT/CS3244Project/RNN/DNN_oversampledafter.77-0.35.hdf5\n",
      "Epoch 78/100\n",
      "18920/18920 [==============================] - 13s 664us/step - loss: 0.4215 - accuracy: 0.8094 - val_loss: 0.3561 - val_accuracy: 0.8850\n",
      "\n",
      "Epoch 00078: val_loss did not improve from 0.34788\n",
      "Epoch 79/100\n",
      "18920/18920 [==============================] - 13s 691us/step - loss: 0.4242 - accuracy: 0.8046 - val_loss: 0.3495 - val_accuracy: 0.8890\n",
      "\n",
      "Epoch 00079: val_loss did not improve from 0.34788\n",
      "Epoch 80/100\n",
      "18920/18920 [==============================] - 13s 699us/step - loss: 0.4186 - accuracy: 0.8103 - val_loss: 0.3408 - val_accuracy: 0.8932\n",
      "\n",
      "Epoch 00080: val_loss improved from 0.34788 to 0.34080, saving model to /home/mj/Documents/School_Work/CS3244/PROJECT/CS3244Project/RNN/DNN_oversampledafter.80-0.34.hdf5\n",
      "Epoch 81/100\n",
      "18920/18920 [==============================] - 12s 624us/step - loss: 0.4151 - accuracy: 0.8118 - val_loss: 0.3490 - val_accuracy: 0.8924\n",
      "\n",
      "Epoch 00081: val_loss did not improve from 0.34080\n",
      "Epoch 82/100\n",
      "18920/18920 [==============================] - 12s 645us/step - loss: 0.4209 - accuracy: 0.8066 - val_loss: 0.3402 - val_accuracy: 0.8892\n",
      "\n",
      "Epoch 00082: val_loss improved from 0.34080 to 0.34025, saving model to /home/mj/Documents/School_Work/CS3244/PROJECT/CS3244Project/RNN/DNN_oversampledafter.82-0.34.hdf5\n",
      "Epoch 83/100\n",
      "18920/18920 [==============================] - 12s 634us/step - loss: 0.4189 - accuracy: 0.8109 - val_loss: 0.3311 - val_accuracy: 0.8992\n",
      "\n",
      "Epoch 00083: val_loss improved from 0.34025 to 0.33110, saving model to /home/mj/Documents/School_Work/CS3244/PROJECT/CS3244Project/RNN/DNN_oversampledafter.83-0.33.hdf5\n",
      "Epoch 84/100\n",
      "18920/18920 [==============================] - 13s 666us/step - loss: 0.4104 - accuracy: 0.8128 - val_loss: 0.3285 - val_accuracy: 0.9013\n",
      "\n",
      "Epoch 00084: val_loss improved from 0.33110 to 0.32852, saving model to /home/mj/Documents/School_Work/CS3244/PROJECT/CS3244Project/RNN/DNN_oversampledafter.84-0.33.hdf5\n",
      "Epoch 85/100\n",
      "18920/18920 [==============================] - 12s 658us/step - loss: 0.4085 - accuracy: 0.8182 - val_loss: 0.3178 - val_accuracy: 0.9070\n",
      "\n",
      "Epoch 00085: val_loss improved from 0.32852 to 0.31777, saving model to /home/mj/Documents/School_Work/CS3244/PROJECT/CS3244Project/RNN/DNN_oversampledafter.85-0.32.hdf5\n",
      "Epoch 86/100\n",
      "18920/18920 [==============================] - 13s 666us/step - loss: 0.4062 - accuracy: 0.8168 - val_loss: 0.3435 - val_accuracy: 0.8846\n",
      "\n",
      "Epoch 00086: val_loss did not improve from 0.31777\n",
      "Epoch 87/100\n",
      "18920/18920 [==============================] - 13s 704us/step - loss: 0.4090 - accuracy: 0.8170 - val_loss: 0.3274 - val_accuracy: 0.8989\n",
      "\n",
      "Epoch 00087: val_loss did not improve from 0.31777\n",
      "Epoch 88/100\n",
      "18920/18920 [==============================] - 13s 712us/step - loss: 0.4013 - accuracy: 0.8226 - val_loss: 0.3341 - val_accuracy: 0.8956\n",
      "\n",
      "Epoch 00088: val_loss did not improve from 0.31777\n",
      "Epoch 89/100\n",
      "18920/18920 [==============================] - 13s 696us/step - loss: 0.4076 - accuracy: 0.8189 - val_loss: 0.3193 - val_accuracy: 0.9047\n",
      "\n",
      "Epoch 00089: val_loss did not improve from 0.31777\n",
      "Epoch 90/100\n",
      "18920/18920 [==============================] - 12s 633us/step - loss: 0.3979 - accuracy: 0.8242 - val_loss: 0.3028 - val_accuracy: 0.9154\n",
      "\n",
      "Epoch 00090: val_loss improved from 0.31777 to 0.30277, saving model to /home/mj/Documents/School_Work/CS3244/PROJECT/CS3244Project/RNN/DNN_oversampledafter.90-0.30.hdf5\n",
      "Epoch 91/100\n",
      "18920/18920 [==============================] - 12s 631us/step - loss: 0.3994 - accuracy: 0.8207 - val_loss: 0.3103 - val_accuracy: 0.9091\n",
      "\n",
      "Epoch 00091: val_loss did not improve from 0.30277\n",
      "Epoch 92/100\n",
      "18920/18920 [==============================] - 12s 622us/step - loss: 0.3943 - accuracy: 0.8270 - val_loss: 0.3082 - val_accuracy: 0.9082\n",
      "\n",
      "Epoch 00092: val_loss did not improve from 0.30277\n",
      "Epoch 93/100\n",
      "18920/18920 [==============================] - 12s 638us/step - loss: 0.3927 - accuracy: 0.8257 - val_loss: 0.3002 - val_accuracy: 0.9137\n",
      "\n",
      "Epoch 00093: val_loss improved from 0.30277 to 0.30018, saving model to /home/mj/Documents/School_Work/CS3244/PROJECT/CS3244Project/RNN/DNN_oversampledafter.93-0.30.hdf5\n",
      "Epoch 94/100\n",
      "18920/18920 [==============================] - 12s 622us/step - loss: 0.3923 - accuracy: 0.8307 - val_loss: 0.3141 - val_accuracy: 0.9063\n",
      "\n",
      "Epoch 00094: val_loss did not improve from 0.30018\n",
      "Epoch 95/100\n",
      "18920/18920 [==============================] - 12s 644us/step - loss: 0.3885 - accuracy: 0.8305 - val_loss: 0.3067 - val_accuracy: 0.9087\n",
      "\n",
      "Epoch 00095: val_loss did not improve from 0.30018\n",
      "Epoch 96/100\n",
      "18920/18920 [==============================] - 12s 629us/step - loss: 0.3890 - accuracy: 0.8275 - val_loss: 0.2954 - val_accuracy: 0.9137\n",
      "\n",
      "Epoch 00096: val_loss improved from 0.30018 to 0.29536, saving model to /home/mj/Documents/School_Work/CS3244/PROJECT/CS3244Project/RNN/DNN_oversampledafter.96-0.30.hdf5\n",
      "Epoch 97/100\n",
      "18920/18920 [==============================] - 12s 640us/step - loss: 0.3858 - accuracy: 0.8311 - val_loss: 0.2999 - val_accuracy: 0.9123\n",
      "\n",
      "Epoch 00097: val_loss did not improve from 0.29536\n",
      "Epoch 98/100\n",
      "18920/18920 [==============================] - 13s 663us/step - loss: 0.3815 - accuracy: 0.8324 - val_loss: 0.2999 - val_accuracy: 0.9121\n",
      "\n",
      "Epoch 00098: val_loss did not improve from 0.29536\n",
      "Epoch 99/100\n",
      "18920/18920 [==============================] - 12s 641us/step - loss: 0.3816 - accuracy: 0.8325 - val_loss: 0.2875 - val_accuracy: 0.9175\n",
      "\n",
      "Epoch 00099: val_loss improved from 0.29536 to 0.28748, saving model to /home/mj/Documents/School_Work/CS3244/PROJECT/CS3244Project/RNN/DNN_oversampledafter.99-0.29.hdf5\n",
      "Epoch 100/100\n",
      "18920/18920 [==============================] - 13s 674us/step - loss: 0.3865 - accuracy: 0.8315 - val_loss: 0.2883 - val_accuracy: 0.9171\n",
      "\n",
      "Epoch 00100: val_loss did not improve from 0.28748\n"
     ]
    }
   ],
   "source": [
    "#Hyper-Params\n",
    "epochs = 100\n",
    "batch_size = 32\n",
    "\n",
    "# train model\n",
    "history = model.fit(X_train_padded, y_train, batch_size = batch_size, epochs=epochs, verbose=1, validation_split=0.2, callbacks=callbacks_list)"
   ]
  },
  {
   "cell_type": "code",
   "execution_count": 21,
   "metadata": {
    "scrolled": false
   },
   "outputs": [
    {
     "data": {
      "image/png": "[encoded data removed]",
      "text/plain": [
       "<Figure size 432x288 with 1 Axes>"
      ]
     },
     "metadata": {
      "needs_background": "light"
     },
     "output_type": "display_data"
    },
    {
     "data": {
      "image/png": "[encoded data removed]",
      "text/plain": [
       "<Figure size 432x288 with 1 Axes>"
      ]
     },
     "metadata": {
      "needs_background": "light"
     },
     "output_type": "display_data"
    }
   ],
   "source": [
    "plot_loss_accuracy(history)"
   ]
  },
  {
   "cell_type": "code",
   "execution_count": 22,
   "metadata": {},
   "outputs": [
    {
     "name": "stdout",
     "output_type": "stream",
     "text": [
      "['loss', 'accuracy']\n",
      "3908/3908 [==============================] - 0s 88us/step\n"
     ]
    },
    {
     "data": {
      "text/plain": [
       "[0.5721744459995594, 0.7141760587692261]"
      ]
     },
     "execution_count": 22,
     "metadata": {},
     "output_type": "execute_result"
    }
   ],
   "source": [
    "print(model.metrics_names)\n",
    "model.evaluate(X_test_padded, y_test)"
   ]
  },
  {
   "cell_type": "code",
   "execution_count": 23,
   "metadata": {},
   "outputs": [
    {
     "name": "stdout",
     "output_type": "stream",
     "text": [
      "3908/3908 [==============================] - 1s 136us/step\n"
     ]
    }
   ],
   "source": [
    "from sklearn.metrics import confusion_matrix\n",
    "from sklearn.utils.multiclass import unique_labels\n",
    "y_pred = model.predict(X_test_padded, verbose=1)"
   ]
  },
  {
   "cell_type": "code",
   "execution_count": 28,
   "metadata": {},
   "outputs": [],
   "source": [
    "y_pred_output = [1 if y_pred[i] > 0.5 else 0 for i in range(len(y_pred))]"
   ]
  },
  {
   "cell_type": "code",
   "execution_count": 32,
   "metadata": {
    "scrolled": false
   },
   "outputs": [
    {
     "name": "stdout",
     "output_type": "stream",
     "text": [
      "F1 score: 0.49019\n",
      "Confusion matrix, without normalization\n",
      "[[2254  698]\n",
      " [ 419  537]]\n",
      "Normalized confusion matrix\n",
      "[[0.76355014 0.23644986]\n",
      " [0.43828452 0.56171548]]\n"
     ]
    },
    {
     "data": {
      "image/png": "[encoded data removed]",
      "text/plain": [
       "<Figure size 432x288 with 2 Axes>"
      ]
     },
     "metadata": {
      "needs_background": "light"
     },
     "output_type": "display_data"
    },
    {
     "data": {
      "image/png": "[encoded data removed]",
      "text/plain": [
       "<Figure size 432x288 with 2 Axes>"
      ]
     },
     "metadata": {
      "needs_background": "light"
     },
     "output_type": "display_data"
    }
   ],
   "source": [
    "from sklearn.metrics import f1_score\n",
    "print(\"F1 score: %3.5f\" % f1_score(y_test, y_pred_output))\n",
    "print_cm(y_test, y_pred)"
   ]
  },
  {
   "cell_type": "code",
   "execution_count": 29,
   "metadata": {
    "scrolled": true
   },
   "outputs": [
    {
     "name": "stdout",
     "output_type": "stream",
     "text": [
      "number of false positives: 698\n",
      "[' Ways to Ditch Dull Dry Skin This Winter', 'At This Kolkata Market You Can Sell Your Demonetised Rupee Note For Rs ', 'Couples Ringing in the New Year', 'A California waiter refused to serve Latina women until he saw proof of residency ', 'Research shows young girls are less likely to think of women as really really smart ', 'Students Wear White Pins as Reminder to Check Their White Privilege', 'Peace in Cyprus is possible We Cypriots just have to decide to want it', 'School Suspends Year Old Boy Attacked on Bus for Wearing Make America Great Again Hat', 'Yale University college honouring slave advocate renamed for pioneering woman scientist', 'Indian Students Think Twice About Attending S Universities', ' NBA Superstar Rankings Giannis Antetokounmpo Keeps Soaring', 'Yes it snows in Hawaii More than feet of snow in forecast', 'Are You Attending the Women March on Washington ', 'More than percent of world coral reefs will die by ', 'The US Music Industry Crossed Threshold In ', 'Cat rescued from inside chimney She was just happy to be out of there Yahoo', 'Chocolate Chip Cookies Recipe NYT Cooking', 'This iconic Game of Thrones actor will feature in Peaky Blinders Season ', 'Rumors about Google next Pixel smartphone are already starting to emerge', 'Change Your Calendar Change Your Life', 'Are You Paying Too Much for Your Tax Prep ', 'Katy Perry took selfie in an Infinity Mirror room Should you do it too ', 'The great outdoors readers share their best weather photos from ', 'Haunting photos show how run down the abandoned Silverdome has become', 'David Tennant Is Going To Voice Scrooge McDuck In DuckTales Reboot', ' Gifts For People Who Think Diversity Is Beautiful', 'The S Talent Pool Is Frozen', 'Before We Let Wolverine Go Forever Here Are Quotes That ll Always Be Etched In Our Memories', 'This photo series proves trans people are more than their gender identity', 'The good that could come from Trump presidency', 'Hayden Why Russia is more worried about war than US', 'The year in sports as told by Crying Jordan', 'See Inside President Obama Hawaiian Vacation Home ', 'Syrian Band Brings Music of Aleppo to Berlin', 'There evidence for how much exercise affects your health more is not always better', 'Job interviews are utterly pointless research shows The list', 'Big Mac Makeover Helps McDonald Overcome Restaurant Slump', 'Tinder in house sociologist explains how to score date for Valentine Day', 'New Year Nails Manicure Ideas to Ring In ', 'Watch Jimmy Kimmel Live Season Episode Music Video Free Online Pentatonix Performs God Rest Ye Merry Gentlemen Yahoo View', 'Victoria Secret announced its list of What Is Sexy and it the worst', 'Jake Gyllenhaal would love to not talk about my personal life ', 'Why Great Entrepreneurs Are Older Than You Think', 'Nettles and other thuggish plants forcing out endangered wildflowers ', 'The agony of Earth hottest year miss that cold cold weather ', ' Sweet Brexit what sugar tells us about Britain future outside the EU', 'Watch the Red Carpet Live Stream at Billboard Women in Music ', 'Holy Shit Here Vintage Polaroids Of Britney And Christina In Their VMAs Wedding Dresses', 'Heath Ledger Private Side Comes Alive in Revealing New Footage It Like He Pieced It Together for Daughter Matilda', 'Sit back and let the NoBallChallenge take over your timeline', 'Pelosi to Democrats Treat Trump voters like friend whose boyfriend is jerk', 'FLOTUS Had The Most Adorable Picture To Share After Barack Obama Delivered His Final Speech', 'Everything we know about the next iPhone so far', 'Shalmali Kholgade Asks Why Women Are Only Important On Women Day We Want The Answer Too', 'Barely Half of Year Olds Earn More Than Their Parents', 'Hawaii Tries To Save What It Can of Obamacare', ' Bots That Deliver Science and Serendipity on Twitter ', 'The rise of modest fashion', ' Dangerous phenomenon Israeli man charged with trying to join ISIS ', 'The great outdoors readers share their best weather photos from ', 'Don Be This Guy Who Asked His Job Interviewer Out On Date', 'Paris bans sexist adverts from billboards following outcry over porno chic fashion campaign ', 'How to resist Trump Harvard students launch new course for activists', ' How do you explain your Twitter Senator grills CIA nominee over whether he thinks WikiLeaks is credible', ' Elf Moments That Are The Best Ever', 'Letters Deadly roast potatoes are just the latest unnecessary health scare Subscribe now for full access or register to continue reading Subscribe now for full access or register to continue', 'Everyone Is Trying to Guess the Gender of Beyonc Twins From Her Latest Instagram', 'Inside the insanely lavish Airbnb homes Drake and Lady Gaga stayed in for Coachella', 'Olney Four man outfield is coming to ballpark near you', 'BBC must now do for arts what it has done for science says culture boss', 'Why the Women March may be the start of serious social movement', 'Man Tasked With Investigating Trump Ties To Russia Makes Friendly Visit To White House', 'Should designers dress Melania and Ivanka The question is more complex than it seems ', 'How Michigan became the feel good story of the NCAA tournament', ' Bohemian Rhapsody As Live Action Film Is Frightening Crime Drama', 'Game of Thrones season seven teaser trailer video', 'Liked Serial Here Why the True Crime Podcast Town Is Better ', 'People Are Using Nevertheless She Persisted To Share Examples Of Badass Women', 'Driving to the South Pole Is Coolest Road Trip You ve Never Heard Of', 'Missing mother and two young sons found safe more than week after vanishing', 'OracleVoice GE Digital Beyond Cartoonish Version Of The Internet Of Things', 'How the Government Strives to Tell if Refugee Applicant Is Lying About Being Christian ', 'Watch The Tonight Show Starring Jimmy Fallon Season Episode Excerpt Free Online Hashtags CrappyHolidays Yahoo View', 'Watch These Politicians Morph Into Their SNL Characters', 'Majority of Americans Disapprove of Trump Twitter Use Poll Finds', 'Here are the photos that show Obama inauguration crowd was bigger than Trump s', 'SAPVoice Are You Ready For Artificially Intelligent Enterprise Applications ', 'Take look at the making of the hit scam email prank show Scamalot ', 'Four year old appears on This Morning to speak about saving his mother life but is distracted by boats', 'The most incredible photos of the US Army in ', 'YouTube adverts blocked on videos from channels with under views', 'Planes trains cars buses What best for the earth ', 'Barry Bennell Former football coach denies eight child sex offences', 'That Probably Raquel Welch Not Kourtney In That Kardashian Photo UPDATE ', 'How the World Fastest Growing Economy Went Bust', 'Under Armour Admits It Still Not Cool Enough', 'School doubles down on Charlie Brown Christmas ban ', 'Possibility Of Rangeela Sequel Mahesh Bhatt Receives Death Threats And More From Ent World ', ' We have to forgive Scars haunt Colombian rebels as they disarm', 'As Congress Votes to Let ISPs Sell Your Internet History Movement Grows to Expose Theirs', 'Someone Threw The Veep Music Over That Awkward Trump Non Signing And It Fantastic', 'Dudu Tassa and the Kuwaitis on Radiohead Tour This Is Chance That You Don Miss ', 'America tried to make full English Breakfast and they need to stop right now The list', 'Stress makes dogs go grey as well as humans new study', 'Squid may become favourite UK meal as seas become warmer', 'Digging for Gold in Africa Most War Torn Country', 'Le Veon Bell Doesn Just Want to Dominate the NFL He Wants to Revolutionize It', 'Inscription reveals colossus unearthed in Cairo slum not of Ramses II more likely Pharaoh Psamtek I', 'The Fed just hiked rates for the rd time that has history of signaling major cyclical top for stocks ', 'Donald Trump has lowest approval ratings of any President in US history', 'May The Best VCs Please Stand Up The Midas List Is Now Open For Submissions', 'The Yordano Ventura you never knew', ' Shakira Songs That Prove She a Hopeless Romantic From Te Necesito to Me Enamore More', 'Lists What we love about Milton Keynes', 'ABC News auf Twitter POTUS on Russian interference Goal is to send clear message not to do this to us because we can do stuff to you https co oCwzsf ZMF ', 'How to qualify for the Masters the world most prestigious golf tournament', 'Phase Full Time Job Into Part Time Then Retirement', ' Best B Albums of Critic Picks', ' in workers have less than saved for retirement', ' Essays About TV Music And Film You Should Read Right Now', 'Westminster attack What you need to know', 'Flipboard fights back with major change for readers', 'Spongebob Fans Are Loving The Birthday Cake Girl Got Her Brother', 'People Are Applauding This Dog For Trying To Clean Up His Own Pee With Toilet Paper', ' Trumpgrets is the Tumblr page for Trump supporters who just can take him anymore', 'Viola Davis Carrying Around Slippers In Her Purse At The SAG Awards Is The Most Relatable', 'Vaughan Gething You can go to E and be there five hours but have good experience ', 'No Plans to Digitize Carrie Fisher in Future Star Wars Films', 'He had bad dream that his wife was cheating Then he violently beat her police say ', 'Meet the women who stay and work the land on their own despite tragedy', 'A Year Old Girl Wrote Letter To Google Boss Sundar Pichai And He Replied Ever So Sweetly', 'Eat Right To Keep Your Gut Bacteria Healthy Because They Are The Key To Preventing Alzheimer s', 'My grandfather died fighting for Hitler What should we make of his legacy ', 'Kid Rock Gets Engaged to Longtime Girlfriend Audrey Berry', 'The unbelievable numbers behind Russell Westbrook historic season', 'Netflix dominates Saturdays here how it stacks up against TV networks the rest of the week', 'PM Modi Compared Kerala To Somalia But Government Data Shows The State Infant Mortality Rate Is As Good As US', 'A porn site decided to step in when this State voted against sex education The list', ' It Not Your Fault Researchers Confirm Cancer Is Often Random', 'Big Mac Makeover Helps McDonald Overcome Restaurant Slump', 'Great little ski resorts Val Arly France', 'These EPA programs protect kids from lead paint Trump budget would end them ', 'Crossword Solving Search for Connections and Answers ', 'How President Trump is and is not changing what it means to be American', 'The computer that can tell if you re pure or flirty just by your LOOKS Artificial intelligence can predict woman personality say researchers', 'Human leg found attached to cinder block in search for missing woman ', 'People Are Posting Their Princess Leia Buns to Remember Carrie Fisher', 'After hinting support McCain says he undecided on Trump pick for Secretary of State ', 'It Time For Golf Yes Golf to Get Political', 'The price of admission to the press You can riot while you re working and expect your pass to protect you ', 'FYI Chrissy Teigen Is Really Fucking Funny On Snapchat', 'Out Women Seek to Give Voters Bigger Voice in Electoral College', 'Dashing through the home Teen shoots deer in living room ', 'Meet the woman who just made American space history', 'Imelda Staunton is right eating in your seat is crime against theatre', 'How to make LinkedIn page that wows recruiters according to the man who just overhauled its design', 'Study reveals whopping Twitter accounts are actually bots', 'Hair Sperm Libido Delhi Men Are Losing It The Most', 'Is This the Electric Car That Going to Trump Tesla ', 'Higher achievers smoked more weed when they were teenagers The list', 'Australian woman finds snake curled up in Christmas tree', 'The World Most Radical Experiment in Monetary Policy Isn Working', 'The Best Head to Head Matchups in the Sweet ', 'Beacon Sets the Mood With Contemplative Dance Jams at Billboard Lounge', 'Initial jobless claims rose more than expected', 'Mike Freeman Point Stance Packers May Be as Good as We Thought They Were', 'Who Should Win the Grammy for Best Latin Rock Urban or Alternative Album Vote ', 'Academy of Motion Picture Arts and Sciences apologizes for Oscars mix up ', 'How do we meet the urgent needs of million Syrians fleeing conflict ', 'Tracking President Trump Flip Flops', 'It A Record Breaking Year For Self Made Women Billionaires Here Why ', 'A small Arkansas town has its first murder suspect in decades He ', 'How American college students feel about Trump presidency', 'She and Fit to Jump From an Airplane', 'We must remember the recipe for success Subscribe now for full access or register to continue reading Subscribe now for full access or register to continue', 'MLB commissioner will keep pursuing ways to speed up game even if union objects', 'New connected bike will trick your kids into exercising and learning', ' Obama wasn perfect but he will be missed in Berlin especially when you look at the Trump insanity ', 'The afterlife of hotel soap', 'Chinese restaurant is accused of serving human FEET to diners in Italy after gruesome image of rotting flesh is posted online by waiter', 'Rockets rookie shows off his unconventional underhanded free throw form in an NBA game for the first time', 'To Make Sure That Goa Locals Remain Sanskari State Govt Will Ban Their Entry Into Casinos', 'Twitter transfer of power Trump gets POTUS', 'How quickly can YOU spot the pig Devilishly tricky puzzle challenges players to find the hidden hog in forest of birds', 'Disabled Shunned and Silenced in Trump America ', 'Ric Marlow Taste of Honey Songwriter Dies at ', 'Japanese couple married for years wear matching outfits every day ', 'Somebody left their cucumber behind after this Fifty Shades Darker screening', 'The Obamas got real emotional at the president farewell address', 'Is Supreme Nike Uptempo Collaboration Disappointment or Slam Dunk ', 'Panera Spikes On Rumors That It Exploring Sale', 'The afterlife of hotel soap', 'Mel You get to laugh your pants off at people who are delusional ', 'It Christmas The best festive songs chosen by Slade Neil Diamond the Waitresses and more', 'Parrikar Claimed Goa Will Be India First Cashless State Now He Says It Neither Possible Nor Desirable ', 'Justin Welby hits out at fake news epidemic as he uses Easter sermon to stress importance of facts', 'People Think Nicki Minaj Regret in Your Tears Is About Meek Mill', 'Survey Most Americans lack savings to cover emergencies', 'Is Ivanka Trump What True Feminism Looks Like ', 'MLB players are launching their own social media app', 'First of Two Baby Bald Eagles Hatches on Camera', 'The recession we re already in', 'Uber claims written English test will put thousands of drivers out of work', 'Why Millennials Aren Moving and Why That a Problem', 'How to make money designing custom Snapchat geofilters', 'The world first craft beer hotel wants to soak you in hot tub full of beer', ' Everyone Has Price Readers React to Passenger Removed from United Flight ', ' Deadliest Catch stars know hope is running out for lost colleagues ', 'When the Fed Raises Rates Credit Card Holders Feel It First ', 'Read Live Updates On The Women March On Washington', ' Famous in Love Explores Hollywood Glamour and Darkness', 'Vote How far will the Cowboys go in the playoffs ', 'More Californians dreaming of country without Trump poll', 'Fangs the lightning rise of Facebook Amazon Netflix and Google', 'In India low caste Dalits put dignity before livelihood by leaving cows where they die', 'UCLA Cheerleader Takes Scary Falls During Single Timeout', 'Everyone Freaking Out About Cyrus Beene On This Week Scandal ', 'Readers travel photography competition the winners', 'Regeneron New Drug Price Could Disappoint Everyone Here Why That A Good Thing', 'Trump Irish proverb appears to be Nigerian poem', 'The Cost Can Be Debated but Meals on Wheels Gets Results ', 'The gap between Americans and Canadians in the NHL is smaller than ever', 'MMA Vin Diesel Says Conor McGregor Backed Out of Movie Role After Nate Diaz Loss', ' Deadpool was the most illegally downloaded movie in ', 'Look Up Tonight and You ll See Comet an Eclipse and Full Moon', 'What You Can Do About Climate Change ', 'You Can Now Buy Weed Flower Crown For Coachella Because Why Not ', 'What One Photo Tells Us About North Korea Nuclear Program ', 'Hidden Figures How Nasa hired its first black women computers ', 'Despite the Yuck Factor Leeches Are Big in Russian Medicine ', 'The robot with human touch Optical sensors allow machine hand to sense subtle shapes and textures', 'That How White House Staff Played Scary Christmas Prank On US President Barack Obama', 'Taste Testing Wine Seized from Bernie Madoff Private Collection', 'Anti surveillance clothing aims to hide wearers from facial recognition', 'Producer Who Is Very Much Alive Mistakenly Included in Oscars In Memoriam Tribute', 'Twitter decides to keep Vine as camera app', 'A collection of rare photos features men of the late in surprisingly intimate embraces', 'Commuting To Gurugram Just Became Nightmare Haryana Govt Introduces New Tax On Cabs', 'Experts find what may be the earliest color film of the White House grounds', 'In the Indian Ocean Fragments of Continent Where They Should Not Be ', 'These Are All the Ways Saudi Aramco IPO Could Impact Markets', 'Cate Blanchett My Moral Compass Is In My Vagina ', 'How to ask for promotion or pay rise live chat', ' All of this grief Prince Harry opens up about his mental health', 'Everything We ve Learned About Family Is From Vin Diesel in the Furious Franchise', 'How Pennsylvania teenager feels about the future under Donald Trump', ' Times Women In Hollywood Inspired Us In ', 'That Time Joe Duffy Choked Out Young Conor McGregor', 'The World Best Bicyclist Danny MacAskill Just Pulled Off One Helluva Bicycle Jump ', 'Republicans Are Making Little Progress on Their Obamacare Repeal Strategy', ' Cheat Sheets That Make Cooking Healthier Less Of Freaking Chore', 'A hard act to swallow Pill that really thermometer could improve survival rates for frail people with weak immune systems', 'Same Sex Marriage Laws Linked To Powerful Drop In Teen Suicide Rate', 'Larry Wilmore To Milo Yiannopoulos Go k Yourself ', 'Family of Frederick Douglass gives Trump history lesson', 'Original Rogue One Screenplay Had Much Happier Much Different Ending', 'Noncitizen Sentenced to Years for Illegal Voting Insider', 'The American Health Care Act is good start', 'Garfield a boy right How cartoon cat gender identity launched Wikipedia war ', 'Twenty One Pilots Reimagine Songs With Mutemath for Live Video Free EP Watch', 'NFL players reportedly believe that Panthers linebacker Luke Kuechly scary concussion should have him thinking about retirement at age ', 'Why pay for child care you don use like on public holidays ', 'Grieving Sisters Say Rude Flight Attendant Led to Their Removal From Flight Yahoo', 'Ireland Olympic Rowers Return With Another Hilarious TV Interview', 'How Lionel Messi showed he is the most complete player ever the guts the glory the goals', 'Israeli Settlements What It Like to Live Inside Divided Land', 'Here how to make sure you re getting all your texts if you switch to Android from iPhone', 'Social care green paper is an opportunity too important to be missed', 'Thanks To This Adorable Therapy Donkey Little Girl Overcame Her Speech Disorder', 'Regis Philbin Trump Doing Quite Well and Getting Things Done ', 'This Is The Coolest Electric Bus In The World', 'Art From Banned Countries Takes Center Stage At The MoMa', 'Dylan Polite It Ain Him Babe ', ' Survivors Share Their Memories Of Sexual Assault No Words Can Describe How It Feels', 'The downfall of Michael Flynn timeline video', 'Future Will Release New Album This Week Announces Nobody Safe Tour', ' Dogs Who Deserve To Be Pet All They Want Dammit', 'A BBC presenter had to point out she never ran torture black site for the CIA The list', 'Turns Out Lot Of People Liked That Kendall Jenner Pepsi Ad', 'Wall Street Made Charles Murphy Successful and Rich but Happiness Eluded Him', 'e waste What happens to discarded televisions computers and mobile phones ', ' love you Mommy Heartbroken mother shares year old son final moments of cancer battle ', 'Bill Belichick ripped insulting comments that suggested Tom Brady was motivated this season by Deflategate', 'Section Ethnic groups believe racial discrimination law changes send wrong message', 'Ryan Reynolds Named Harvard Hasty Pudding Man of the Year Posts Hilarious Oscar Campaign Video for Deadpool', 'That Time Cops Searched Samsung Smart TV For Evidence Of Child Abuse', 'Why the ultra rich are scooping up real estate and ditching hedge funds Video ', 'Free Trade NBA Deals That Could Jolt the Playoff Race', 'Here sweet seconds of Ed Sheeran brand new music', ' My life is made here Undocumented students fear fate under Trump', 'An Establishment Conservative Guide to MILO', ' How we built India biggest robot company ', 'What Insurers Like and Dread About GOP Plan to Replace Obamacare', 'The Best Films of From All Over Cinema Map', 'Facebook Launches Resource To Spot Fake News ', 'When It Baseball Forever ', 'Grammy Awards Stars React to Their Nominations ', 'YouTube Twins Embrace Natural Beauty', ' Elf Moments That Are The Best Ever', 'Investors Are Waking Up to the Risk of Le Pen Victory', 'How big problem is crime committed by immigrants ', 'The good bad and unknown about marijuana health effects', 'Intel self contained VR headset can make your furniture part of the game world', ' Just stop daddy children scream in call from lawmaker home', ' Powerful Documentaries You Need To See To Understand The Importance of the A Riots', 'Trump Team Distances Family From Conservation Fundraiser ', 'Why Does Mount Rushmore Exist ', 'America must lead the free world the alternative is chaos', 'Sweet short film about couple is actually hearing test in disguise', 'People are fighting over the gender of Garfield cartoon cat The list', 'Comedian Artie Lange arrested over drug possession ', 'People Are Noticing Washington DC Subways Are Unusually Empty On Trump Inauguration Day', 'Dick Van Dyke pays tribute to TV wife Mary Tyler Moore Best years of my life ', 'NBA Power Rankings as Playoffs Begin', 'The Fed Is Stuck in the Past With Its Forecasts of the Future ', 'The French Election Only Sure Thing Is Gridlock in Parliament', 'Norway Is No in Happiness The S Sadly Is No ', 'This Artist Will Teach You How To Draw Using The Penis Method ', 'British people are losing their minds over final insult', 'Parent Susp Morehead State coach head butted son last season', 'Democratic Party Draws Line In The Sand On Abortion Rights', 'The Final Four is now set', 'Will Trump Take Brutally Forthright Advice From McMaster ', 'Vote What was the biggest surprise from this weekend Game ', 'Heart failure drug shows promise in first human trial', 'Protests against Trump immigration order have erupted across the country here what they are like', 'A key Apple supplier saw its profit explode', 'Dailymotion to Reboot This Summer With Focus on Premium Content', 'DIY geniuses build foot tall Robocop villain It your move creep ', 'Benedict Cumberbatch Is Bit Frazzled In This Deleted Doctor Strange Scene', 'Keith Olbermann Calls Out Trump You Are Jackass ', 'Forget the gym From Disneyland to the Louvre the calories you can burn exploring the world top tourist attractions revealed', 'Mom Spends on Nearly Presents for Her Kids Video ', 'This Week in Billboard Chart History In Kesha TiK ToK Topped the Hot ', 'Discover the Anvil Hotel the Wild West Dude Ranch for Hipsters', 'Shohei Ohtani The Best Baseball Player in the World Isn in MLB Yet', 'Thor and his Aussie roommate are back dealing with real life struggles', 'Why Russia is happy to see the back of Obama', 'Facebook wants to get smarter about suicide prevention', 'The year old leading the March Against Revenge Porn', ' Quiffs were must teddy boys and girls in London ', 'College Football Next Big Thing No Overall Recruit Najee Harris', 'A Strategy for Happy Dual Career Couples', 'Why More Than Million Taxpayers Are Reaching for Refund Loans ', 'Most patient cat suffers through curious dog sniff down', 'Report Teacher continued to work despite sexual assault claims ', 'Meals on Wheels could take funding hit in Trump budget', 'Grammar schools are now giving priority to disadvantaged pupils new study shows', 'Hail Mary Is Proof Positive No Matter What You Do Aaron Rodgers Will Burn You', 'How to build your own moonshot lab according to Astro Teller', 'Deals ensure cash keeps flowing to unsettled Prince estate ', 'Um If You Need To Procrastinate Today Play This Beyonc Themed Game', 'Liberalism is suffering but democracy is doing just fine', 'A Dalit Groom Thrashed Badly By Upper Caste People Over Ghurchari In Haryana', 'Former WH photog Pete Souza trolls Trump with contrasting Obama pics', 'Oprah Winfrey for president Now m thinking ', 'Is it OK for joggers to run in cemetery ', 'IBMVoice AI For Social Good How Humans And Machines Are Making Better World', 'Praying at the inaugural service An imam rabbi Hindu priest and an abundance of pastors', 'Two British Police Officers Used Taser on Their Own Black Race Relations Advisor', 'Why Attitude Is More Important Than IQ', 'Plus Size Dating App Will Now Ban Fat Shaming Fools ', 'Alec Baldwin Fires One Hell Of Zinger At Donald Trump Inauguration', 'Dad slightly bemused to find his son chocolate Santa Claus looks totally inappropriate The list', 'Report White House reporter accuses Trump aide Omarosa Manigault of bullying her', 'Online Fragrance Startups Smell Money', 'This animated map shows every single earthquake in the past years', 'Is the need for more sleep sign of pending dementia ', 'Pictured The sewer where partygoers attended illegal rave after wading through water filled tunnels', 'Huckabee Slams Anti Trump Press The Zenith of What People Are Disgusted By Insider', 'How Much Would You Put Up With to Avoid United Airlines ', 'Lessons from the first tiny house evangelist Henry David Thoreau', 'Smile This Restaurant Two Way Mirror Is Filming You Taking Selfies ', 'Dairy Queen Owner Makes Racist Insults Against Customer Loses Business', 'Here how long various drugs stay in your body', 'Duterte vows to execute five or six people day when the death penalty is reintroduced to the Philippines ', 'The Honda CR is an intuitive and comfy ride for the everyday driver', 'No One Tells Megyn Kelly What to Wear ', 'Why Obamacare could be the messiest battle of ', 'Brexit Ken Clarke asks why anyone would deal with Britain if we make all the rules', 'The need to know takeaways from your Golden Globe nominees', 'Trace the journey of one of the world rarest and largest diamonds', ' Times Emma Watson Totally Nailed The Whole Feminism Thing', ' Seniors with the Best Chance to Win the Heisman Trophy in ', 'Poll Trump approval bumps up slightly to percent', 'All hail the ACC the new king of bowl season', 'Loneliness at Christmas how are you tackling it ', 'Hillary Clinton Broke Down How Impossible It Is For Ambitious Women To Be Likable ', 'A castle headdress parrot wings and LOBSTER outfit Miss Universe contestants strut their stuff in very bizarre national costumes ', ' reasons to treat Dow with caution', 'PROMO Exclusive Jacob Latimore Is Pure Magic in the Thrilling Full Trailer for Sleight ', 'The Guardian view on Philip Hammond more honesty is needed about budget pain to come', 'PaycomVoice Honoring Women in Business', 'Secret Service Agent on Leave After Saying She Wouldn Take Bullet for Trump Insider', 'Markets Say Tell Us What We Don Know On Trump Tax Proposal', 'Birth defects are common for Zika infected pregnant women in the S ', 'Will You Graduate Ask Big Data ', 'Mei Dim Manchester What Chinatowns used to be like restaurant review', ' year old shreds down fresh powder like ski pro', 'How raw Aussie giant became football recruiting sensation', 'Not All Big Box Stores Are Dead Wal Mart Home Depot Buck Shopping Slump ', ' The Fate of the Furious Is Already Out Here Smashing Global Records', ' Overwatch will ban you if you use custom games to farm XP', ' Tweets Prove WhatFeministsWear Is Anything They cking Want ', 'A Year When Death Loomed in the Laughter ', 'Avoiding All Nuts Simply Because You re Allergic To One Might Be Well Nutty', ' Real Housewives of Beverly Hills star Kim Richards says she dated Donald Trump', 'NYT Immigration Hard Liners Rising in Trump Administration', 'Trump Million Twitter Followers Get Smaller Under The Microscope', 'Drugs are killing so many people in West Virginia that the state can keep up with the funerals', 'Dystopian fiction is selling like there no tomorrow', ' Million Year Old Early Human Footprints Have Been Discovered In Tanzania', 'Piers opens fire on JK Rowling ve never read more badly written nonsense ', 'The BBC needs real General to fight its corner Subscribe now for full access or register to continue reading Subscribe now for full access or register to continue', 'Butlins it ain Bored with Brexit Feast your eyes and weep with envy at the world priciest holiday villas ', 'Fitness takes hard work to gain but how fast does it fade Featured Stories Additional stories', 'Did You Know Mixing Chocolate With Caffeine Can Ease Anxiety And Help You Focus Better ', 'Cheapest Space Mission Ever Could Find Planets Around The Nearest Sun Like Stars', 'My dad is cross dressing and Mum is bitter What can do to help ', 'Many People Hugely Overestimate Their Country Muslim Population Infographic ', 'Police Call Qurans Found in Toilet at UTD Shocking and Unusual ', 'Ann Coulter Health Care Plan so Simple Even Republican Can Understand ', 'Would You Spend on Jeans With Fake Mud Video ', 'Colson Whitehead on George Saunders Novel About Lincoln and Lost Souls ', 'House Republicans are still at war with themselves', 'Beware The False Temptations Of The Russia Story', 'The Industrious Formula For Productive Coworking Spaces', 'This app will tell you when pregnant woman needs subway seat', 'Trade to Be Big Topic in Theresa May U Visit', 'Getting Around How Urban Transportation And Planning Unlock The Future Of Accessibility', 'Labs extend purebred dog popularity record Rottweilers rise ', 'Map The largest company in every state', 'This is too much to bear Naughty cub Fushun who melted hearts around the world with his hilarious face plant creates havoc again at panda party', 'What Should You Do When Customers Make Racist Remarks ', 'Beer Industry Could Lose Billion From Legal Marijuana', 'Local mayors By Sessions definition there might not actually be sanctuary cities', ' Training Day Watch the Show Touching Dedication to Bill Paxton', 'Americans Eat Million Jack in the Box Tacos Year and No One Knows Why', 'Democrats reject her but they helped pave the road to education nominee DeVos', 'Sources Healthy Luol Deng Timofey Mozgov agree to sit out rest of Lakers season', 'Drug addicted mom of ordered to not get pregnant by NY judge ', 'Twitter Absolutely Lit Up the Warriors for Their All Star Photo Shoot', 'California snowpack measures low but big storms coming ', 'Is Wagyu the World Most Overrated Steak ', 'Everything but football the best ads from Super Bowl Sunday and Lady Gaga as it happened', 'Too many women are leaving hospital after childbirth with PTSD because of bad care', 'How to do fitness audit and why it a good idea Featured Stories Additional stories', 'The Best And Worst College Towns In The S ', 'A crash course on Steve Bannon Who is Stephen Bannon He President Trump right hand man Trump has since given him more power He was chairman of Breitbart News His Breitbart roots caused an uproar He told the media to keep its mouth shut He was an investment banker He made big money off of Seinfeld He oversaw an artificial world He was involved in an abuse lawsuit He been married three times He helped write the travel ban He was raised among Democrats He served in the Navy He not fond of women lib He been producer on films He made bad deal with an internet gaming company He has degrees from Harvard and Georgetown', ' Don give your children Barbies Playing with dolls just ONCE can make girls think they need to be thin researchers claim', 'How Bashar Assad rose from comfortable childhood to become one of the deadliest world leaders in modern history', 'WhatsApp Unsend message feature and new shortcuts arrive in beta', ' People crowd around us Everyone teases us The Indian dwarf family where nine out of relatives all suffer the same genetic condition ', 'Demand for Tires in China Is Making Your Rubber Gloves Pricier', 'Happy New Year Americans ring in Times Square New Year Eve Times Square Times Square Times Square Times Square Times Square Times Square Las Vegas New Year Eve Las Vegas NYE Miami Miami', 'Rakhi Sawant Is Likely To Get Arrested For Her Objectionable Comments Against Sage Valmiki', 'First of Defendants in Fatal Hazing Case Pleads Guilty', 'The Jats Who Owned Lutyens Delhi And Year Old Wait For Compensation', 'The NCAA tournament is about to wake up', 'Here The Untold Story Of Sindhudesh Country Of Sindhi People Lost In Pakistan', 'Government Reassures IT Industry On B Visa Curbs Says No Reason To Worry As Of Now', 'Five Things You Need to Know to Start Your Day', 'Free Airline Meals In Coach May Be Coming Back', 'How The Great Recession Left Lasting Legacy On Millennial Families', 'NGT Slaps Contempt Notice To Sri Sri Ravi Shankar For Blaming Govt For Yamuna Floodplain Damage Art Of Living Denies It', 'TRUMP FIRST DAYS Here how they compare with Obama Bush and Clinton s', 'Kristen Bell on why her daughters don watch Frozen holiday plans', 'The Kenyan girls celebrating non FGM rite', 'We re watching you Beijing installs facial recognition in toilets in bid to combat tissue thieves ', 'Fast Food for the Dude Greasy Fatty Salty Is Red Hot Formula', 'On this day Jane Austen was born Subscribe now for full access or register to continue reading Subscribe now for full access or register to continue', ' There no happy hour for menstruation Tax liquor instead of tampons lawmakers say', 'Toy company Lego to produce Women of Nasa set', 'UK richest people getting special deal from HMRC warns watchdog', 'The real story behind Trump fake Irish Nigerian proverb ', 'Is YOUR partner seeking bit on the side Data reveals January is the day people are most likely to try and start an affair because they want to reclaim their freedom after Christmas ', 'The Internet Believes These Rogue One Characters Should Date', 'Sorry the January Barometer Is Market Myth', 'Who could begrudge Lukas Podolski his Roy of the Rovers ending ', 'Love All Serena Williams Is Engaged', 'CNN Heroes Ordinary People Extraordinary Impact Special Reports from CNN com', 'Aged care program helping seniors live at home longer undergoes wonderful change', ' of the most popular jobs professional football players take after retiring from the NFL', 'Sherlock season episode Fans aren too happy about the BBC series shock twist', ' arrested in connection with large fire that collapsed portion of Atlanta highway ', 'Can Social Learning Help Your Millennial Workforce Be More Productive ', 'Your In Flight Movie Screen Is Going Extinct', 'India Jagadish Chandra Bose Is The Reason Why The World Will Enjoy Super Fast Internet', 'Can Social Learning Help Your Millennial Workforce Be More Productive ', 'Who Should Win Album Of The Year at the Grammys Vote ', 'Foolproof Foundations How To Stay On The Right Side Of The IRS', 'So far presidential Trump no more uniter than candidate Trump', 'Metrics Ranking the Best Benches in the NBA', 'Why Catholics vs Convicts is such memorable game', 'Drake Won Be at the Grammy Awards', 'Said Done am only guilty of one thing protecting Leeds United ', 'Here How The New Wave Of Messaging Has Transformed Customer Service', 'They Got Married the Weekend After NYTimes com', 'Sushi lovers beware Tapeworm now found in S salmon', 'NBC News WATCH Sen Jeff Merkley is still on the floor speaking in protest of President Trump SCOTUS nominee Neil Gorsuch ', 'That Old Phone Trump Uses for Twitter Could Be an Opening to Security Threats ', 'Granta list of the best young American novelists', 'What are the odds Mom dad son all share birthday', ' Flip or Flop to end in following hosts split', 'When Amazon cloud storage fails lots of people get wet', 'Stephen Hawking reminds us technology will kill us all and it all our fault', 'Britain is heading for the hardest of hard Brexits but Theresa May can limit the damage', 'Text Your Bank Digit Puts Clear Communication In Your Financial Life', 'You ll soon be able to start Ford via Amazon Echo', 'Renters Now Rule Half of S Cities', 'Democracy requires trust But Trump is making us all into conspiracy theorists ', 'Health Companies Think Fat Freezing Is the New Botox', 'From Elle to Game of Thrones why is culture obsessed with rape ', 'Here Everything You Need To Know About ISRO World Record Setting Launch Of Satellites In One Go Using PSLV ', 'China Chases Silicon Valley Talent Who Are Worried About Trump Presidency', 'Teachers given projects based on racist stereotypes study finds', 'The Grand Tour episode review Moroccan Roll gave us generic grumpy fun and was all the better for it', 'Kellyanne Conway Just Told Everybody To Go Buy Ivanka Stuff Potentially Violating Ethics Law', 'What Is Hawaii ', 'Teen Who Killed Self on Facebook Live Was Taunted by Mom Report', 'CMO Today United Grapples With PR Disaster', 'Hungry boy steals car for McDonald after YouTube tutorials', 'Why Women Driven By Passion And Purpose Get Seats In Corporate Boardrooms', 'Call of the mall can you identify world cities from their shopping centres ', 'Man Motivated to Self Investigate Pizzagate Conspiracy Theory Fires Assault Rifle Inside C Pizza Shop', 'May global Britain gets boost as Qatar looks at bn investment', 'DON PANIC That Bacon Shortage You Keep Hearing About Isn Real', 'Charity Accounts Become the Hot Holiday Must Have', 'This Photo Of Harbhajan Singh Toddler Bonding With Jonty Rhodes Daughter Is Just Too Cute ', 'Hold Off on the Steph Curry Hate His Time Will Come', 'Far more on the line than an Aussie Open trophy for Federer Nadal', 'Tory MP opposed to selective education admits sending his children to grammar schools', 'Stocks Are No Longer the Most Actively Traded Securities in Stock Markets', 'Billboard Chart Moves Pentatonix That Christmas to Me Surpasses Million Sold in S ', 'Geert Wilders Dutch Far Right Leader Is Convicted of Inciting Discrimination ', 'The Matrix reboot writer thinks rebooting The Matrix is bad idea', 'How Trump Regulation Skeptic Helps Wall Street Navigate the Rules', 'Your Credit Card Spending Is Holding The Fed From Raising Rates Higher', 'Despite Getting Hit By Six From Suresh Raina This Year Old Boy Returned To Watch The Match What Fan ', 'This Game Of Thrones Actress Just Trolled Donald And Melania Trump And People Are Here For It', 'Where The Streets Are Paved With Green Counting Urban Trees', 'There a new slogan for Brexit The list', 'We managed tax transparency in Pakistan Why not everywhere else ', 'Hydraulic Press Obliterating Furby Will Give Kids Nightmares', 'Internet warriors inside the dark world of online trolls ', ' La La Land Has Hollywood Singing Different Tune About Musicals', 'Get me to the church on time Baffled bride is blocked from her own wedding by police as leftist protesters clash with right wing Alternative for Germany party members in Cologne', 'Austerity Not on This Saudi Itinerary ', 'Donald Trump runs into Twitter trouble with repeated spelling errors as his attempt to turn heat on Democrats goes awry', 'It Not The US But Singapore That Has Blocked Visas For Indian IT Professionals', 'VMwareVoice The Cloud Will Drive Your Car', 'Republican Party WikiLeaks International Women Day Your Wednesday Briefing ', 'Labour is split by Brexit and divorced from its own voters', 'Never Remember City Laughs Along at Massacre That Wasn ', 'GDP BEATS', ' Dinners Under You Should Make This Week', 'Highlights and Analysis of the Oscars ', 'The LOX Return With First Album in Years Filthy America It Beautiful ', 'Sales and Rentals of Movies for Home Viewing Continue Slide ', 'Economic Divisions Shape German Politics Too', 'The World Most Expensive Stocks Cost More Than Million Share', 'Here Something You Probably Never Knew About Golden Girl Rue McClanahan', 'Rise of women over the age of getting married to avoid spending long retirement alone', 'The Lonely Towns of Fukushima ', 'Blue State Blues The Great Income Tax Divide', 'The Trump Like Figures Popping Up in Central Europe ', 'Robots that take people jobs should pay taxes says Bill Gates', 'Joey Badass Already Know m Better Rapper Than Pac ', 'New glaucoma test means treatment can start before sight loss symptoms begin ', 'This Toddler Made Her Own Sign For The Women March And It Too Cute', 'If you like pi atas and cakes you ll love candy filled smash cakes', 'What Start Up Scandal Says About Your Workplace ', 'Hillary Clinton Women voices have never been more vital ', 'Cursive makes comeback', 'Text Messages From Car Trunk Help Locate Kidnapped C Woman', 'Cavs Kyrie Irving believes they lie to us and Earth is flat ', 'Here Are the Best Plays From the NBA All Star Game', ' The Biggest Loser Host Bob Harper Suffers Heart Attack', 'A Muppet with autism to be welcomed soon on Sesame Street ', ' Under Spotlight Derek Dolin Of Team Calvin Harris', 'Definitely not Russian hackers just so happen to slam Trump after he bombs Russian ally', 'Loneliness at Christmas how are you tackling it ', 'International Women Day Five reasons life is hard for women in and what you can do to improve it ', 'A Brief History of the Ownership of the Beatles Catalog', 'Weed Prices Are Falling Thanks to Legalization', 'Wall St Lending to Main St Even as Many Decry Dodd Frank ', 'Tinder is About to Look lot Like Snapchat', 'You can now search for doctor using emoji because is sorrow', 'Girls feel less smart than boys by age research says', 'Drake More Life Is The No Album For The Third Straight Week', 'Curious Case of Billion Dollar Lithium Mine Sold for Song', 'Politicians were complaining about fake news years ago The list', 'Dozens of people die in Afghanistan and Pakistan as avalanches and heavy snow bury villages trapping entire families', 'Genital herpes vaccine shows promise in animal trials', 'Chez Panisse Meyer Lemon Meringue Pie Recipe NYT Cooking', 'Throw out homeopathic teething tablets with belladonna FDA says', 'Cousins Mouthguard came out by accident ejection ridiculous ', 'Traumatised juvenile detainees at higher risk of reoffending psychiatrist says', 'Yes Debbie Reynolds May Have Died of Broken Heart', ' Of The Greatest Signs From Women Marches Around The Country', 'Celebrity interviews Edith Bowman Japan was just this wonderful sensual explosion ', 'Wooden Watch Everyone is chasing Villanova Josh Hart', ' Hilarious Tweets About Sending Nudes', 'DfE says bn savings for schools doable without larger class sizes', 'Bata Sues Jolly LLB Makers Salman Throws Out Priyanka Jagga From BB House And More From Ent', 'Rejoice Barack Obama is now husband of Instagram', 'The Stranger Things Kids Looked So Frickin Dapper At The Golden Globes', 'U Lawmakers Depart so Tourists Get Parliament to Themselves', 'Twitter Character Limit Wont Include Usernames Anymore', 'On The th Episode Of His Show Kapil Sharma Thanked His Entire Team Including Those Who Weren There', 'Here are all the comic book movies coming out in ', 'Physical restraint in mental health units is traumatising women all over again', 'NFL All Overpaid Free Agency Team', 'Did Kuwait Copy Trump Travel Ban Not Quite ', 'Diplomats Say Immigration Order Will Not Make America More Safe', 'A Nostalgic Shah Rukh Khan Had The Most Adorable Message On Completing Years In Mumbai ', 'New drone owners urged to read the rules before first flight', 'How are the Obamas spending their Christmas weekend ', 'No one should feel good about Trump attack on Syria', 'A third of Brits throw away Christmas turkey and sprouts', 'There is some truth in Donald Trump cry of fake news it is an historical norm', 'You ll Be Thunderstruck By This AC DC Themed Christmas Lights Display', 'Old people are for life not just for Christmas Subscribe now for full access or register to continue reading Subscribe now for full access or register to continue', ' Realities Everyone Who Is Child Free By Choice Knows', 'House Republicans would let employers demand workers genetic test results', ' Handshake teacher in viral video shares heartfelt message for parents', 'Hate Performance Reviews Good News They re Getting Shorter And Simpler', 'Alright So How Does Arthur Wear Glasses ', 'The Continuing Quest for the Perfect Shot', 'Fantasy baseball Top rankings for rotisserie leagues', 'Strictly Come Dancing Everything to know about the live final', 'Embracing figures at Pompeii could have been gay lovers after scan reveals they are both men', 'End humiliating restraint of mentally ill people say charities', ' Apprentice contestant sues Trump for defamation', 'How Much Wealth Will You Have Years Into Retirement ', 'More than one million Google accounts hit by malware', 'Game of Thrones season Lena Headey on whether Cersei can redeem herself', 'Us the Duo Re Enters Social Chart After Newest Year End Song', 'What Hollywood Must Learn From Star Wars And Fate Of The Furious ', 'How to find out if your Google account has been hacked', 'Today in Pictures Hanukkah in Jerusalem and More', 'From me to you readers photos on the theme of gift', 'Everything in Play After Day of Chaos in French Race', 'Poll Most Americans still think Trump should release his tax returns', 'Twitter broadens its campaign against hate and abuse', 'Nets PG Jeremy Lin Channels Jimmy Neutron with Towering Hairdo', 'Google has an idea for goofy hat with camera on the brim that works like Snap Spectacles', 'Twitter Users Found This Glamour Shot of Kellyanne Conway in Velvet Cloak', 'Ask Billboard Black Beatles Black Barbies Other Response Songs', 'Best in Show to Check Out at the New York Auto Show', 'We Need To Talk About Justin Bieber', 'Good luck finding Apple new AirPods in time for Christmas', 'Bill Reilly accuser reveals identity feels triumphant he won return to Fox News ', 'Big Sur usually can keep people away Right now it practically deserted ', 'Filipino Food Is the Next Big Thing Again', 'Chance the Rapper Needs an Intern', 'A Room Full Of Rowdy Teenagers Was The Best Version Of America ve Ever Seen', 'The World Fastest Woman ', 'This woman is building better volcano robot', ' My Turn J Watt Ready to Show the NFL He Not Just J Little Brother', 'Newspaper apologizes after mistaking Alec Baldwin for President Trump', 'What will immigration look like post Brexit ', 'All hail Adelaide How the Australian city became the new Portland ', 'Our White House Reporters Recall Their Most Vivid Moments of Trump First Days ', 'Middle aged people should consider taking magnesium supplements to protect their bones', 'Call them Virtual reality experiences because that what the cool kids say', 'The Grey Anatomy Cast Re Created That Beyonc Pregnancy Shoot Because Why Not', ' Year Old Woman Trolls Trump From The Grave With Her Obituary', 'Secondary school league tables Grammar school children excel while comprehensives fall behind figures show', 'Horror Film About Racism Earned Coveted Percent On Rotten Tomatoes', 'Democrats Are Not Very Excited About The Future Of Their Party', 'Is Macy about to become Canadian ', 'Here what you need to know about Marine Le Pen the far right leader who could be the next president of France', 'Warren Buffet could be about to buy an entire airline', ' Changing the Game Would Be the Sports Equivalent of New Coke ', 'Here when fruits and vegetables are actually in season', 'NGO Adopted An Injured Horse Got Her Prosthetic Limb Unlike Shaktiman It A Happy Ending', ' amazing facts you didn know about your skin', ' The Walking Dead The Ones Who Live and the One Who Didn ', 'Confused year old has some serious questions about Easter traditions', 'Tiny US colleges investments are outperforming Ivy Leagues with billion dollar endowments and they re doing it with strategy anyone can use', 'Talking to robots might make you feel better about your love life new research shows', 'Women Are Fighting Trump Alleged Dress Code With The DressLikeAWoman Hashtag', 'New initiative to tighten up tackle law may be rugby big bang moment', 'A Trak Murders The Beat on New Minute Mix Cut It Out Listen', 'Race for Life branding is cliched and infantile It time to sink the pink', 'A quarter of people have fantasised sexually about their AI voice assistant study says The list', ' IM HIS BONNIE HE MY CLYDE Couple accused of gunning down Texas teen', 'Bhutan solves the ultimate school maths problem and the answer is ', 'Bomb threats are scary and costly to Jewish centers', 'A viewer guide to the most and least entertaining bowls', 'Monsta Scores First No on World Albums Chart With Beautiful LP', 'ASAP Ferg On Kanye West And Donald Trump Meeting Ye Is Strategic Not Dumb ', 'As Trump Makes Threats Iran Makes Friends', ' Ways Digital Technology Is Changing Your Job', 'Hear Chance the Rapper Jeremih Surprise Mixtape Merry Christmas Lil Mama ', 'A mysterious pair of Google headphones have shown up in FCC filings', 'These strange photos were supposed to teach businessmen how to get in shape for success']\n"
     ]
    }
   ],
   "source": [
    "# determine false positives and false negatives\n",
    "# false positives - actual=0, pred=1\n",
    "false_positive_instances = []\n",
    "for i in range(len(y_pred_output)):\n",
    "    if y_pred_output[i] == 1 \\\n",
    "    and y_test[i] == 0:\n",
    "        false_positive_instances.append(X_test[i])\n",
    "        \n",
    "print(\"number of false positives: %d\" % len(false_positive_instances))\n",
    "print(false_positive_instances)"
   ]
  },
  {
   "cell_type": "code",
   "execution_count": 30,
   "metadata": {},
   "outputs": [
    {
     "name": "stdout",
     "output_type": "stream",
     "text": [
      "number of false negatives: 419\n",
      "['Pair Of Google Home Devices Claim They re Human Quote Nickelback', 'Executive Edge', 'Jon Jones Offers Ronda Rousey Career Advice Following Her Loss', 'Police decide man touching woman thigh on bus wasn harassment for ridiculous reason', 'MSNBC Ruhle Conway Did Break the Glass Ceiling ', 'Brent Musburger Olbermann Should Stick to Sports', 'Former Clinton Campaign Adviser Trump Is Dystopian Super Villain ', 'Poll Democratic Women Most Likely to Block or Unfriend Someone over Politics', 'Trump Blistering Speech at CPAC Follows Bannon Blueprint ', 'Michael Sheen Leaving Hollywood to Fight Rise of Populism Update ', 'Cavaliers LeBron James weighs in on NBA rest conundrum', 'Shahid Mira Cute Banter Dangal National Anthem Leaves Twitterati In Fix More From Ent ', 'Gujarat Boy Who Went Missing During Earthquake Returns Years Later As Monk', 'US truck driver loses his marbles on Indiana highway', 'Four Killed Injured in Jerusalem Truck Ramming Terror Attack', 'Azealia Banks Has Apparently Been Sacrificing Chickens and Twitter Is Very Concerned', 'Get Set For Desi Version Of Fifty Shades Of Grey In This Web Series By Vikram Bhatt ', 'Sean Spicer to ABC Jon Karl Calm Down It Not Your Press Briefing ', 'Donald Trump First Days in Office President Trump to Chris Christie Try the Meatloaf', 'Driverless trucks threaten jobs in Trumpland ', 'SRK AbRam Fun Car Ride Ranbir Kapoor Look For Sanjay Dutt Biopic More From Entertainment', 'Ancient Chaco society passed on power through elite women new DNA evidence finds', 'Pope Francis Muslim Terrorism Does Not Exist ', 'Donald Trump Praises Vladimir Putin Always Knew He Was Very Smart ', 'Stolen baby found alive in South Carolina years on', 'Palin m Extremely Thankful Trump Has Been Elected', 'Ice hockey team forced to apologise for violent mascot after joke fight backfires', ' Under Sports', 'Buzzy Newly Accessible Destinations From the Canadian Arctic to Chengdu China', 'Newborn Abducted From Hospital Bed Set To Reunite With Her Family After Years ', 'Reliance Jio Promises Tariff Packs And Exciting New Offers To Customers Very Soon', 'Medical drones could be the next wave of emergency response ', 'Vote Four burning questions heading into Final Four', 'You ll Miss Carrie Fisher Even More After Watching Ellen DeGeneres Touching Tribute', 'MAFIA EU Farage Blasts Bloc Vindictive Nasty Demands ', 'Carmelo Anthony Open to Phil criticism but prefer on variety', 'Obama Has Refused to Deport Illegal Immigrants Guilty of Murder Rape Drug Offenses and Other Crimes', 'Craftsman famous lifetime warranty in question after million sale', 'The Uruguayan jail where inmates set up shop', 'Watch This Newly Unearthed Kanye West Interview', 'How auto dealers can use GPS and starter interrupter tech to disable your car', 'Donald Trump says he will follow two simple rules and now everyone making the same joke The list', 'Camera Catches Year Old Twins Having Epic Party After Bedtime', 'Maher It Looks Like Russia Installed Trump and His Crime Family To Loot and Destroy America', 'Sessions Improper Tax Credit Payments to Mostly Mexicans Could Fund Border Wall', 'Will Moonlight beat La La land Our final Oscars awards predictions', 'Report Malia Obama Attends Dakota Access Pipeline Protest at Sundance', ' Percent in Japan Approve of Shinzo Abe Trump Visit Communist Party Outraged', 'Android malware new phones and tablets found to be pre installed with virus before being sold', 'White House defends President Trump golf habit and argues it different from Obama s', 'Dividend stocks aren as great as they used to be KO MO ', ' Dear White People trailer sparks backlash as Netflix faces claims of racism', 'Former Miss Italy contestant could lose her sight after jilted boyfriend throws acid in her face leaving the model horrifically scarred ', 'Curt Schilling d Be Voted in MLB HOF if Said Lynch Trump ', 'A Bogey Goods Train Runs Over This Indian Woman But She Survives The Incident Like Boss ', 'Supreme Court nominee Neil Gorsuch was just tripped up by horse sized duck', 'Pooja Bhatt Nucleya Atul Kasbekar Shane Falguni Peacock Came Together To Create This Funky Music Video', 'Kamal Haasan Along With Others Tweeted This Unexplainable Video Of Cop Setting An Auto On Fire', 'Syrian Airfield Strike What Is Tomahawk Land Attack Missile ', 'Washington Post Seethes at Conservative Pushback over Muslim Ban Fake News', 'Carrie Fisher Urn Is Giant Prozac Pill', 'Sweden Asylum Seeker Forced Year Old to Watch Porn Before Raping Her', 'ABC Nightline Issues Correction After Misrepresenting Fleischer to Make Him Seem More Critical of Spicer', 'How Trump abortion funding cuts could affect Africa', 'Islamic State Teen Jailed For Attacking Jewish Teacher in France', 'In Days Donald Trump Hasn Done Much Except Show Off His Signature', 'The least stressful jobs in America', 'One Man Dead in Shooting Near Filming of Boosie Badazz Music Video', 'Migrant Stabs Bouncer at Gay Nightclub After Being Refused Entry', 'Man Filmed His Shooting Death by Sheriff Deputy On Facebook Live', 'McCain makes secret trip to Syria to meet with US troops', 'A new mom flew to Miami to get Brazilian butt lift She didn survive the surgery ', 'Could Debbie Reynolds have died of broken heart ', 'The arrests of Platinum Partners executives aren much consolation for their alleged victims', 'Sean Spicer went full Melissa McCarthy today', ' Savage Kardashian Burns We Still Haven Recovered From', 'Terrifying footage shows the moment woman is flung to the ground after being struck by LIGHTNING as she walks along rainy beach', 'Brzezinski Is Trump Admin Trying to Create Dictatorship ', 'Do YOU recognise these signs of breast cancer Viral photo of lemons with symptoms such as dimpling and skin erosion shows that lumps aren the only red flags to look for ', 'Top Holdover Obama Bureaucrats President Trump Can Fire or Remove Today', 'Fox Sports Talker Joe Buck Advises Announcers to Stick to Sports ', 'Patriots Fans Dance in the Streets Video NYTimes com', 'Boy throws tantrum during encounter with Queen Elizabeth', 'Pakistan bloody week Who is really to blame ', 'Going out in Kabul Little joys in the shadow of fear', 'In Jail Pads and Tampons as Bargaining Chips ', 'Mayor Sadiq Khan Says London Safest Global City Slams Donald Trump Junior', 'Brace Yourself For More Bank Queues As Limits On Cash Withdrawal May Not End On December ', 'U s Brexit Plan Prepare for Failure Hope for Success', 'Trump true ideology has been revealed', 'Travel back to black and white Mac interface with this Apple emulator', 'Trump Approval Ratings Jump to Percent', 'Lisa Kudrow Apparently Wasn F kable Enough For One Friends Guest Star', 'WWE Wrestler Glenn Jacobs Aka Kane Will Run as Republican for County Mayor in Tennessee', ' Key Takeaways From President Trump Speech ', 'No show for Prince William and Prince Harry at traditional Christmas Eve football match', 'Belgian astronomers who found planetary system named it after beer', ' Everything is destroyed deadly surge of violence strikes eastern Ukraine', 'Paul Ryan Trump Will Have the Funding to Build Border Wall', 'Govt Doesn Care About Cash Crunch Raises Fuel Prices Other Major Reads From Today', 'Trump Administration Solicits Border Wall Proposals from Contractors', 'A Paper Airplane Drone That Nearly Indestructible', 'A young boy devastating brain tumor and parents who will do anything ', 'Face transplant recipient overwhelmed by result', 'Visually Impaired Malayalam Singer Chooses Career Over Marriage Sets New World Record ', 'Good News for Irish Taxpayer May Be Bad News for Irish Investors', 'In Nod to Gender Inclusivity University of Minnesota Drops King Queen From Homecoming Titles', 'Nicki Minaj baby bump photo sends singer fans into frenzy', 'A new German poll shows an unexpected challenge for Merkel', 'The new Interior secretary rode horse to work because why not', 'WashPost Never Trump Republicans Complain About Never Getting Job at the New White House', 'Even After Years The Bhopal Gas Tragedy Victims Continue To Wait For Justice', 'Kellogg Foundation Supports Group Headed by Cop Killer Loving Black Lives Matter Founder', 'CNN Jeffrey Lord called Trump the MLK of health care He then had very long day ', 'Donald Trump got behind the wheel of truck and everyone is making the same joke The list', ' year old boy celebrates end of chemo treatments with adorable dance', 'Here are of the most notable members of Mar Lago Trump Winter White House that costs to join', 'At Bangalore Football Stadium Feet Long Snakes Have Ball And Players Remain Scared', 'Appeals Court Judges Explain Why Donald Trump Immigration Order is Legal', 'Kurtz Establishment Media Hyperventilation Over Trump Selection of Press Conference Questioners Whiny ', ' Detroit Free Press Sports Op Ed Insists Players Should Become Left Wing Activists', 'NBC Chuck Todd to John Kelly Is Deporting Illegals the Best Use of Money ', 'America doesn care anymore detains beloved children book author', 'Double Edged Sword Home Prices Keep Rising Home Inventory Keeps Falling', 'Scotland could join Canada but should it Your responses', 'Paying for President Trump Travel and Security Costs ', 'The unmistakable anatomy of President Trump flip flop', 'Meet the pooches of Puppy Bowl Glenn Duke and Dawson Nikita Noodle and Basher Jr Lucky and Ricky Maybell and Hope Woody and Tucker Slippers Rory and Parfait Foster Bebop and Daphne Jill Rappaport and Tucker Referee Dan Schachner and Rory Referee Dan Schachner and Nikita Bradie', 'Zsa Zsa Gabor knew femininity was performance She played it perfectly', 'Jeff Immelt on Dealing With Trump and Globalization', 'Goldberg defeats Kevin Owens to win WWE Universal Championship', 'James Baldwin Archive Long Hidden Comes Mostly Into View ', 'Woman Snapping Selfies On California Highest Bridge Falls Feet', ' They re sold like shoes Cambodia building boom built on slave labour report says', 'Shaq furnishes home of Atlanta girl who survived dog attack', 'Edel Rodriguez Weaponized Cover Art Viral Dissent', 'Cartel Gunmen Wish Merry Christmas by Beheading Rival in Front of His Children', 'Driver Keeps Commuters Jingling All the Way With Christmas Themed Public Bus Yahoo', 'Sharpton Bernie Sanders Lost Black Voters Because He Couldn See Difference Between Main Street MLK Blvd', 'Comey the Russia Probe and the FISA Court Role QuickTake A', 'The strongest and weakest American cities', 'Persistent year old boy sees man lying in parking lot saves his life', 'Musk Surprise Rapport With Trump Means Rally for Tesla', 'Kailash Kher Has Problem With Sonakshi KJo Lashes Out At Troller And More From Ent ', 'Simon and Schuster Children Authors Publish Letter Protesting MILO', 'Rand Paul Somebody Should Go To Jail For Trump Intel Leaks', 'Topshop Graphic Tee Has Major Typo', 'Sextacles How Snapchat new Spectacles are being used in the sack', 'War for the Planet of the Apes trailer sees Caesar go into battle with humans', 'Legendary astronaut John Glenn inspiring life in photos', 'The president of visuals', 'Antibiotic that can cure hospital acquired pneumonia is the first new drug of its class for years and could dramatically reduce patient deaths', 'Report explains the privacy issues of wearable health data collection', 'Warring neighbours delight internet with intense sign war ', 'Phil Simms May Have Farted Away His Career at CBS Literally', 'Rishi Kapoor Tweet Gets Massively Trolled Twinkle Khanna rd Birthday More From Ent ', 'Pilot walked away after plane crashes nose first on Maine highway ', 'YouTube fix brings million videos back to Restricted Mode', ' No Nazi in the Hofburg Demonstrators march through Vienna in protest against Austrian presidential hopeful Norbert Hofer amid fears Europe could be headed for its first far right leader to be elected since WWII ', 'The nuclear bunkers designed for luxury living', 'Stephen Colbert Has the Perfect Dumbass Answer to Kid Rock Badass Grill', 'People Are Screaming After Guy Hilariously Called Out His Mom For Lying On Facebook', 'Facebook Targets Fake French Accounts Before Election', 'Kendrick Lamar Revealed Title Of His New Album DAMN Over Week Ago', 'The Electric Porsche Needs to Roar', 'Indian army cancels recruitment exams after leak ', 'Where Apple Ranks In Warren Buffett Portfolio', 'Gruesome ISIS video shows Turkish soldiers burned alive ', 'Shaquille Neal Once Tipped Because Restaurant Server Asked', 'Yes Teenager Dabbed in Front of Paul Ryan ', 'NASA Mosul Kim Jong nam Your Thursday Briefing ', 'EU Lawmaker Says News Publishers Rights Proposal Should Be Dropped ', 'Ancient Chinese tomb sweeping festival goes hi tech', 'MS Dhoni Has Narrow Escape As He Is Rescued From Fire At His Hotel In Dwarka', 'The man who has President Trump ear', 'Women are washing their hair less than three times week for the first time in decade ', 'A top NATO general echoes Trump calling aspects of alliance obsolete ', 'Alexa Stop Making Life Miserable for Anyone With Similar Name ', 'Ashley Graham Still Loves Naked Dresses', 'The Greatest Late Night Snacks From Around the World', 'Justin Amash Obamacare Has No Constituency Except The Political Class', 'Controversial Turkish Marriage Guide Allows Wife Beating', 'Hot Chart Moves Katy Perry James Arthur Lorde Hit New Heights', 'Why don Japanese drivers buy US cars ', 'Trump Tweet About Chelsea Manning And Obama Is Interesting For Few Reasons', 'Watch Live Briefing with Attorneys of United Airlines Passenger Forced off Plane', 'Roseanne Barr Obama Anti Israel UN Action Like Nazis Who Enacted Anti Jewish Laws on the Eve of Jewish Holidays ', 'Kashmiri Scholar Threatened Forced To Leave BITS Pilani Other Top Stories', 'When President Says ll Kill You Video NYTimes com', 'Trump m Nationalist and Globalist ', 'Republicans Unfazed by Controversies Surrounding Cabinet Nominees ', 'Can Donald Trump Arab honeymoon last ', 'World most colourful run ', 'McDonald Cashier Act Of Kindness Toward Boy With Autism Is An Inspiration', 'FULL REMARKS MILO Delivers Speech at Press Conference Amid Video Scandal', 'Morgan StanleyVoice Should Investors Party Like It ', 'New on Netflix May House of Cards Master of None Is for Family returning in streaming service best month yet', 'That really IS barely there bikini Footage of woman modelling eye popping metallic swimwear sparks debate with some convinced she actually NAKED', 'Tahir Shah Leaves Pakistan Kareena Saif Officially Introduce Baby Taimur More From Ent', 'Washington Post Trump Appointments of Military Officers May Turn S Into Dictatorship', 'Another Journalist Murdered in Mexico', 'Karan Johar Becomes Father To Twins Irrfan Khan Gets Mobbed In Gangtok More From Ent', 'How Astronauts Will Ring in the New Year', 'Israel and the Palestinians What are alternatives to two state solution ', 'Sussanne And Aren Trying To Set Any Example Says Hrithik Roshan On His Friendship With Her', 'Saints hype man Jarrius Robertson misses draft to get liver transplant', 'Quebec mosque attack Student Alexandre Bissonnette charged', 'Don Leave Job Interview Without Asking These Questions', 'Polar vortex returns Here where it ll be coldest', 'Rachel Maddow Airs Headline Linking Venezuelan Protests to Trump Retracts Online', 'Tucker Carlson Takes Over Bill Reilly Time Slot In More Ways Than One', ' Bollywood Celebs Who Received Death Threats As Price For Money Stardom', 'The stunning fall of Aaron Hernandez', 'Megyn Kelly is now one of the highest paid hosts on TV here where her salary ranks', 'Annie Lennox AIDS Isn Over We Still Have Long Way to Go ', 'Bay Area Public Radio Mourns Obama Food Legacy ', ' st drug OK for movement disorder caused by certain meds', 'Watch Tina Fey as Felicity Jones Only Hope in SNL Opening Monologue', 'Washington Capitals Social Night Fails Epically After They Mistake Real Picture for Face Swap', 'Girlfriend somehow delighted by her boyfriend gift of an empty box', ' You didn even go in hard The day dad ruined junior football', 'Ed Sheeran tour Tickets to go on sale for additional show celebrating th anniversary of the Arena', 'Cubs dominate MLB list of most popular jerseys', 'WATCH Speaker Paul Ryan Ad Uses Donald Trump to Sell Healthcare Bill', 'A Kansas lawmaker just compared Planned Parenthood to Nazi death camp', 'Corbyn Theresa May in denial about NHS crisis and scapegoating GPs', ' Cent Talks Kanye West Hospitalization You Could See That Coming ', 'Donald Trump US Treasury Secretary Things you may not know about ex Goldman banker Steven Mnuchin', 'Hollywood Agency CAA to Host Diversity Summit with J Abrams Kerry Washington', ' things for Thursday March Travel ban Yahoo hack Trump budget Syria', ' Countries With The Most Unfilled Jobs', 'Was This Tweet the Reason La La Land Was Announced as Best Picture Instead of Moonlight ', 'Morgan Freeman Trump Winner Hope Will Be Good President ', 'Re What will happen in the post nuclear wasteland on Capitol Hill ', 'Visit Myanmar Capital Now There Still Lot Not to See', 'How regularly book round trip international flights for less than ', 'These Charts Show New Winners of China Transition to Wealth', 'Pearl Harbor Wounds of war still hurt for yo Japanese veteran', 'Bangladesh Family Vogue Model Killed for Refusing to Wear Islamic Garments', 'SNL Vladimir Putin Takes Credit for Trump Election Hooray We Did It ', 'Ed Sheeran Shape of You Other Songs That Added Writers After Release', 'Where does the Ivanka Trump brand go from here ', 'After Brutally Killing Kangaroo With Metal Pipe Two Men Have Been Jailed In Australia', 'Who divorced who married and who took gay lover Love Actually what happened next according to fan fiction', 'Richard Sherman Waited Months to Rip Cam Newton for Something He Did Last Season', 'How Howard Schultz Earned More Than Half Billion Dollars in Nine Years', 'The dead snap is revolutionizing the quarterback center exchange', 'Urban Meyer had last laugh in prank war with recruit Baron Browning', 'Erdogan European Headscarf Ban Started Clash Between the Cross and the Crescent ', 'Virat Kohli Fluent Hundred Keeps India Afloat Even As England Make Dents In Their Batting Order', ' Yes We Did Obama Says in Farewell Address but Warns of Threats to Democracy ', 'Nepal transgender model dazzles India', 'Texas Border Couple Admits to Pimping Minors', ' have to feed my lizard Singletons reveal the LAMEST excuses they ve made for cancelling date from needing to watch Game of Thrones to running out of shampoo', 'Wasserman Schultz Donald Trump Believes He Was Elected as Dictator ', 'LIVE Yahoo earnings', 'Trust Records Show Trump Is Still Closely Tied to His Empire ', 'Executive Edge', 'Mark Cuban Trump Is Political Chemotherapy for the System', 'The S Economy Full Tank Conundrum', 'The Daily Show Trevor Noah compares Donald Trump America to apartheid in his home country of South Africa', 'Cut back crew for ISS launch', 'How disaster inspired multi billion dollar business', 'Congressman Calls for Federal Probe into John Podesta Board Membership on Firms Linked to Russian Investors', 'Steve Harvey Reveals His Holiday Plans and New Year Resolutions Video ', 'Thieves can steal your smartphone PIN code in SECONDS using thermal cameras and Android users are at greater risk ', 'US Congressman Says That Pakistan Should Not Be Given Single Dollar Unless It Acts Against Haqqani', 'Watch NBC TODAY Show Excerpt Free Online Baby Dressed As Lion Comes to Face to face With the Real Thing Yahoo View', 'The American diet hasn changed in years except for this one thing', 'Rapper Who Burned Donald Trump Mask Arrested in Connection with Violent Home Invasion', 'Sean Hannity Is Still Upset Ted Koppel Said He Was Bad for America ', 'Breaking down the tournament field region by region', 'One California Democrat Admits He Tired of Trashing Trump', 'Shares in Pearson Premier Foods and Mitie plunge after profit warning strike', 'Dip back in beat the hummus crisis with this quick recipe', 'Where Will Kendrick Lamar Next Studio Album Take Us ', 'WhiteHouse gov Takes Down Climate Page Puts Up America First Energy Plan', 'A Wedding Invitation With The Swachh Bharat Logo Leaves PM Narendra Modi Impressed', 'Steve Ballmer Serves Up Fascinating Data Trove ', 'Anti ageing breakthrough Reprogramming the body could extend lifespan say scientists', 'Icy US road pile up caught on camera', 'Google and Uber alums have created doctor office that like an Apple Store meets Westworld ', 'Delivery boy becomes the third richest man in China Humble worker who defied the odds to set up his own business is now worth billion', 'No Charges for Hijab Hate Hoax Says Prosecutor', 'The First Pictures From NOAA Newest Weather Satellite Are Incredible', 'Chris Sale is great addition for the Red Sox There just one problem ', 'How conniving carmakers caused the diesel air pollution crisis', 'FBI Captures Top Most Wanted Fugitive In Los Angeles', 'MILO Cameraman Assaulted Equipment Broken', 'Florida Gators mascot made spectacular play to save an unsuspecting young fan', 'Fact Check Did Treasury Nominee Bank Foreclose on Year Old Widow Insider', 'Fix Is In House Committee on Russian Hacking Includes Only DNC Hired Tech Experts', 'Snapchat just released minute video about itself', ' Full House Creator Purchases Original Tanner House in San Francisco', 'FULL TEXT Merry MILO Christmas at Minnesota State University', 'Breakthrough Ebola vaccine proves highly protective ', 'Apple replaces the iPad Air with new inch model for ', 'Krauthammer Obama Deluding Himself When He Says Race Relations Have Improved', 'Is Justin Trudeau the Anti Trump ', 'A third of US millennials still live at home census report finds', 'Climate Scientist Fires Back at House Science Committee During Hearing', 'Hope for troops as antibiotics show they could be exciting new treatment for PTSD', 'Kevin Durant Finally Settles the Longstanding Debate of What Height He Really Is', 'A behaviourist guide to New Year resolutions', 'Over patients forced to change surgery as record number of GP practices close', 'Critics Say Trump Appointees Can Dodge Huge Tax Bill That Not the Case ', 'Is Australia on the brink of becoming completely cashless society ', 'Apple said to be secretly working on diabetes holy grail ', 'Singular Single Malt Whiskeys Born in the USA', 'The Government Is Trying to Shut Down the Cannabis Cup', 'Logan Ryan Reynolds has seen Wolverine and thinks it ll win Oscars', 'Ex NFL RB Montee Ball reveals he would get drunk times week', 'Wild Siberian survival reality show sounds lot like Hunger Games ', 'WashPost Never Trump Republicans Complain About Never Getting Job at the New White House', 'Qualcomm announces ax Wi Fi solutions for more capacity', 'New Yorker White House Press Corps Livid over Trump Trolling ', 'Director Joss Whedon Calls Ivanka Trump Dog', 'Kellyanne Conway Inauguration Outfit Gave People Lot Of Feelings', 'Unsurprisingly Celebrities Were Not Impressed With Donald Trump Press Conference', 'Will you stick to your New Year fitness regime Subscribe now for full access or register to continue reading Subscribe now for full access or register to continue', ' Iron Fist Star Blames Rise of Trump for Terrible Reviews', ' OscarsSoWhite Creator Still Waiting for LGBT Romantic Comedies Disabled Superheroes', 'The hottest housing markets for ', 'Trump America Are voters impressed ', 'Watch Live White House Welcomes New England Patriots', 'Meghan Markle pens revealing essay on being biracial in Hollywood', 'The map of the world according to where prostitution is legal The list', 'Our Articles on the Attacks Trump Says the Media Didn Cover ', 'Russian Diplomat Assassin Sister Says Police School Not Gulen Radicalized Him', 'Donald Trump Has Found Something Mysterious For Rudy Giuliani To Do', 'China Investors See Silver Lining for Stocks as Bonds Tumble', ' Hot Mugshot Guy Is Now Super Rich Living in Mansion', 'Ask Billboard Madonna Career Album Sales', 'Michael Moore reveals plans for major protest at Donald Trump inauguration', 'Surprise Trump is listening to critics', 'The Biggest Moment Of Nancy Pelosi Town Hall Almost Didn Happen', 'UK beauty queen cured her severe acne with one simple diet trick', 'Chris Long Says He Won Visit White House to Honor Super Bowl Win', 'Inside the largest Earth science event The time has never been more urgent ', 'Reasons to vote for Democrats tops Amazon bestseller list', 'A Travel Hacker Guide to Elite Status in and Beyond', ' Shots Fired is the most vital show on TV right now', 'Former NFL TE Tony Gonzalez Skipping Out on White House Visit Silly ', 'Manmohan Singh Office Knew Changing Requirements To Fit AgustaWestland Bid Says SP Tyagi', 'JPMorgan ChaseVoice Digital Marketing Tips For Small Business Owners', 'Bird flu detected in chicken breeding facility in Tennessee ', 'How Long Before The Dow Jones Industrial Average Reaches ', 'China Rising Downloads Falling Takeaways From the IFPI Global Music Report', 'Freezing lows will put blossoms at risk this weekend Here how to protect them ', ' Bambi rescued from frozen lake', 'Tough Trade Weakens Hand of K Retailers as Refinancing Looms', 'The Best Luxury Pot Accessories for High Class Smoke', 'Australia on cusp of large scale solar boom as setup costs tumble experts say', 'Barbie battles Star Wars and Hatchimals at the register', 'Democrat Civil War Anybody Who Gives Money to David Brock Is Pissing Down Rat Hole ', ' saw him drop my daughter with the rope and couldn continue to watch Thai mother of month old baby murdered on Facebook Live reveals the horrifying moment she saw her girl killed', 'Nixon Tried to Spoil Johnson Vietnam Peace Talks in Notes Show ', 'Sarah Silverman Mistakes Construction Markings for Swastikas', 'Win one of brilliant designer gifts worth and help the Telegraph charity appeal ', 'Carrie Fisher Laid to Rest in Prozac Pill Urn', 'Two Thirds of Americans Aren Putting Money in Their ', 'Sunil Grover Writes An Open Letter To Pm Modi Urges Him To Get Dawood Nabbed', 'Rosie Donnell Urges Melania Trump Divorce Donald and Flee ', 'How the face of MLB steroid era is getting closer to the Hall of Fame', 'A genuinely believable CGI actor It won be long', 'The B Cooper case baffled investigators for decades Now scientists have new theory ', 'Jimmy Kimmel Knows Who Really Replacing Bill Reilly', 'An Expert Take on Performing Under Pressure', 'Watch This Jet Powered Exosuit Turn Inventor into Real Life Iron Man', ' NFL Mock Draft Matt Miller Final Round Predictions', 'America Favorite Vinyl Records By State', 'Mom Blasted for Encouraging Toddler to Pole Dance in Disturbing Video', 'Nicki Minaj And Aretha Franklin Are Now Tied For The Most Hot Songs By Woman', 'Champagne Prosecco and British Fizz Why the new name for our bubbly is causing stir', 'Optimism Among S CEOs Shows Biggest Increase Since ', 'Kellyanne Conway Democratic Leaders Should Put Stop to Violent Anti Trump Protesters', 'Barack Obama evolution in years of hip hop lyrics', 'NCAA Tournament Ranking the Top Performers Through the First Round', 'Sen Liz Warren Refuses to Disavow Madonna Wish to Blow Up the White House ', 'UC Berkeley Investigates Alleged Employee Who Assaulted MILO Fan During Riot', 'Teen Nearly Blinded by Hair Dye', 'The super secret division in charge of the Russia investigation', 'New York Times Authority on Fake News Aide to Disgraced Financier Jon Corzine', 'Dr Herb London Russia Dying Nation Putin Uses Glories of Foreign Policy to Distract from Failure at Home', 'Celebrities Trash Neil Gorsuch Suggest He Uses Gay Sex App Anti LGBTQ Terrifying ', 'Economy Gains Jobs in January Under President Trump', 'America Richest Celebrities George Lucas Leads Steven Spielberg And Oprah', 'She was on course for stardom Then she entrusted her career to USA Swimming', ' International Companies Offering Remote Jobs In ', 'Russell Westbrook Dodges Questions About Kevin Durant in Hilarious Way', 'Champagne and Guy Fawkes masks An inauguration party for Donald Trump in Russia', 'Meet the sexbots The contenders in the BILLION race to create an AI sex doll that can chat and never says no ', 'PROMO Essential Tech Additions to Your Holiday Travel Gear', 'Amgen Drug Prevents Heart Attacks Not Deaths Disappointing Experts', 'Will Carrigan suicide sparks Where There A Will campaign for mental health programs in schools', 'Hyderabad Cops Catch Kids Watching Porn ISIS Beheadings In Internet Cafes Parade Them In Front Of Media', 'Chris Pratt Handles Body Shamers In The Most Chris Pratt Way', 'Obama Organizing for Action Throws Fire Sale Off Don Tread on My Obamacare Bumper Sticker', ' have been fundamentally condemned to die in prison drug dealer wrote Obama listened ', 'British singer open letter about racist encounter on train', 'US family stranded on south side of border fence', 'Cancer Breakthrough Aids One Patient Raises Hopes for Many', 'Film Fraternity Mourns Jayalalithaa Death Manish Malhotra Star Studded th Bday Bash And More From Ent', 'The Casey Anthony trial is dissected again in new documentary this weekend But why ', 'Who Is Alexander Acosta Trump Labor Nominee Supports Amnesty Cheap Foreign Labor', ' FinTech Companies Helping Millennials Dominate Their Finances This Year', 'Oscars breakdown of the audience reactions to La La Land Moonlight Best Picture blunder', 'In American Towns Private Profits From Public Works ', 'How to heat up your style during the cold season Paid content by UNIQLO ', 'Trump inauguration Full text of new president speech', 'PROMO Toyota and Photographer Anthony Supreme Get to Know the Unknown', 'James Corden Suggests New Catchphrase For America Economy', 'Apprehensive Putin Says No To Diplomatic Dog Gifted By Japan PM Shinzo Abe', 'Tennessee cowboy lassoes runaway calf from police car in viral video', 'The Atlantic VP Democratization of News via the Internet Left People Overwhelmed with Information ', 'Ranking the NBA Top Free Agents This Summer', 'Russia should reinstate the monarchy and appoint PUTIN as royal emperor says influential Moscow churchman ', 'Cop Whose House Burned Down Gets Christmas Surprise From Randy Travis Insider', 'Did Kim Kardashian hint at divorce before her long awaited return to Instagram ']\n"
     ]
    }
   ],
   "source": [
    "# false negatives - actual=1, pred=0\n",
    "false_negative_instances = []\n",
    "for i in range(len(y_pred_output)):\n",
    "    if y_pred_output[i] == 0 \\\n",
    "    and y_test[i] == 1:\n",
    "        false_negative_instances.append(X_test[i])\n",
    "        \n",
    "print(\"number of false negatives: %d\" % len(false_negative_instances))\n",
    "print(false_negative_instances)"
   ]
  },
  {
   "cell_type": "markdown",
   "metadata": {},
   "source": [
    "## Using LSTMs"
   ]
  },
  {
   "cell_type": "code",
   "execution_count": null,
   "metadata": {},
   "outputs": [],
   "source": [
    "# get dataset\n",
    "df1 = get_large_dataset()"
   ]
  },
  {
   "cell_type": "code",
   "execution_count": null,
   "metadata": {},
   "outputs": [],
   "source": [
    "X1 = df1[\"title\"]\n",
    "y1 = df1[\"label\"]\n",
    "y1 = [1 if y1[i] == '1' else 0 for i in range(len(y1))]\n",
    "\n",
    "# process text\n",
    "X1_processed = [preprocess_text(X1[i]) for i in range(len(X1))]"
   ]
  },
  {
   "cell_type": "code",
   "execution_count": null,
   "metadata": {},
   "outputs": [],
   "source": [
    "# split dataset into train and test\n",
    "X1_train_temp, X1_test, y1_train_temp, y1_test = train_test_split(X1_processed, y1, test_size=0.20, random_state=42)"
   ]
  },
  {
   "cell_type": "code",
   "execution_count": null,
   "metadata": {},
   "outputs": [],
   "source": [
    "# oversample minority instances (clickbait) to equalise number of instances\n",
    "print('Original dataset shape %s' % Counter(y1))\n",
    "ros = RandomOverSampler(random_state=0)\n",
    "X1_train_temp2 = np.asarray(X1_train_temp)\n",
    "X1_train_temp2 = X1_train_temp2.reshape(-1, 1)\n",
    "X1_train, y1_train = ros.fit_resample(X1_train_temp2, y1_train_temp)\n",
    "\n",
    "print('Resampled dataset shape %s' % sorted(Counter(y1_train).items()))"
   ]
  },
  {
   "cell_type": "code",
   "execution_count": null,
   "metadata": {},
   "outputs": [],
   "source": [
    "# create a word-to-index dictionary\n",
    "MAX_NUM_WORDS = 20000\n",
    "tokenizer1 = Tokenizer(num_words=MAX_NUM_WORDS)\n",
    "X1_train_list = [X1_train[i][0] for i in range(len(X1_train))]\n",
    "tokenizer1.fit_on_texts(X1_train_list)\n",
    "\n",
    "X1_train_tok = tokenizer1.texts_to_sequences(X1_train_list)\n",
    "X1_test_tok = tokenizer1.texts_to_sequences(X1_test)\n",
    "\n",
    "word_index1 = tokenizer1.word_index\n",
    "print('Found %s unique tokens.' % len(word_index1))"
   ]
  },
  {
   "cell_type": "code",
   "execution_count": null,
   "metadata": {},
   "outputs": [],
   "source": [
    "# Adding 1 because of reserved 0 index\n",
    "vocab_size1 = len(tokenizer1.word_index) + 1\n",
    "\n",
    "maxlen1 = 100\n",
    "\n",
    "X1_train_padded = pad_sequences(X1_train_tok, padding='post', maxlen=maxlen1)\n",
    "X1_test_padded = pad_sequences(X1_test_tok, padding='post', maxlen=maxlen1)\n",
    "\n",
    "print('Shape of data tensor:', X1_train_padded.shape)\n",
    "print('Shape of label tensor:', y1_train.shape)"
   ]
  },
  {
   "cell_type": "code",
   "execution_count": null,
   "metadata": {},
   "outputs": [],
   "source": [
    "# create an embedding matrix where each row number will correspond to the index of the word in the corpus\n",
    "embedding_matrix = np.zeros((vocab_size1, 100))\n",
    "for word, index in tokenizer1.word_index.items():\n",
    "    embedding_vector = embeddings_dictionary.get(word)\n",
    "    if embedding_vector is not None:\n",
    "        embedding_matrix[index] = embedding_vector"
   ]
  },
  {
   "cell_type": "code",
   "execution_count": null,
   "metadata": {
    "scrolled": false
   },
   "outputs": [],
   "source": [
    "# set up models\n",
    "lstm_out = 128\n",
    "dropout = 0.4\n",
    "learning_rate = 1e-4\n",
    "\n",
    "model1 = Sequential()\n",
    "model1.add(Embedding(vocab_size1, 100, weights=[embedding_matrix], input_length=maxlen1, trainable=False))\n",
    "model1.add(LSTM(lstm_out))\n",
    "model1.add(Dropout(dropout))\n",
    "model1.add(Dense(256))\n",
    "model1.add(Dense(1, activation='sigmoid', kernel_initializer='glorot_normal'))\n",
    "\n",
    "opt = Adam(lr=learning_rate)\n",
    "\n",
    "model1.compile(loss='binary_crossentropy', optimizer=opt, metrics=['accuracy'])\n",
    "print(model1.summary())"
   ]
  },
  {
   "cell_type": "code",
   "execution_count": null,
   "metadata": {},
   "outputs": [],
   "source": [
    "### Create model checkpoint\n",
    "output_dir = os.getcwd()\n",
    "modelcheckpoint = ModelCheckpoint(filepath = output_dir + \"/RNN_oversampledafter.{epoch:02d}-{val_loss:.2f}.hdf5\",\n",
    "                                 monitor='val_loss', verbose=1, save_best_only=True)\n",
    "callbacks_list = [modelcheckpoint]#, EarlyStopping(monitor = \"val_loss\", patience = 15)]"
   ]
  },
  {
   "cell_type": "code",
   "execution_count": null,
   "metadata": {},
   "outputs": [],
   "source": [
    "#Hyper-Params\n",
    "epochs = 100\n",
    "batch_size = 32\n",
    "\n",
    "# train model\n",
    "history1 = model1.fit(X1_train_padded, y1_train, batch_size = batch_size, epochs=epochs, verbose=1, validation_split=0., callbacks=callbacks_list)"
   ]
  },
  {
   "cell_type": "code",
   "execution_count": null,
   "metadata": {},
   "outputs": [],
   "source": [
    "plot_loss_accuracy(history1)"
   ]
  },
  {
   "cell_type": "code",
   "execution_count": null,
   "metadata": {},
   "outputs": [],
   "source": [
    "y1_pred = model1.predict(X1_test_padded, verbose=1)\n",
    "\n",
    "print_cm(y1_test, y1_pred)"
   ]
  },
  {
   "cell_type": "code",
   "execution_count": null,
   "metadata": {
    "scrolled": true
   },
   "outputs": [],
   "source": [
    "print(model1.metrics_names)\n",
    "model1.evaluate(X1_test_padded, y1_test)"
   ]
  },
  {
   "cell_type": "markdown",
   "metadata": {},
   "source": [
    "### Using LSTM - best val loss model"
   ]
  },
  {
   "cell_type": "code",
   "execution_count": null,
   "metadata": {},
   "outputs": [],
   "source": [
    "# load best val loss model to compare with overfitted model above\n",
    "from keras.models import load_model\n",
    "\n",
    "wd = os.getcwd()\n",
    "path = wd + \"/best_models/RNNWeights_v5_try2.54-0.52.hdf5\"\n",
    "model_b = load_model(path)"
   ]
  },
  {
   "cell_type": "code",
   "execution_count": null,
   "metadata": {},
   "outputs": [],
   "source": [
    "y_pred_b = model_b.predict(X1_test_padded, verbose=1)\n",
    "\n",
    "print_cm(y1_test, y_pred_b)"
   ]
  },
  {
   "cell_type": "code",
   "execution_count": null,
   "metadata": {},
   "outputs": [],
   "source": [
    "print(model_b.metrics_names)\n",
    "model_b.evaluate(X1_test_padded, y1_test)"
   ]
  },
  {
   "cell_type": "markdown",
   "metadata": {},
   "source": [
    "### Using DNN - best val loss model"
   ]
  },
  {
   "cell_type": "code",
   "execution_count": null,
   "metadata": {},
   "outputs": [],
   "source": [
    "# load best val loss model to compare with overfitted model above\n",
    "wd = os.getcwd()\n",
    "path = wd + \"/best_models/DNNWeights_v5_try2.01-0.45.hdf5\"\n",
    "model_dnn = load_model(path)"
   ]
  },
  {
   "cell_type": "markdown",
   "metadata": {},
   "source": [
    "#### Using large test set"
   ]
  },
  {
   "cell_type": "code",
   "execution_count": null,
   "metadata": {
    "scrolled": false
   },
   "outputs": [],
   "source": [
    "y_pred_dnn = model_dnn.predict(X1_test_padded, verbose=1)\n",
    "\n",
    "print_cm(y1_test, y_pred_dnn)"
   ]
  },
  {
   "cell_type": "code",
   "execution_count": null,
   "metadata": {
    "scrolled": false
   },
   "outputs": [],
   "source": [
    "print(model_dnn.metrics_names)\n",
    "model_dnn.evaluate(X_test_padded, y1_test)"
   ]
  }
 ],
 "metadata": {
  "colab": {
   "collapsed_sections": [],
   "name": "CS3244 RNN with fasttext.ipynb",
   "provenance": []
  },
  "kernelspec": {
   "display_name": "Python 3",
   "language": "python",
   "name": "python3"
  },
  "language_info": {
   "codemirror_mode": {
    "name": "ipython",
    "version": 3
   },
   "file_extension": ".py",
   "mimetype": "text/x-python",
   "name": "python",
   "nbconvert_exporter": "python",
   "pygments_lexer": "ipython3",
   "version": "3.7.4"
  }
 },
 "nbformat": 4,
 "nbformat_minor": 1
}
