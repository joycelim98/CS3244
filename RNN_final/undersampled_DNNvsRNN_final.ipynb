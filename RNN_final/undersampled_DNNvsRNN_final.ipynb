{
 "cells": [
  {
   "cell_type": "markdown",
   "metadata": {},
   "source": [
    "## DNN (MLP) vs LSTM\n",
    "\n",
    "This notebook mainly compares a DNN (MLP) (1 layer) vs an LSTM for determining whether an article is clickbait from its title. We balance out the instances in each class as well.\n",
    "\n",
    "Here: we undersample instead of oversample"
   ]
  },
  {
   "cell_type": "raw",
   "metadata": {},
   "source": [
    "!pip3 install fasttext\n",
    "!pip3 install pandas numpy tensorflow sklearn scipy six keras matplotlib pydot imbalanced-learn seaborn"
   ]
  },
  {
   "cell_type": "code",
   "execution_count": 2,
   "metadata": {
    "colab": {
     "base_uri": "https://localhost:8080/",
     "height": 80
    },
    "colab_type": "code",
    "id": "7O-jpVEA42cc",
    "outputId": "7da0dceb-d05f-4b95-dc97-08fd146ea392",
    "scrolled": true
   },
   "outputs": [
    {
     "name": "stderr",
     "output_type": "stream",
     "text": [
      "Using TensorFlow backend.\n",
      "/home/mj/.local/lib/python3.7/site-packages/tensorflow/python/framework/dtypes.py:516: FutureWarning: Passing (type, 1) or '1type' as a synonym of type is deprecated; in a future version of numpy, it will be understood as (type, (1,)) / '(1,)type'.\n",
      "  _np_qint8 = np.dtype([(\"qint8\", np.int8, 1)])\n",
      "/home/mj/.local/lib/python3.7/site-packages/tensorflow/python/framework/dtypes.py:517: FutureWarning: Passing (type, 1) or '1type' as a synonym of type is deprecated; in a future version of numpy, it will be understood as (type, (1,)) / '(1,)type'.\n",
      "  _np_quint8 = np.dtype([(\"quint8\", np.uint8, 1)])\n",
      "/home/mj/.local/lib/python3.7/site-packages/tensorflow/python/framework/dtypes.py:518: FutureWarning: Passing (type, 1) or '1type' as a synonym of type is deprecated; in a future version of numpy, it will be understood as (type, (1,)) / '(1,)type'.\n",
      "  _np_qint16 = np.dtype([(\"qint16\", np.int16, 1)])\n",
      "/home/mj/.local/lib/python3.7/site-packages/tensorflow/python/framework/dtypes.py:519: FutureWarning: Passing (type, 1) or '1type' as a synonym of type is deprecated; in a future version of numpy, it will be understood as (type, (1,)) / '(1,)type'.\n",
      "  _np_quint16 = np.dtype([(\"quint16\", np.uint16, 1)])\n",
      "/home/mj/.local/lib/python3.7/site-packages/tensorflow/python/framework/dtypes.py:520: FutureWarning: Passing (type, 1) or '1type' as a synonym of type is deprecated; in a future version of numpy, it will be understood as (type, (1,)) / '(1,)type'.\n",
      "  _np_qint32 = np.dtype([(\"qint32\", np.int32, 1)])\n",
      "/home/mj/.local/lib/python3.7/site-packages/tensorflow/python/framework/dtypes.py:525: FutureWarning: Passing (type, 1) or '1type' as a synonym of type is deprecated; in a future version of numpy, it will be understood as (type, (1,)) / '(1,)type'.\n",
      "  np_resource = np.dtype([(\"resource\", np.ubyte, 1)])\n",
      "/home/mj/.local/lib/python3.7/site-packages/tensorboard/compat/tensorflow_stub/dtypes.py:541: FutureWarning: Passing (type, 1) or '1type' as a synonym of type is deprecated; in a future version of numpy, it will be understood as (type, (1,)) / '(1,)type'.\n",
      "  _np_qint8 = np.dtype([(\"qint8\", np.int8, 1)])\n",
      "/home/mj/.local/lib/python3.7/site-packages/tensorboard/compat/tensorflow_stub/dtypes.py:542: FutureWarning: Passing (type, 1) or '1type' as a synonym of type is deprecated; in a future version of numpy, it will be understood as (type, (1,)) / '(1,)type'.\n",
      "  _np_quint8 = np.dtype([(\"quint8\", np.uint8, 1)])\n",
      "/home/mj/.local/lib/python3.7/site-packages/tensorboard/compat/tensorflow_stub/dtypes.py:543: FutureWarning: Passing (type, 1) or '1type' as a synonym of type is deprecated; in a future version of numpy, it will be understood as (type, (1,)) / '(1,)type'.\n",
      "  _np_qint16 = np.dtype([(\"qint16\", np.int16, 1)])\n",
      "/home/mj/.local/lib/python3.7/site-packages/tensorboard/compat/tensorflow_stub/dtypes.py:544: FutureWarning: Passing (type, 1) or '1type' as a synonym of type is deprecated; in a future version of numpy, it will be understood as (type, (1,)) / '(1,)type'.\n",
      "  _np_quint16 = np.dtype([(\"quint16\", np.uint16, 1)])\n",
      "/home/mj/.local/lib/python3.7/site-packages/tensorboard/compat/tensorflow_stub/dtypes.py:545: FutureWarning: Passing (type, 1) or '1type' as a synonym of type is deprecated; in a future version of numpy, it will be understood as (type, (1,)) / '(1,)type'.\n",
      "  _np_qint32 = np.dtype([(\"qint32\", np.int32, 1)])\n",
      "/home/mj/.local/lib/python3.7/site-packages/tensorboard/compat/tensorflow_stub/dtypes.py:550: FutureWarning: Passing (type, 1) or '1type' as a synonym of type is deprecated; in a future version of numpy, it will be understood as (type, (1,)) / '(1,)type'.\n",
      "  np_resource = np.dtype([(\"resource\", np.ubyte, 1)])\n"
     ]
    }
   ],
   "source": [
    "import os\n",
    "import random\n",
    "import pandas as pd\n",
    "import numpy as np\n",
    "import matplotlib.pyplot as plt\n",
    "\n",
    "from imblearn.under_sampling import RandomUnderSampler\n",
    "\n",
    "from keras.preprocessing.text import Tokenizer\n",
    "from keras.preprocessing.sequence import pad_sequences\n",
    "from keras.utils import to_categorical\n",
    "from keras.layers import Dense, Flatten, Input, Embedding, LSTM, Dropout, BatchNormalization, GRU\n",
    "from keras.models import Model, Sequential\n",
    "from keras.initializers import Constant\n",
    "from keras.callbacks import ModelCheckpoint, EarlyStopping\n",
    "from keras.optimizers import Adam, SGD, RMSprop\n",
    "\n",
    "from sklearn.model_selection import train_test_split\n",
    "from sklearn.metrics import confusion_matrix\n",
    "from sklearn.utils.multiclass import unique_labels\n",
    "\n",
    "from small_dataset import get_small_dataset\n",
    "from large_dataset_title import get_large_dataset\n",
    "\n",
    "from keras.datasets import imdb\n",
    "from keras.preprocessing import sequence\n",
    "from collections import Counter\n",
    "\n",
    "from sklearn.metrics import f1_score"
   ]
  },
  {
   "cell_type": "markdown",
   "metadata": {},
   "source": [
    "## Preliminaries"
   ]
  },
  {
   "cell_type": "code",
   "execution_count": 3,
   "metadata": {},
   "outputs": [],
   "source": [
    "def plot_confusion_matrix(y_true, y_pred, classes,\n",
    "                          normalize=False,\n",
    "                          title=None,\n",
    "                          cmap=plt.cm.Blues):\n",
    "    \"\"\"\n",
    "    This function prints and plots the confusion matrix.\n",
    "    Normalization can be applied by setting `normalize=True`.\n",
    "    \"\"\"\n",
    "    if not title:\n",
    "        if normalize:\n",
    "            title = 'Normalized confusion matrix'\n",
    "        else:\n",
    "            title = 'Confusion matrix, without normalization'\n",
    "\n",
    "    # Compute confusion matrix\n",
    "    cm = confusion_matrix(y_true, y_pred)\n",
    "    # Only use the labels that appear in the data\n",
    "    #classes = classes[unique_labels(y_true, y_pred)]\n",
    "    if normalize:\n",
    "        cm = cm.astype('float') / cm.sum(axis=1)[:, np.newaxis]\n",
    "        print(\"Normalized confusion matrix\")\n",
    "    else:\n",
    "        print('Confusion matrix, without normalization')\n",
    "\n",
    "    print(cm)\n",
    "\n",
    "    fig, ax = plt.subplots()\n",
    "    im = ax.imshow(cm, interpolation='nearest', cmap=cmap)\n",
    "    ax.figure.colorbar(im, ax=ax)\n",
    "    # We want to show all ticks...\n",
    "    ax.set(xticks=np.arange(cm.shape[1]),\n",
    "           yticks=np.arange(cm.shape[0]),\n",
    "           # ... and label them with the respective list entries\n",
    "           xticklabels=classes, yticklabels=classes,\n",
    "           title=title,\n",
    "           ylabel='True label',\n",
    "           xlabel='Predicted label')\n",
    "\n",
    "    # Rotate the tick labels and set their alignment.\n",
    "    plt.setp(ax.get_xticklabels(), rotation=45, ha=\"right\",\n",
    "             rotation_mode=\"anchor\")\n",
    "\n",
    "    # Loop over data dimensions and create text annotations.\n",
    "    fmt = '.2f' if normalize else 'd'\n",
    "    thresh = cm.max() / 2.\n",
    "    for i in range(cm.shape[0]):\n",
    "        for j in range(cm.shape[1]):\n",
    "            ax.text(j, i, format(cm[i, j], fmt),\n",
    "                    ha=\"center\", va=\"center\",\n",
    "                    color=\"white\" if cm[i, j] > thresh else \"black\")\n",
    "    fig.tight_layout()\n",
    "    return ax"
   ]
  },
  {
   "cell_type": "code",
   "execution_count": 4,
   "metadata": {},
   "outputs": [],
   "source": [
    "def print_cm(y_test, y_pred):\n",
    "    y_test = np.array(y_test)\n",
    "\n",
    "    y_pred_output = np.array([1 if y_pred[i] > 0.5 else 0 for i in range(len(y_pred))])\n",
    "    cm = confusion_matrix(y_test, y_pred_output)\n",
    "\n",
    "    class_names = [\"nonclickbait\", \"clickbait\"]\n",
    "    plot_confusion_matrix(y_test, y_pred_output, classes=class_names,\n",
    "                          title='Confusion matrix, without normalization')\n",
    "\n",
    "    # Plot normalized confusion matrix\n",
    "    plot_confusion_matrix(y_test, y_pred_output, classes=class_names, normalize=True,\n",
    "                          title='Normalized confusion matrix')\n",
    "\n",
    "    plt.show()"
   ]
  },
  {
   "cell_type": "code",
   "execution_count": 5,
   "metadata": {},
   "outputs": [],
   "source": [
    "# preprocess text to remove redundant things\n",
    "# courtesy of https://stackabuse.com/python-for-nlp-movie-sentiment-analysis-using-deep-learning-in-keras/\n",
    "import re\n",
    "\n",
    "def preprocess_text(sen):\n",
    "    # Remove punctuations and numbers\n",
    "    sentence = re.sub('[^a-zA-Z]', ' ', sen)\n",
    "\n",
    "    # Single character removal\n",
    "    sentence = re.sub(r\"\\s+[a-zA-Z]\\s+\", ' ', sentence)\n",
    "\n",
    "    # Removing multiple spaces\n",
    "    sentence = re.sub(r'\\s+', ' ', sentence)\n",
    "\n",
    "    return sentence"
   ]
  },
  {
   "cell_type": "code",
   "execution_count": 6,
   "metadata": {},
   "outputs": [
    {
     "name": "stdout",
     "output_type": "stream",
     "text": [
      "Indexing word vectors.\n",
      "Found 400000 word vectors.\n"
     ]
    }
   ],
   "source": [
    "\"\"\"\n",
    "Code courtesy of https://keras.io/examples/pretrained_word_embeddings/\n",
    "Inspiration also from https://blog.keras.io/using-pre-trained-word-embeddings-in-a-keras-model.html\n",
    "\"\"\"\n",
    "# load glove embeddings - only need to be run once\n",
    "BASE_DIR = ''\n",
    "GLOVE_DIR = os.path.join(BASE_DIR, 'glove.6B')\n",
    "EMBEDDING_DIM = 100  # because using glove.6B.100\n",
    "\n",
    "# first, build index mapping words in the embeddings set\n",
    "# to their embedding vector\n",
    "print('Indexing word vectors.')\n",
    "\n",
    "embeddings_dictionary = {}\n",
    "with open(os.path.join(GLOVE_DIR, 'glove.6B.100d.txt')) as f:\n",
    "    for line in f:\n",
    "        word, coefs = line.split(maxsplit=1)\n",
    "        coefs = np.fromstring(coefs, 'f', sep=' ')\n",
    "        embeddings_dictionary[word] = coefs\n",
    "\n",
    "print('Found %s word vectors.' % len(embeddings_dictionary))"
   ]
  },
  {
   "cell_type": "code",
   "execution_count": 28,
   "metadata": {},
   "outputs": [],
   "source": [
    "def plot_loss_accuracy(history):\n",
    "    # Plot training & validation accuracy values\n",
    "    plt.plot(history.history['accuracy'])\n",
    "    plt.plot(history.history['val_accuracy'])\n",
    "\n",
    "    plt.title('Model accuracy')\n",
    "    plt.ylabel('Accuracy')\n",
    "    plt.xlabel('Epoch')\n",
    "    plt.legend(['Train', 'Test'], loc='lower right')\n",
    "    plt.show()\n",
    "\n",
    "    # Plot training & validation loss values\n",
    "    plt.plot(history.history['loss'])\n",
    "    plt.plot(history.history['val_loss'])\n",
    "    plt.title('Model loss')\n",
    "    plt.ylabel('Loss')\n",
    "    plt.xlabel('Epoch')\n",
    "    plt.legend(['Train', 'Test'], loc='upper right')\n",
    "    plt.show()"
   ]
  },
  {
   "cell_type": "markdown",
   "metadata": {},
   "source": [
    "## Using normal deep neural network (1 dense layer)"
   ]
  },
  {
   "cell_type": "code",
   "execution_count": 36,
   "metadata": {},
   "outputs": [
    {
     "data": {
      "text/plain": [
       "'World Anti-Doping Agency lifts ban on Madrid laboratory'"
      ]
     },
     "execution_count": 36,
     "metadata": {},
     "output_type": "execute_result"
    }
   ],
   "source": [
    "# get dataset\n",
    "df = get_large_dataset()\n",
    "df[\"title\"][5]"
   ]
  },
  {
   "cell_type": "code",
   "execution_count": 37,
   "metadata": {},
   "outputs": [
    {
     "name": "stdout",
     "output_type": "stream",
     "text": [
      "Original dataset shape Counter({0: 14777, 1: 4761})\n",
      "Resampled dataset shape [(0, 4761), (1, 4761)]\n"
     ]
    }
   ],
   "source": [
    "# undersample majority instances (non-clickbait) to equalise number of instances\n",
    "X = df[\"title\"]\n",
    "y = df[\"label\"]\n",
    "y = [1 if y[i] == '1' else 0 for i in range(len(y))]\n",
    "\n",
    "print('Original dataset shape %s' % Counter(y))\n",
    "ros = RandomUnderSampler(random_state=0)\n",
    "X_reshaped = X.values.reshape(-1, 1)\n",
    "X_resampled, y_resampled = ros.fit_resample(X_reshaped, y)\n",
    "\n",
    "print('Resampled dataset shape %s' % sorted(Counter(y_resampled).items()))"
   ]
  },
  {
   "cell_type": "code",
   "execution_count": 38,
   "metadata": {},
   "outputs": [
    {
     "data": {
      "text/plain": [
       "<matplotlib.axes._subplots.AxesSubplot at 0x7fc0c4517950>"
      ]
     },
     "execution_count": 38,
     "metadata": {},
     "output_type": "execute_result"
    },
    {
     "data": {
      "image/png": "[encoded data removed]",
      "text/plain": [
       "<Figure size 432x288 with 1 Axes>"
      ]
     },
     "metadata": {
      "needs_background": "light"
     },
     "output_type": "display_data"
    }
   ],
   "source": [
    "# visualise number of instances of each label\n",
    "import seaborn as sns\n",
    "\n",
    "sns.countplot(y_resampled)"
   ]
  },
  {
   "cell_type": "code",
   "execution_count": null,
   "metadata": {},
   "outputs": [],
   "source": [
    "# remove punctuation etc\n",
    "print(X_resampled[99])\n",
    "X_processed = [preprocess_text(X_resampled[i][0]) for i in range(len(X_resampled))]\n",
    "print(X_processed[99])"
   ]
  },
  {
   "cell_type": "code",
   "execution_count": 40,
   "metadata": {},
   "outputs": [],
   "source": [
    "# split dataset into train and test\n",
    "X_train, X_test, y_train, y_test = train_test_split(X_processed, y_resampled, test_size=0.20, random_state=42)"
   ]
  },
  {
   "cell_type": "code",
   "execution_count": 41,
   "metadata": {},
   "outputs": [
    {
     "name": "stdout",
     "output_type": "stream",
     "text": [
      "Found 13468 unique tokens.\n"
     ]
    }
   ],
   "source": [
    "# create a word-to-index dictionary\n",
    "MAX_NUM_WORDS = 20000\n",
    "tokenizer = Tokenizer(num_words=MAX_NUM_WORDS)\n",
    "tokenizer.fit_on_texts(X_train)\n",
    "\n",
    "X_train_tok = tokenizer.texts_to_sequences(X_train)\n",
    "X_test_tok = tokenizer.texts_to_sequences(X_test)\n",
    "\n",
    "word_index = tokenizer.word_index\n",
    "print('Found %s unique tokens.' % len(word_index))"
   ]
  },
  {
   "cell_type": "code",
   "execution_count": 42,
   "metadata": {},
   "outputs": [
    {
     "name": "stdout",
     "output_type": "stream",
     "text": [
      "Shape of data tensor: (7617, 100)\n",
      "Shape of label tensor: (7617,)\n"
     ]
    }
   ],
   "source": [
    "# Adding 1 because of reserved 0 index\n",
    "vocab_size = len(tokenizer.word_index) + 1\n",
    "\n",
    "maxlen = 100\n",
    "\n",
    "X_train_padded = pad_sequences(X_train_tok, padding='post', maxlen=maxlen)\n",
    "X_test_padded = pad_sequences(X_test_tok, padding='post', maxlen=maxlen)\n",
    "\n",
    "print('Shape of data tensor:', X_train_padded.shape)\n",
    "print('Shape of label tensor:', y_train.shape)"
   ]
  },
  {
   "cell_type": "code",
   "execution_count": 44,
   "metadata": {},
   "outputs": [],
   "source": [
    "# create an embedding matrix where each row number will correspond to the index of the word in the corpus\n",
    "embedding_matrix = np.zeros((vocab_size, 100))\n",
    "for word, index in tokenizer.word_index.items():\n",
    "    embedding_vector = embeddings_dictionary.get(word)\n",
    "    if embedding_vector is not None:\n",
    "        embedding_matrix[index] = embedding_vector"
   ]
  },
  {
   "cell_type": "code",
   "execution_count": 45,
   "metadata": {},
   "outputs": [
    {
     "name": "stdout",
     "output_type": "stream",
     "text": [
      "Model: \"sequential_3\"\n",
      "_________________________________________________________________\n",
      "Layer (type)                 Output Shape              Param #   \n",
      "=================================================================\n",
      "embedding_3 (Embedding)      (None, 100, 100)          1346900   \n",
      "_________________________________________________________________\n",
      "flatten_2 (Flatten)          (None, 10000)             0         \n",
      "_________________________________________________________________\n",
      "dropout_3 (Dropout)          (None, 10000)             0         \n",
      "_________________________________________________________________\n",
      "dense_5 (Dense)              (None, 64)                640064    \n",
      "_________________________________________________________________\n",
      "batch_normalization_2 (Batch (None, 64)                256       \n",
      "_________________________________________________________________\n",
      "dense_6 (Dense)              (None, 1)                 65        \n",
      "=================================================================\n",
      "Total params: 1,987,285\n",
      "Trainable params: 640,257\n",
      "Non-trainable params: 1,347,028\n",
      "_________________________________________________________________\n",
      "None\n"
     ]
    }
   ],
   "source": [
    "# set up models\n",
    "dense_out = 64\n",
    "dropout = 0.5\n",
    "dropout_embedding = 0.2\n",
    "learning_rate = 1e-5\n",
    "\n",
    "model = Sequential()\n",
    "model.add(Embedding(vocab_size, 100, weights=[embedding_matrix], input_length=maxlen, trainable=False))\n",
    "model.add(Flatten())\n",
    "model.add(Dropout(dropout))\n",
    "model.add(Dense(dense_out, batch_size=3, activation='relu'))\n",
    "model.add(BatchNormalization())\n",
    "model.add(Dense(1, activation='sigmoid', kernel_initializer='glorot_normal'))\n",
    "\n",
    "opt = Adam(lr=1e-5)\n",
    "\n",
    "model.compile(loss='binary_crossentropy', optimizer=opt, metrics=['accuracy'])\n",
    "print(model.summary())"
   ]
  },
  {
   "cell_type": "code",
   "execution_count": 46,
   "metadata": {},
   "outputs": [],
   "source": [
    "### Create model checkpoint\n",
    "output_dir = os.getcwd()\n",
    "modelcheckpoint = ModelCheckpoint(filepath = output_dir + \"/DNNWeights_v5_try2.{epoch:02d}-{val_loss:.2f}.hdf5\",\n",
    "                                 monitor='val_loss', verbose=1, save_best_only=True)\n",
    "callbacks_list = [modelcheckpoint]#, EarlyStopping(monitor = \"val_loss\", patience = 15)]"
   ]
  },
  {
   "cell_type": "code",
   "execution_count": 47,
   "metadata": {},
   "outputs": [
    {
     "name": "stdout",
     "output_type": "stream",
     "text": [
      "Train on 6093 samples, validate on 1524 samples\n",
      "Epoch 1/100\n",
      "6093/6093 [==============================] - 4s 585us/step - loss: 0.8911 - accuracy: 0.4909 - val_loss: 0.6996 - val_accuracy: 0.5361\n",
      "\n",
      "Epoch 00001: val_loss improved from inf to 0.69965, saving model to /home/mj/Documents/School_Work/CS3244/PROJECT/CS3244Project/RNN/DNNWeights_v5_try2.01-0.70.hdf5\n",
      "Epoch 2/100\n",
      "6093/6093 [==============================] - 3s 459us/step - loss: 0.8376 - accuracy: 0.5219 - val_loss: 0.6990 - val_accuracy: 0.5650\n",
      "\n",
      "Epoch 00002: val_loss improved from 0.69965 to 0.69902, saving model to /home/mj/Documents/School_Work/CS3244/PROJECT/CS3244Project/RNN/DNNWeights_v5_try2.02-0.70.hdf5\n",
      "Epoch 3/100\n",
      "6093/6093 [==============================] - 3s 463us/step - loss: 0.7912 - accuracy: 0.5498 - val_loss: 0.6896 - val_accuracy: 0.5886\n",
      "\n",
      "Epoch 00003: val_loss improved from 0.69902 to 0.68962, saving model to /home/mj/Documents/School_Work/CS3244/PROJECT/CS3244Project/RNN/DNNWeights_v5_try2.03-0.69.hdf5\n",
      "Epoch 4/100\n",
      "6093/6093 [==============================] - 3s 460us/step - loss: 0.7577 - accuracy: 0.5780 - val_loss: 0.6781 - val_accuracy: 0.5997\n",
      "\n",
      "Epoch 00004: val_loss improved from 0.68962 to 0.67807, saving model to /home/mj/Documents/School_Work/CS3244/PROJECT/CS3244Project/RNN/DNNWeights_v5_try2.04-0.68.hdf5\n",
      "Epoch 5/100\n",
      "6093/6093 [==============================] - 3s 467us/step - loss: 0.7491 - accuracy: 0.5907 - val_loss: 0.6676 - val_accuracy: 0.6129\n",
      "\n",
      "Epoch 00005: val_loss improved from 0.67807 to 0.66758, saving model to /home/mj/Documents/School_Work/CS3244/PROJECT/CS3244Project/RNN/DNNWeights_v5_try2.05-0.67.hdf5\n",
      "Epoch 6/100\n",
      "6093/6093 [==============================] - 3s 525us/step - loss: 0.7248 - accuracy: 0.5946 - val_loss: 0.6596 - val_accuracy: 0.6286\n",
      "\n",
      "Epoch 00006: val_loss improved from 0.66758 to 0.65956, saving model to /home/mj/Documents/School_Work/CS3244/PROJECT/CS3244Project/RNN/DNNWeights_v5_try2.06-0.66.hdf5\n",
      "Epoch 7/100\n",
      "6093/6093 [==============================] - 4s 578us/step - loss: 0.7117 - accuracy: 0.6051 - val_loss: 0.6541 - val_accuracy: 0.6371\n",
      "\n",
      "Epoch 00007: val_loss improved from 0.65956 to 0.65407, saving model to /home/mj/Documents/School_Work/CS3244/PROJECT/CS3244Project/RNN/DNNWeights_v5_try2.07-0.65.hdf5\n",
      "Epoch 8/100\n",
      "6093/6093 [==============================] - 3s 538us/step - loss: 0.6976 - accuracy: 0.6255 - val_loss: 0.6489 - val_accuracy: 0.6411\n",
      "\n",
      "Epoch 00008: val_loss improved from 0.65407 to 0.64887, saving model to /home/mj/Documents/School_Work/CS3244/PROJECT/CS3244Project/RNN/DNNWeights_v5_try2.08-0.65.hdf5\n",
      "Epoch 9/100\n",
      "6093/6093 [==============================] - 3s 556us/step - loss: 0.6855 - accuracy: 0.6294 - val_loss: 0.6465 - val_accuracy: 0.6516\n",
      "\n",
      "Epoch 00009: val_loss improved from 0.64887 to 0.64650, saving model to /home/mj/Documents/School_Work/CS3244/PROJECT/CS3244Project/RNN/DNNWeights_v5_try2.09-0.65.hdf5\n",
      "Epoch 10/100\n",
      "6093/6093 [==============================] - 4s 632us/step - loss: 0.6824 - accuracy: 0.6281 - val_loss: 0.6430 - val_accuracy: 0.6503\n",
      "\n",
      "Epoch 00010: val_loss improved from 0.64650 to 0.64297, saving model to /home/mj/Documents/School_Work/CS3244/PROJECT/CS3244Project/RNN/DNNWeights_v5_try2.10-0.64.hdf5\n",
      "Epoch 11/100\n",
      "6093/6093 [==============================] - 4s 586us/step - loss: 0.6659 - accuracy: 0.6368 - val_loss: 0.6405 - val_accuracy: 0.6490\n",
      "\n",
      "Epoch 00011: val_loss improved from 0.64297 to 0.64048, saving model to /home/mj/Documents/School_Work/CS3244/PROJECT/CS3244Project/RNN/DNNWeights_v5_try2.11-0.64.hdf5\n",
      "Epoch 12/100\n",
      "6093/6093 [==============================] - 3s 554us/step - loss: 0.6654 - accuracy: 0.6370 - val_loss: 0.6393 - val_accuracy: 0.6535\n",
      "\n",
      "Epoch 00012: val_loss improved from 0.64048 to 0.63932, saving model to /home/mj/Documents/School_Work/CS3244/PROJECT/CS3244Project/RNN/DNNWeights_v5_try2.12-0.64.hdf5\n",
      "Epoch 13/100\n",
      "6093/6093 [==============================] - 4s 591us/step - loss: 0.6572 - accuracy: 0.6457 - val_loss: 0.6372 - val_accuracy: 0.6588\n",
      "\n",
      "Epoch 00013: val_loss improved from 0.63932 to 0.63716, saving model to /home/mj/Documents/School_Work/CS3244/PROJECT/CS3244Project/RNN/DNNWeights_v5_try2.13-0.64.hdf5\n",
      "Epoch 14/100\n",
      "6093/6093 [==============================] - 3s 537us/step - loss: 0.6703 - accuracy: 0.6401 - val_loss: 0.6351 - val_accuracy: 0.6640\n",
      "\n",
      "Epoch 00014: val_loss improved from 0.63716 to 0.63506, saving model to /home/mj/Documents/School_Work/CS3244/PROJECT/CS3244Project/RNN/DNNWeights_v5_try2.14-0.64.hdf5\n",
      "Epoch 15/100\n",
      "6093/6093 [==============================] - 3s 502us/step - loss: 0.6434 - accuracy: 0.6489 - val_loss: 0.6336 - val_accuracy: 0.6608\n",
      "\n",
      "Epoch 00015: val_loss improved from 0.63506 to 0.63357, saving model to /home/mj/Documents/School_Work/CS3244/PROJECT/CS3244Project/RNN/DNNWeights_v5_try2.15-0.63.hdf5\n",
      "Epoch 16/100\n",
      "6093/6093 [==============================] - 4s 685us/step - loss: 0.6356 - accuracy: 0.6658 - val_loss: 0.6324 - val_accuracy: 0.6640\n",
      "\n",
      "Epoch 00016: val_loss improved from 0.63357 to 0.63237, saving model to /home/mj/Documents/School_Work/CS3244/PROJECT/CS3244Project/RNN/DNNWeights_v5_try2.16-0.63.hdf5\n",
      "Epoch 17/100\n",
      "6093/6093 [==============================] - 4s 732us/step - loss: 0.6345 - accuracy: 0.6634 - val_loss: 0.6307 - val_accuracy: 0.6634\n",
      "\n",
      "Epoch 00017: val_loss improved from 0.63237 to 0.63073, saving model to /home/mj/Documents/School_Work/CS3244/PROJECT/CS3244Project/RNN/DNNWeights_v5_try2.17-0.63.hdf5\n",
      "Epoch 18/100\n",
      "6093/6093 [==============================] - 4s 700us/step - loss: 0.6256 - accuracy: 0.6616 - val_loss: 0.6292 - val_accuracy: 0.6693\n",
      "\n",
      "Epoch 00018: val_loss improved from 0.63073 to 0.62919, saving model to /home/mj/Documents/School_Work/CS3244/PROJECT/CS3244Project/RNN/DNNWeights_v5_try2.18-0.63.hdf5\n",
      "Epoch 19/100\n",
      "6093/6093 [==============================] - 4s 687us/step - loss: 0.6242 - accuracy: 0.6672 - val_loss: 0.6284 - val_accuracy: 0.6713\n",
      "\n",
      "Epoch 00019: val_loss improved from 0.62919 to 0.62844, saving model to /home/mj/Documents/School_Work/CS3244/PROJECT/CS3244Project/RNN/DNNWeights_v5_try2.19-0.63.hdf5\n",
      "Epoch 20/100\n",
      "6093/6093 [==============================] - 4s 594us/step - loss: 0.6152 - accuracy: 0.6709 - val_loss: 0.6273 - val_accuracy: 0.6693\n",
      "\n",
      "Epoch 00020: val_loss improved from 0.62844 to 0.62728, saving model to /home/mj/Documents/School_Work/CS3244/PROJECT/CS3244Project/RNN/DNNWeights_v5_try2.20-0.63.hdf5\n",
      "Epoch 21/100\n",
      "6093/6093 [==============================] - 3s 538us/step - loss: 0.6126 - accuracy: 0.6673 - val_loss: 0.6262 - val_accuracy: 0.6673\n",
      "\n",
      "Epoch 00021: val_loss improved from 0.62728 to 0.62624, saving model to /home/mj/Documents/School_Work/CS3244/PROJECT/CS3244Project/RNN/DNNWeights_v5_try2.21-0.63.hdf5\n",
      "Epoch 22/100\n",
      "6093/6093 [==============================] - 4s 646us/step - loss: 0.6079 - accuracy: 0.6796 - val_loss: 0.6267 - val_accuracy: 0.6627\n",
      "\n",
      "Epoch 00022: val_loss did not improve from 0.62624\n",
      "Epoch 23/100\n",
      "6093/6093 [==============================] - 3s 534us/step - loss: 0.6091 - accuracy: 0.6785 - val_loss: 0.6271 - val_accuracy: 0.6667\n",
      "\n",
      "Epoch 00023: val_loss did not improve from 0.62624\n",
      "Epoch 24/100\n",
      "6093/6093 [==============================] - 3s 470us/step - loss: 0.6063 - accuracy: 0.6727 - val_loss: 0.6262 - val_accuracy: 0.6627\n",
      "\n",
      "Epoch 00024: val_loss improved from 0.62624 to 0.62623, saving model to /home/mj/Documents/School_Work/CS3244/PROJECT/CS3244Project/RNN/DNNWeights_v5_try2.24-0.63.hdf5\n",
      "Epoch 25/100\n",
      "6093/6093 [==============================] - 3s 480us/step - loss: 0.5972 - accuracy: 0.6831 - val_loss: 0.6275 - val_accuracy: 0.6654\n",
      "\n",
      "Epoch 00025: val_loss did not improve from 0.62623\n",
      "Epoch 26/100\n",
      "6093/6093 [==============================] - 3s 488us/step - loss: 0.5958 - accuracy: 0.6823 - val_loss: 0.6272 - val_accuracy: 0.6660\n",
      "\n",
      "Epoch 00026: val_loss did not improve from 0.62623\n",
      "Epoch 27/100\n",
      "6093/6093 [==============================] - 3s 531us/step - loss: 0.5899 - accuracy: 0.6834 - val_loss: 0.6261 - val_accuracy: 0.6634\n",
      "\n",
      "Epoch 00027: val_loss improved from 0.62623 to 0.62610, saving model to /home/mj/Documents/School_Work/CS3244/PROJECT/CS3244Project/RNN/DNNWeights_v5_try2.27-0.63.hdf5\n",
      "Epoch 28/100\n",
      "6093/6093 [==============================] - 3s 541us/step - loss: 0.5868 - accuracy: 0.6905 - val_loss: 0.6257 - val_accuracy: 0.6621\n",
      "\n",
      "Epoch 00028: val_loss improved from 0.62610 to 0.62568, saving model to /home/mj/Documents/School_Work/CS3244/PROJECT/CS3244Project/RNN/DNNWeights_v5_try2.28-0.63.hdf5\n",
      "Epoch 29/100\n",
      "6093/6093 [==============================] - 3s 504us/step - loss: 0.5828 - accuracy: 0.6942 - val_loss: 0.6249 - val_accuracy: 0.6601\n",
      "\n",
      "Epoch 00029: val_loss improved from 0.62568 to 0.62491, saving model to /home/mj/Documents/School_Work/CS3244/PROJECT/CS3244Project/RNN/DNNWeights_v5_try2.29-0.62.hdf5\n",
      "Epoch 30/100\n",
      "6093/6093 [==============================] - 3s 490us/step - loss: 0.5821 - accuracy: 0.6914 - val_loss: 0.6244 - val_accuracy: 0.6594\n",
      "\n",
      "Epoch 00030: val_loss improved from 0.62491 to 0.62443, saving model to /home/mj/Documents/School_Work/CS3244/PROJECT/CS3244Project/RNN/DNNWeights_v5_try2.30-0.62.hdf5\n",
      "Epoch 31/100\n",
      "6093/6093 [==============================] - 3s 512us/step - loss: 0.5747 - accuracy: 0.7044 - val_loss: 0.6234 - val_accuracy: 0.6594\n",
      "\n",
      "Epoch 00031: val_loss improved from 0.62443 to 0.62343, saving model to /home/mj/Documents/School_Work/CS3244/PROJECT/CS3244Project/RNN/DNNWeights_v5_try2.31-0.62.hdf5\n",
      "Epoch 32/100\n",
      "6093/6093 [==============================] - 4s 721us/step - loss: 0.5803 - accuracy: 0.6982 - val_loss: 0.6240 - val_accuracy: 0.6634\n",
      "\n",
      "Epoch 00032: val_loss did not improve from 0.62343\n",
      "Epoch 33/100\n",
      "6093/6093 [==============================] - 3s 475us/step - loss: 0.5841 - accuracy: 0.6985 - val_loss: 0.6234 - val_accuracy: 0.6601\n",
      "\n",
      "Epoch 00033: val_loss did not improve from 0.62343\n",
      "Epoch 34/100\n",
      "6093/6093 [==============================] - 3s 522us/step - loss: 0.5764 - accuracy: 0.7015 - val_loss: 0.6247 - val_accuracy: 0.6594\n",
      "\n",
      "Epoch 00034: val_loss did not improve from 0.62343\n",
      "Epoch 35/100\n",
      "6093/6093 [==============================] - 3s 507us/step - loss: 0.5732 - accuracy: 0.6993 - val_loss: 0.6255 - val_accuracy: 0.6608\n",
      "\n",
      "Epoch 00035: val_loss did not improve from 0.62343\n",
      "Epoch 36/100\n",
      "6093/6093 [==============================] - 3s 503us/step - loss: 0.5708 - accuracy: 0.6995 - val_loss: 0.6254 - val_accuracy: 0.6581\n",
      "\n",
      "Epoch 00036: val_loss did not improve from 0.62343\n",
      "Epoch 37/100\n",
      "6093/6093 [==============================] - 3s 502us/step - loss: 0.5744 - accuracy: 0.6985 - val_loss: 0.6258 - val_accuracy: 0.6562\n",
      "\n",
      "Epoch 00037: val_loss did not improve from 0.62343\n",
      "Epoch 38/100\n",
      "6093/6093 [==============================] - 3s 497us/step - loss: 0.5730 - accuracy: 0.6982 - val_loss: 0.6249 - val_accuracy: 0.6594\n",
      "\n",
      "Epoch 00038: val_loss did not improve from 0.62343\n",
      "Epoch 39/100\n",
      "6093/6093 [==============================] - 3s 537us/step - loss: 0.5598 - accuracy: 0.7118 - val_loss: 0.6244 - val_accuracy: 0.6601\n",
      "\n",
      "Epoch 00039: val_loss did not improve from 0.62343\n",
      "Epoch 40/100\n",
      "6093/6093 [==============================] - 3s 474us/step - loss: 0.5630 - accuracy: 0.7065 - val_loss: 0.6240 - val_accuracy: 0.6581\n",
      "\n",
      "Epoch 00040: val_loss did not improve from 0.62343\n",
      "Epoch 41/100\n",
      "6093/6093 [==============================] - 3s 510us/step - loss: 0.5673 - accuracy: 0.6990 - val_loss: 0.6245 - val_accuracy: 0.6588\n",
      "\n",
      "Epoch 00041: val_loss did not improve from 0.62343\n",
      "Epoch 42/100\n",
      "6093/6093 [==============================] - 3s 502us/step - loss: 0.5604 - accuracy: 0.7090 - val_loss: 0.6245 - val_accuracy: 0.6608\n",
      "\n",
      "Epoch 00042: val_loss did not improve from 0.62343\n",
      "Epoch 43/100\n",
      "6093/6093 [==============================] - 3s 499us/step - loss: 0.5617 - accuracy: 0.7033 - val_loss: 0.6254 - val_accuracy: 0.6647\n",
      "\n",
      "Epoch 00043: val_loss did not improve from 0.62343\n",
      "Epoch 44/100\n",
      "6093/6093 [==============================] - 3s 513us/step - loss: 0.5550 - accuracy: 0.7167 - val_loss: 0.6254 - val_accuracy: 0.6621\n",
      "\n",
      "Epoch 00044: val_loss did not improve from 0.62343\n",
      "Epoch 45/100\n",
      "6093/6093 [==============================] - 3s 492us/step - loss: 0.5644 - accuracy: 0.7125 - val_loss: 0.6247 - val_accuracy: 0.6601\n",
      "\n",
      "Epoch 00045: val_loss did not improve from 0.62343\n",
      "Epoch 46/100\n",
      "6093/6093 [==============================] - 3s 451us/step - loss: 0.5462 - accuracy: 0.7241 - val_loss: 0.6246 - val_accuracy: 0.6601\n",
      "\n",
      "Epoch 00046: val_loss did not improve from 0.62343\n",
      "Epoch 47/100\n",
      "6093/6093 [==============================] - 3s 517us/step - loss: 0.5599 - accuracy: 0.7102 - val_loss: 0.6243 - val_accuracy: 0.6634\n",
      "\n",
      "Epoch 00047: val_loss did not improve from 0.62343\n",
      "Epoch 48/100\n",
      "6093/6093 [==============================] - 3s 505us/step - loss: 0.5505 - accuracy: 0.7134 - val_loss: 0.6264 - val_accuracy: 0.6640\n",
      "\n",
      "Epoch 00048: val_loss did not improve from 0.62343\n",
      "Epoch 49/100\n",
      "6093/6093 [==============================] - 3s 566us/step - loss: 0.5499 - accuracy: 0.7144 - val_loss: 0.6271 - val_accuracy: 0.6614\n",
      "\n",
      "Epoch 00049: val_loss did not improve from 0.62343\n",
      "Epoch 50/100\n",
      "6093/6093 [==============================] - 4s 592us/step - loss: 0.5463 - accuracy: 0.7192 - val_loss: 0.6271 - val_accuracy: 0.6660\n",
      "\n",
      "Epoch 00050: val_loss did not improve from 0.62343\n",
      "Epoch 51/100\n",
      "6093/6093 [==============================] - 3s 502us/step - loss: 0.5461 - accuracy: 0.7169 - val_loss: 0.6265 - val_accuracy: 0.6660\n",
      "\n",
      "Epoch 00051: val_loss did not improve from 0.62343\n",
      "Epoch 52/100\n",
      "6093/6093 [==============================] - 3s 462us/step - loss: 0.5579 - accuracy: 0.7144 - val_loss: 0.6279 - val_accuracy: 0.6680\n",
      "\n",
      "Epoch 00052: val_loss did not improve from 0.62343\n",
      "Epoch 53/100\n",
      "6093/6093 [==============================] - 3s 477us/step - loss: 0.5514 - accuracy: 0.7138 - val_loss: 0.6263 - val_accuracy: 0.6660\n",
      "\n",
      "Epoch 00053: val_loss did not improve from 0.62343\n",
      "Epoch 54/100\n",
      "6093/6093 [==============================] - 3s 498us/step - loss: 0.5457 - accuracy: 0.7149 - val_loss: 0.6265 - val_accuracy: 0.6621\n",
      "\n",
      "Epoch 00054: val_loss did not improve from 0.62343\n",
      "Epoch 55/100\n",
      "6093/6093 [==============================] - 3s 492us/step - loss: 0.5449 - accuracy: 0.7238 - val_loss: 0.6264 - val_accuracy: 0.6614\n",
      "\n",
      "Epoch 00055: val_loss did not improve from 0.62343\n",
      "Epoch 56/100\n",
      "6093/6093 [==============================] - 3s 529us/step - loss: 0.5466 - accuracy: 0.7190 - val_loss: 0.6273 - val_accuracy: 0.6627\n",
      "\n",
      "Epoch 00056: val_loss did not improve from 0.62343\n",
      "Epoch 57/100\n",
      "6093/6093 [==============================] - 3s 486us/step - loss: 0.5410 - accuracy: 0.7202 - val_loss: 0.6286 - val_accuracy: 0.6627\n",
      "\n",
      "Epoch 00057: val_loss did not improve from 0.62343\n",
      "Epoch 58/100\n",
      "6093/6093 [==============================] - 3s 506us/step - loss: 0.5453 - accuracy: 0.7253 - val_loss: 0.6281 - val_accuracy: 0.6627\n",
      "\n",
      "Epoch 00058: val_loss did not improve from 0.62343\n",
      "Epoch 59/100\n",
      "6093/6093 [==============================] - 3s 496us/step - loss: 0.5404 - accuracy: 0.7231 - val_loss: 0.6278 - val_accuracy: 0.6647\n",
      "\n",
      "Epoch 00059: val_loss did not improve from 0.62343\n",
      "Epoch 60/100\n",
      "6093/6093 [==============================] - 3s 476us/step - loss: 0.5421 - accuracy: 0.7246 - val_loss: 0.6291 - val_accuracy: 0.6614\n",
      "\n",
      "Epoch 00060: val_loss did not improve from 0.62343\n",
      "Epoch 61/100\n",
      "6093/6093 [==============================] - 3s 495us/step - loss: 0.5405 - accuracy: 0.7235 - val_loss: 0.6276 - val_accuracy: 0.6640\n",
      "\n",
      "Epoch 00061: val_loss did not improve from 0.62343\n",
      "Epoch 62/100\n",
      "6093/6093 [==============================] - 3s 491us/step - loss: 0.5408 - accuracy: 0.7215 - val_loss: 0.6280 - val_accuracy: 0.6614\n",
      "\n",
      "Epoch 00062: val_loss did not improve from 0.62343\n",
      "Epoch 63/100\n",
      "6093/6093 [==============================] - 3s 546us/step - loss: 0.5389 - accuracy: 0.7254 - val_loss: 0.6287 - val_accuracy: 0.6601\n",
      "\n",
      "Epoch 00063: val_loss did not improve from 0.62343\n",
      "Epoch 64/100\n",
      "6093/6093 [==============================] - 3s 524us/step - loss: 0.5383 - accuracy: 0.7276 - val_loss: 0.6271 - val_accuracy: 0.6608\n",
      "\n",
      "Epoch 00064: val_loss did not improve from 0.62343\n",
      "Epoch 65/100\n",
      "6093/6093 [==============================] - 3s 520us/step - loss: 0.5383 - accuracy: 0.7279 - val_loss: 0.6276 - val_accuracy: 0.6621\n",
      "\n",
      "Epoch 00065: val_loss did not improve from 0.62343\n",
      "Epoch 66/100\n",
      "6093/6093 [==============================] - 3s 491us/step - loss: 0.5415 - accuracy: 0.7322 - val_loss: 0.6280 - val_accuracy: 0.6614\n"
     ]
    },
    {
     "name": "stdout",
     "output_type": "stream",
     "text": [
      "\n",
      "Epoch 00066: val_loss did not improve from 0.62343\n",
      "Epoch 67/100\n",
      "6093/6093 [==============================] - 3s 535us/step - loss: 0.5386 - accuracy: 0.7220 - val_loss: 0.6283 - val_accuracy: 0.6581\n",
      "\n",
      "Epoch 00067: val_loss did not improve from 0.62343\n",
      "Epoch 68/100\n",
      "6093/6093 [==============================] - 3s 500us/step - loss: 0.5375 - accuracy: 0.7258 - val_loss: 0.6304 - val_accuracy: 0.6634\n",
      "\n",
      "Epoch 00068: val_loss did not improve from 0.62343\n",
      "Epoch 69/100\n",
      "6093/6093 [==============================] - 3s 517us/step - loss: 0.5358 - accuracy: 0.7315 - val_loss: 0.6315 - val_accuracy: 0.6581\n",
      "\n",
      "Epoch 00069: val_loss did not improve from 0.62343\n",
      "Epoch 70/100\n",
      "6093/6093 [==============================] - 3s 481us/step - loss: 0.5340 - accuracy: 0.7295 - val_loss: 0.6305 - val_accuracy: 0.6562\n",
      "\n",
      "Epoch 00070: val_loss did not improve from 0.62343\n",
      "Epoch 71/100\n",
      "6093/6093 [==============================] - 3s 474us/step - loss: 0.5311 - accuracy: 0.7346 - val_loss: 0.6322 - val_accuracy: 0.6581\n",
      "\n",
      "Epoch 00071: val_loss did not improve from 0.62343\n",
      "Epoch 72/100\n",
      "6093/6093 [==============================] - 3s 530us/step - loss: 0.5320 - accuracy: 0.7271 - val_loss: 0.6318 - val_accuracy: 0.6575\n",
      "\n",
      "Epoch 00072: val_loss did not improve from 0.62343\n",
      "Epoch 73/100\n",
      "6093/6093 [==============================] - 3s 489us/step - loss: 0.5345 - accuracy: 0.7294 - val_loss: 0.6307 - val_accuracy: 0.6594\n",
      "\n",
      "Epoch 00073: val_loss did not improve from 0.62343\n",
      "Epoch 74/100\n",
      "6093/6093 [==============================] - 3s 477us/step - loss: 0.5307 - accuracy: 0.7303 - val_loss: 0.6303 - val_accuracy: 0.6568\n",
      "\n",
      "Epoch 00074: val_loss did not improve from 0.62343\n",
      "Epoch 75/100\n",
      "6093/6093 [==============================] - 3s 501us/step - loss: 0.5325 - accuracy: 0.7335 - val_loss: 0.6311 - val_accuracy: 0.6568\n",
      "\n",
      "Epoch 00075: val_loss did not improve from 0.62343\n",
      "Epoch 76/100\n",
      "6093/6093 [==============================] - 3s 492us/step - loss: 0.5309 - accuracy: 0.7299 - val_loss: 0.6313 - val_accuracy: 0.6581\n",
      "\n",
      "Epoch 00076: val_loss did not improve from 0.62343\n",
      "Epoch 77/100\n",
      "6093/6093 [==============================] - 3s 494us/step - loss: 0.5221 - accuracy: 0.7430 - val_loss: 0.6314 - val_accuracy: 0.6581\n",
      "\n",
      "Epoch 00077: val_loss did not improve from 0.62343\n",
      "Epoch 78/100\n",
      "6093/6093 [==============================] - 3s 471us/step - loss: 0.5288 - accuracy: 0.7343 - val_loss: 0.6311 - val_accuracy: 0.6555\n",
      "\n",
      "Epoch 00078: val_loss did not improve from 0.62343\n",
      "Epoch 79/100\n",
      "6093/6093 [==============================] - 3s 460us/step - loss: 0.5326 - accuracy: 0.7307 - val_loss: 0.6301 - val_accuracy: 0.6555\n",
      "\n",
      "Epoch 00079: val_loss did not improve from 0.62343\n",
      "Epoch 80/100\n",
      "6093/6093 [==============================] - 3s 462us/step - loss: 0.5317 - accuracy: 0.7338 - val_loss: 0.6322 - val_accuracy: 0.6634\n",
      "\n",
      "Epoch 00080: val_loss did not improve from 0.62343\n",
      "Epoch 81/100\n",
      "6093/6093 [==============================] - 3s 498us/step - loss: 0.5253 - accuracy: 0.7358 - val_loss: 0.6304 - val_accuracy: 0.6568\n",
      "\n",
      "Epoch 00081: val_loss did not improve from 0.62343\n",
      "Epoch 82/100\n",
      "6093/6093 [==============================] - 3s 511us/step - loss: 0.5218 - accuracy: 0.7312 - val_loss: 0.6308 - val_accuracy: 0.6594\n",
      "\n",
      "Epoch 00082: val_loss did not improve from 0.62343\n",
      "Epoch 83/100\n",
      "6093/6093 [==============================] - 3s 477us/step - loss: 0.5257 - accuracy: 0.7361 - val_loss: 0.6306 - val_accuracy: 0.6608\n",
      "\n",
      "Epoch 00083: val_loss did not improve from 0.62343\n",
      "Epoch 84/100\n",
      "6093/6093 [==============================] - 3s 487us/step - loss: 0.5223 - accuracy: 0.7448 - val_loss: 0.6315 - val_accuracy: 0.6627\n",
      "\n",
      "Epoch 00084: val_loss did not improve from 0.62343\n",
      "Epoch 85/100\n",
      "6093/6093 [==============================] - 3s 475us/step - loss: 0.5225 - accuracy: 0.7374 - val_loss: 0.6324 - val_accuracy: 0.6621\n",
      "\n",
      "Epoch 00085: val_loss did not improve from 0.62343\n",
      "Epoch 86/100\n",
      "6093/6093 [==============================] - 3s 474us/step - loss: 0.5243 - accuracy: 0.7400 - val_loss: 0.6327 - val_accuracy: 0.6581\n",
      "\n",
      "Epoch 00086: val_loss did not improve from 0.62343\n",
      "Epoch 87/100\n",
      "6093/6093 [==============================] - 3s 508us/step - loss: 0.5209 - accuracy: 0.7451 - val_loss: 0.6316 - val_accuracy: 0.6614\n",
      "\n",
      "Epoch 00087: val_loss did not improve from 0.62343\n",
      "Epoch 88/100\n",
      "6093/6093 [==============================] - 3s 541us/step - loss: 0.5205 - accuracy: 0.7412 - val_loss: 0.6319 - val_accuracy: 0.6647\n",
      "\n",
      "Epoch 00088: val_loss did not improve from 0.62343\n",
      "Epoch 89/100\n",
      "6093/6093 [==============================] - 3s 492us/step - loss: 0.5209 - accuracy: 0.7415 - val_loss: 0.6333 - val_accuracy: 0.6640\n",
      "\n",
      "Epoch 00089: val_loss did not improve from 0.62343\n",
      "Epoch 90/100\n",
      "6093/6093 [==============================] - 3s 484us/step - loss: 0.5184 - accuracy: 0.7458 - val_loss: 0.6327 - val_accuracy: 0.6621\n",
      "\n",
      "Epoch 00090: val_loss did not improve from 0.62343\n",
      "Epoch 91/100\n",
      "6093/6093 [==============================] - 3s 514us/step - loss: 0.5151 - accuracy: 0.7499 - val_loss: 0.6323 - val_accuracy: 0.6621\n",
      "\n",
      "Epoch 00091: val_loss did not improve from 0.62343\n",
      "Epoch 92/100\n",
      "6093/6093 [==============================] - 3s 491us/step - loss: 0.5166 - accuracy: 0.7404 - val_loss: 0.6323 - val_accuracy: 0.6581\n",
      "\n",
      "Epoch 00092: val_loss did not improve from 0.62343\n",
      "Epoch 93/100\n",
      "6093/6093 [==============================] - 3s 509us/step - loss: 0.5232 - accuracy: 0.7405 - val_loss: 0.6335 - val_accuracy: 0.6601\n",
      "\n",
      "Epoch 00093: val_loss did not improve from 0.62343\n",
      "Epoch 94/100\n",
      "6093/6093 [==============================] - 3s 506us/step - loss: 0.5176 - accuracy: 0.7425 - val_loss: 0.6333 - val_accuracy: 0.6594\n",
      "\n",
      "Epoch 00094: val_loss did not improve from 0.62343\n",
      "Epoch 95/100\n",
      "6093/6093 [==============================] - 3s 526us/step - loss: 0.5173 - accuracy: 0.7400 - val_loss: 0.6330 - val_accuracy: 0.6621\n",
      "\n",
      "Epoch 00095: val_loss did not improve from 0.62343\n",
      "Epoch 96/100\n",
      "6093/6093 [==============================] - 4s 611us/step - loss: 0.5136 - accuracy: 0.7450 - val_loss: 0.6330 - val_accuracy: 0.6588\n",
      "\n",
      "Epoch 00096: val_loss did not improve from 0.62343\n",
      "Epoch 97/100\n",
      "6093/6093 [==============================] - 3s 499us/step - loss: 0.5171 - accuracy: 0.7399 - val_loss: 0.6330 - val_accuracy: 0.6601\n",
      "\n",
      "Epoch 00097: val_loss did not improve from 0.62343\n",
      "Epoch 98/100\n",
      "6093/6093 [==============================] - 3s 472us/step - loss: 0.5088 - accuracy: 0.7505 - val_loss: 0.6339 - val_accuracy: 0.6581\n",
      "\n",
      "Epoch 00098: val_loss did not improve from 0.62343\n",
      "Epoch 99/100\n",
      "6093/6093 [==============================] - 3s 488us/step - loss: 0.5098 - accuracy: 0.7479 - val_loss: 0.6339 - val_accuracy: 0.6575\n",
      "\n",
      "Epoch 00099: val_loss did not improve from 0.62343\n",
      "Epoch 100/100\n",
      "6093/6093 [==============================] - 3s 495us/step - loss: 0.5059 - accuracy: 0.7466 - val_loss: 0.6346 - val_accuracy: 0.6621\n",
      "\n",
      "Epoch 00100: val_loss did not improve from 0.62343\n"
     ]
    }
   ],
   "source": [
    "#Hyper-Params\n",
    "epochs = 100\n",
    "batch_size = 32\n",
    "\n",
    "# train model\n",
    "history = model.fit(X_train_padded, y_train, batch_size = batch_size, epochs=epochs, verbose=1, validation_split=0.2, callbacks=callbacks_list)"
   ]
  },
  {
   "cell_type": "code",
   "execution_count": 49,
   "metadata": {
    "scrolled": false
   },
   "outputs": [
    {
     "data": {
      "image/png": "[encoded data removed]",
      "text/plain": [
       "<Figure size 432x288 with 1 Axes>"
      ]
     },
     "metadata": {
      "needs_background": "light"
     },
     "output_type": "display_data"
    },
    {
     "data": {
      "image/png": "[encoded data removed]",
      "text/plain": [
       "<Figure size 432x288 with 1 Axes>"
      ]
     },
     "metadata": {
      "needs_background": "light"
     },
     "output_type": "display_data"
    }
   ],
   "source": [
    "plot_loss_accuracy(history)"
   ]
  },
  {
   "cell_type": "code",
   "execution_count": 50,
   "metadata": {},
   "outputs": [
    {
     "name": "stdout",
     "output_type": "stream",
     "text": [
      "['loss', 'accuracy']\n",
      "1905/1905 [==============================] - 0s 90us/step\n"
     ]
    },
    {
     "data": {
      "text/plain": [
       "[0.6238783690873093, 0.6682414412498474]"
      ]
     },
     "execution_count": 50,
     "metadata": {},
     "output_type": "execute_result"
    }
   ],
   "source": [
    "print(model.metrics_names)\n",
    "model.evaluate(X_test_padded, y_test)"
   ]
  },
  {
   "cell_type": "code",
   "execution_count": 46,
   "metadata": {},
   "outputs": [
    {
     "ename": "NameError",
     "evalue": "name 'model' is not defined",
     "output_type": "error",
     "traceback": [
      "\u001b[0;31m---------------------------------------------------------------------------\u001b[0m",
      "\u001b[0;31mNameError\u001b[0m                                 Traceback (most recent call last)",
      "\u001b[0;32m<ipython-input-46-ff1c27e608eb>\u001b[0m in \u001b[0;36m<module>\u001b[0;34m\u001b[0m\n\u001b[0;32m----> 1\u001b[0;31m \u001b[0my_pred\u001b[0m \u001b[0;34m=\u001b[0m \u001b[0mmodel\u001b[0m\u001b[0;34m.\u001b[0m\u001b[0mpredict\u001b[0m\u001b[0;34m(\u001b[0m\u001b[0mX_test_padded\u001b[0m\u001b[0;34m,\u001b[0m \u001b[0mverbose\u001b[0m\u001b[0;34m=\u001b[0m\u001b[0;36m1\u001b[0m\u001b[0;34m)\u001b[0m\u001b[0;34m\u001b[0m\u001b[0;34m\u001b[0m\u001b[0m\n\u001b[0m",
      "\u001b[0;31mNameError\u001b[0m: name 'model' is not defined"
     ]
    }
   ],
   "source": [
    "\n",
    "y_pred = model.predict(X_test_padded, verbose=1)"
   ]
  },
  {
   "cell_type": "code",
   "execution_count": 45,
   "metadata": {},
   "outputs": [
    {
     "ename": "NameError",
     "evalue": "name 'y_pred' is not defined",
     "output_type": "error",
     "traceback": [
      "\u001b[0;31m---------------------------------------------------------------------------\u001b[0m",
      "\u001b[0;31mNameError\u001b[0m                                 Traceback (most recent call last)",
      "\u001b[0;32m<ipython-input-45-a344d8928f51>\u001b[0m in \u001b[0;36m<module>\u001b[0;34m\u001b[0m\n\u001b[0;32m----> 1\u001b[0;31m \u001b[0my_pred_output\u001b[0m \u001b[0;34m=\u001b[0m \u001b[0;34m[\u001b[0m\u001b[0;36m1\u001b[0m \u001b[0;32mif\u001b[0m \u001b[0my_pred\u001b[0m\u001b[0;34m[\u001b[0m\u001b[0mi\u001b[0m\u001b[0;34m]\u001b[0m \u001b[0;34m>\u001b[0m \u001b[0;36m0.5\u001b[0m \u001b[0;32melse\u001b[0m \u001b[0;36m0\u001b[0m \u001b[0;32mfor\u001b[0m \u001b[0mi\u001b[0m \u001b[0;32min\u001b[0m \u001b[0mrange\u001b[0m\u001b[0;34m(\u001b[0m\u001b[0mlen\u001b[0m\u001b[0;34m(\u001b[0m\u001b[0my_pred\u001b[0m\u001b[0;34m)\u001b[0m\u001b[0;34m)\u001b[0m\u001b[0;34m]\u001b[0m\u001b[0;34m\u001b[0m\u001b[0;34m\u001b[0m\u001b[0m\n\u001b[0m\u001b[1;32m      2\u001b[0m \u001b[0;34m\u001b[0m\u001b[0m\n\u001b[1;32m      3\u001b[0m \u001b[0mprint\u001b[0m\u001b[0;34m(\u001b[0m\u001b[0;34m\"F1 score: %3.5f\"\u001b[0m \u001b[0;34m%\u001b[0m \u001b[0mf1_score\u001b[0m\u001b[0;34m(\u001b[0m\u001b[0my_test\u001b[0m\u001b[0;34m,\u001b[0m \u001b[0my_pred_output\u001b[0m\u001b[0;34m)\u001b[0m\u001b[0;34m)\u001b[0m\u001b[0;34m\u001b[0m\u001b[0;34m\u001b[0m\u001b[0m\n\u001b[1;32m      4\u001b[0m \u001b[0;34m\u001b[0m\u001b[0m\n\u001b[1;32m      5\u001b[0m \u001b[0mprint_cm\u001b[0m\u001b[0;34m(\u001b[0m\u001b[0my_test\u001b[0m\u001b[0;34m,\u001b[0m \u001b[0my_pred\u001b[0m\u001b[0;34m)\u001b[0m\u001b[0;34m\u001b[0m\u001b[0;34m\u001b[0m\u001b[0m\n",
      "\u001b[0;31mNameError\u001b[0m: name 'y_pred' is not defined"
     ]
    }
   ],
   "source": [
    "y_pred_output = [1 if y_pred[i] > 0.5 else 0 for i in range(len(y_pred))]\n",
    "\n",
    "print(\"F1 score: %3.5f\" % f1_score(y_test, y_pred_output))\n",
    "\n",
    "print_cm(y_test, y_pred)"
   ]
  },
  {
   "cell_type": "code",
   "execution_count": null,
   "metadata": {},
   "outputs": [],
   "source": []
  },
  {
   "cell_type": "raw",
   "metadata": {},
   "source": [
    "# determine false positives and false negatives\n",
    "# false positives - actual=0, pred=1\n",
    "false_positive_instances = []\n",
    "for i in range(len(y_pred_output)):\n",
    "    if y_pred_output[i] == 1 \\\n",
    "    and y_test[i] == 0:\n",
    "        false_positive_instances.append(X_test[i])\n",
    "        \n",
    "print(\"number of false positives: %d\" % len(false_positive_instances))\n",
    "print(false_positive_instances)"
   ]
  },
  {
   "cell_type": "raw",
   "metadata": {},
   "source": [
    "# false negatives - actual=1, pred=0\n",
    "false_negative_instances = []\n",
    "for i in range(len(y_pred_output)):\n",
    "    if y_pred_output[i] == 0 \\\n",
    "    and y_test[i] == 1:\n",
    "        false_negative_instances.append(X_test[i])\n",
    "        \n",
    "print(\"number of false negatives: %d\" % len(false_negative_instances))\n",
    "print(false_negative_instances)"
   ]
  },
  {
   "cell_type": "markdown",
   "metadata": {},
   "source": [
    "## Using LSTMs"
   ]
  },
  {
   "cell_type": "code",
   "execution_count": 11,
   "metadata": {},
   "outputs": [],
   "source": [
    "# get dataset\n",
    "df1 = get_large_dataset()"
   ]
  },
  {
   "cell_type": "code",
   "execution_count": 12,
   "metadata": {},
   "outputs": [
    {
     "name": "stdout",
     "output_type": "stream",
     "text": [
      "Original dataset shape Counter({0: 14777, 1: 4761})\n",
      "Resampled dataset shape [(0, 4761), (1, 4761)]\n"
     ]
    }
   ],
   "source": [
    "# undersample majority instances (clickbait) to equalise number of instances\n",
    "X1 = df1[\"title\"]\n",
    "y1 = df1[\"label\"]\n",
    "y1 = [1 if y1[i] == '1' else 0 for i in range(len(y1))]\n",
    "\n",
    "print('Original dataset shape %s' % Counter(y1))\n",
    "ros = RandomUnderSampler(random_state=0)\n",
    "X1_reshaped = X1.values.reshape(-1, 1)\n",
    "X1_resampled, y1_resampled = ros.fit_resample(X1_reshaped, y1)\n",
    "\n",
    "print('Resampled dataset shape %s' % sorted(Counter(y1_resampled).items()))\n",
    "\n",
    "# process text\n",
    "X1_processed = [preprocess_text(X1_resampled[i][0]) for i in range(len(X1_resampled))]"
   ]
  },
  {
   "cell_type": "code",
   "execution_count": 13,
   "metadata": {},
   "outputs": [],
   "source": [
    "# split dataset into train and test\n",
    "X1_train, X1_test, y1_train, y1_test = train_test_split(X1_processed, y1_resampled, test_size=0.20, random_state=42)"
   ]
  },
  {
   "cell_type": "code",
   "execution_count": 14,
   "metadata": {},
   "outputs": [
    {
     "name": "stdout",
     "output_type": "stream",
     "text": [
      "Found 13468 unique tokens.\n"
     ]
    }
   ],
   "source": [
    "# create a word-to-index dictionary\n",
    "MAX_NUM_WORDS = 20000\n",
    "tokenizer1 = Tokenizer(num_words=MAX_NUM_WORDS)\n",
    "tokenizer1.fit_on_texts(X1_train)\n",
    "\n",
    "X1_train_tok = tokenizer1.texts_to_sequences(X1_train)\n",
    "X1_test_tok = tokenizer1.texts_to_sequences(X1_test)\n",
    "\n",
    "word_index1 = tokenizer1.word_index\n",
    "print('Found %s unique tokens.' % len(word_index1))"
   ]
  },
  {
   "cell_type": "code",
   "execution_count": 15,
   "metadata": {},
   "outputs": [
    {
     "name": "stdout",
     "output_type": "stream",
     "text": [
      "Shape of data tensor: (7617, 100)\n",
      "Shape of label tensor: (7617,)\n"
     ]
    }
   ],
   "source": [
    "# Adding 1 because of reserved 0 index\n",
    "vocab_size1 = len(tokenizer1.word_index) + 1\n",
    "\n",
    "maxlen1 = 100\n",
    "\n",
    "X1_train_padded = pad_sequences(X1_train_tok, padding='post', maxlen=maxlen1)\n",
    "X1_test_padded = pad_sequences(X1_test_tok, padding='post', maxlen=maxlen1)\n",
    "\n",
    "print('Shape of data tensor:', X1_train_padded.shape)\n",
    "print('Shape of label tensor:', y1_train.shape)"
   ]
  },
  {
   "cell_type": "code",
   "execution_count": 21,
   "metadata": {},
   "outputs": [],
   "source": [
    "# create an embedding matrix where each row number will correspond to the index of the word in the corpus\n",
    "embedding_matrix = np.zeros((vocab_size1, 100))\n",
    "for word, index in tokenizer1.word_index.items():\n",
    "    embedding_vector = embeddings_dictionary.get(word)\n",
    "    if embedding_vector is not None:\n",
    "        embedding_matrix[index] = embedding_vector"
   ]
  },
  {
   "cell_type": "code",
   "execution_count": 23,
   "metadata": {},
   "outputs": [
    {
     "name": "stdout",
     "output_type": "stream",
     "text": [
      "WARNING:tensorflow:From /home/mj/.local/lib/python3.7/site-packages/tensorflow/python/ops/nn_impl.py:180: add_dispatch_support.<locals>.wrapper (from tensorflow.python.ops.array_ops) is deprecated and will be removed in a future version.\n",
      "Instructions for updating:\n",
      "Use tf.where in 2.0, which has the same broadcast rule as np.where\n",
      "Model: \"sequential_4\"\n",
      "_________________________________________________________________\n",
      "Layer (type)                 Output Shape              Param #   \n",
      "=================================================================\n",
      "embedding_1 (Embedding)      (None, 100, 100)          1346900   \n",
      "_________________________________________________________________\n",
      "lstm_1 (LSTM)                (None, 64)                42240     \n",
      "_________________________________________________________________\n",
      "dropout_1 (Dropout)          (None, 64)                0         \n",
      "_________________________________________________________________\n",
      "dense_1 (Dense)              (None, 128)               8320      \n",
      "_________________________________________________________________\n",
      "dropout_2 (Dropout)          (None, 128)               0         \n",
      "_________________________________________________________________\n",
      "dense_2 (Dense)              (None, 1)                 129       \n",
      "=================================================================\n",
      "Total params: 1,397,589\n",
      "Trainable params: 50,689\n",
      "Non-trainable params: 1,346,900\n",
      "_________________________________________________________________\n",
      "None\n"
     ]
    }
   ],
   "source": [
    "# set up models\n",
    "lstm_out = 64\n",
    "dense_out = 128\n",
    "dropout = 0.4\n",
    "learning_rate = 1e-4\n",
    "\n",
    "model1 = Sequential()\n",
    "model1.add(Embedding(vocab_size1, 100, weights=[embedding_matrix], input_length=maxlen1, trainable=False))\n",
    "model1.add(LSTM(lstm_out))\n",
    "model1.add(Dropout(dropout))\n",
    "model1.add(Dense(dense_out))\n",
    "model1.add(Dropout(dropout))\n",
    "model1.add(Dense(1, activation='sigmoid', kernel_initializer='glorot_normal'))\n",
    "\n",
    "opt = Adam(lr=learning_rate)\n",
    "\n",
    "model1.compile(loss='binary_crossentropy', optimizer=opt, metrics=['accuracy'])\n",
    "print(model1.summary())"
   ]
  },
  {
   "cell_type": "code",
   "execution_count": 25,
   "metadata": {},
   "outputs": [],
   "source": [
    "### Create model checkpoint\n",
    "output_dir = os.getcwd()\n",
    "modelcheckpoint = ModelCheckpoint(filepath = output_dir + \"/try2__copy.{epoch:02d}-{val_loss:.2f}.hdf5\",\n",
    "                                 monitor='val_loss', verbose=1, save_best_only=True)\n",
    "callbacks_list = [modelcheckpoint]#, EarlyStopping(monitor = \"val_loss\", patience = 15)]"
   ]
  },
  {
   "cell_type": "code",
   "execution_count": 26,
   "metadata": {},
   "outputs": [
    {
     "name": "stdout",
     "output_type": "stream",
     "text": [
      "WARNING:tensorflow:From /home/mj/.local/lib/python3.7/site-packages/keras/backend/tensorflow_backend.py:422: The name tf.global_variables is deprecated. Please use tf.compat.v1.global_variables instead.\n",
      "\n",
      "Train on 6093 samples, validate on 1524 samples\n",
      "Epoch 1/100\n",
      "6093/6093 [==============================] - 16s 3ms/step - loss: 0.6933 - accuracy: 0.4938 - val_loss: 0.6930 - val_accuracy: 0.5066\n",
      "\n",
      "Epoch 00001: val_loss improved from inf to 0.69297, saving model to /home/mj/Documents/School_Work/CS3244/PROJECT/CS3244Project/RNN/try2__copy.01-0.69.hdf5\n",
      "Epoch 2/100\n",
      "6093/6093 [==============================] - 15s 2ms/step - loss: 0.6931 - accuracy: 0.5014 - val_loss: 0.6928 - val_accuracy: 0.5066\n",
      "\n",
      "Epoch 00002: val_loss improved from 0.69297 to 0.69284, saving model to /home/mj/Documents/School_Work/CS3244/PROJECT/CS3244Project/RNN/try2__copy.02-0.69.hdf5\n",
      "Epoch 3/100\n",
      "6093/6093 [==============================] - 16s 3ms/step - loss: 0.6930 - accuracy: 0.4979 - val_loss: 0.6927 - val_accuracy: 0.5066\n",
      "\n",
      "Epoch 00003: val_loss improved from 0.69284 to 0.69273, saving model to /home/mj/Documents/School_Work/CS3244/PROJECT/CS3244Project/RNN/try2__copy.03-0.69.hdf5\n",
      "Epoch 4/100\n",
      "6093/6093 [==============================] - 15s 3ms/step - loss: 0.6930 - accuracy: 0.4983 - val_loss: 0.6926 - val_accuracy: 0.5066\n",
      "\n",
      "Epoch 00004: val_loss improved from 0.69273 to 0.69263, saving model to /home/mj/Documents/School_Work/CS3244/PROJECT/CS3244Project/RNN/try2__copy.04-0.69.hdf5\n",
      "Epoch 5/100\n",
      "6093/6093 [==============================] - 15s 3ms/step - loss: 0.6931 - accuracy: 0.4873 - val_loss: 0.6926 - val_accuracy: 0.5066\n",
      "\n",
      "Epoch 00005: val_loss improved from 0.69263 to 0.69255, saving model to /home/mj/Documents/School_Work/CS3244/PROJECT/CS3244Project/RNN/try2__copy.05-0.69.hdf5\n",
      "Epoch 6/100\n",
      "6093/6093 [==============================] - 14s 2ms/step - loss: 0.6930 - accuracy: 0.4889 - val_loss: 0.6925 - val_accuracy: 0.5066\n",
      "\n",
      "Epoch 00006: val_loss improved from 0.69255 to 0.69247, saving model to /home/mj/Documents/School_Work/CS3244/PROJECT/CS3244Project/RNN/try2__copy.06-0.69.hdf5\n",
      "Epoch 7/100\n",
      "6093/6093 [==============================] - 14s 2ms/step - loss: 0.6929 - accuracy: 0.5039 - val_loss: 0.6924 - val_accuracy: 0.5066\n",
      "\n",
      "Epoch 00007: val_loss improved from 0.69247 to 0.69244, saving model to /home/mj/Documents/School_Work/CS3244/PROJECT/CS3244Project/RNN/try2__copy.07-0.69.hdf5\n",
      "Epoch 8/100\n",
      "6093/6093 [==============================] - 15s 2ms/step - loss: 0.6929 - accuracy: 0.5007 - val_loss: 0.6924 - val_accuracy: 0.4948\n",
      "\n",
      "Epoch 00008: val_loss did not improve from 0.69244\n",
      "Epoch 9/100\n",
      "6093/6093 [==============================] - 14s 2ms/step - loss: 0.6930 - accuracy: 0.4945 - val_loss: 0.6924 - val_accuracy: 0.4948\n",
      "\n",
      "Epoch 00009: val_loss improved from 0.69244 to 0.69240, saving model to /home/mj/Documents/School_Work/CS3244/PROJECT/CS3244Project/RNN/try2__copy.09-0.69.hdf5\n",
      "Epoch 10/100\n",
      "6093/6093 [==============================] - 14s 2ms/step - loss: 0.6929 - accuracy: 0.4996 - val_loss: 0.6923 - val_accuracy: 0.5066\n",
      "\n",
      "Epoch 00010: val_loss improved from 0.69240 to 0.69234, saving model to /home/mj/Documents/School_Work/CS3244/PROJECT/CS3244Project/RNN/try2__copy.10-0.69.hdf5\n",
      "Epoch 11/100\n",
      "6093/6093 [==============================] - 13s 2ms/step - loss: 0.6930 - accuracy: 0.4971 - val_loss: 0.6923 - val_accuracy: 0.5066\n",
      "\n",
      "Epoch 00011: val_loss improved from 0.69234 to 0.69231, saving model to /home/mj/Documents/School_Work/CS3244/PROJECT/CS3244Project/RNN/try2__copy.11-0.69.hdf5\n",
      "Epoch 12/100\n",
      "6093/6093 [==============================] - 15s 2ms/step - loss: 0.6929 - accuracy: 0.5043 - val_loss: 0.6923 - val_accuracy: 0.5066\n",
      "\n",
      "Epoch 00012: val_loss improved from 0.69231 to 0.69230, saving model to /home/mj/Documents/School_Work/CS3244/PROJECT/CS3244Project/RNN/try2__copy.12-0.69.hdf5\n",
      "Epoch 13/100\n",
      "6093/6093 [==============================] - 16s 3ms/step - loss: 0.6927 - accuracy: 0.5083 - val_loss: 0.6922 - val_accuracy: 0.5066\n",
      "\n",
      "Epoch 00013: val_loss improved from 0.69230 to 0.69224, saving model to /home/mj/Documents/School_Work/CS3244/PROJECT/CS3244Project/RNN/try2__copy.13-0.69.hdf5\n",
      "Epoch 14/100\n",
      "6093/6093 [==============================] - 15s 2ms/step - loss: 0.6929 - accuracy: 0.5011 - val_loss: 0.6922 - val_accuracy: 0.5066\n",
      "\n",
      "Epoch 00014: val_loss improved from 0.69224 to 0.69223, saving model to /home/mj/Documents/School_Work/CS3244/PROJECT/CS3244Project/RNN/try2__copy.14-0.69.hdf5\n",
      "Epoch 15/100\n",
      "6093/6093 [==============================] - 14s 2ms/step - loss: 0.6929 - accuracy: 0.4981 - val_loss: 0.6923 - val_accuracy: 0.5066\n",
      "\n",
      "Epoch 00015: val_loss did not improve from 0.69223\n",
      "Epoch 16/100\n",
      "6093/6093 [==============================] - 14s 2ms/step - loss: 0.6928 - accuracy: 0.4917 - val_loss: 0.6922 - val_accuracy: 0.5066\n",
      "\n",
      "Epoch 00016: val_loss did not improve from 0.69223\n",
      "Epoch 17/100\n",
      "6093/6093 [==============================] - 14s 2ms/step - loss: 0.6930 - accuracy: 0.4973 - val_loss: 0.6922 - val_accuracy: 0.5066\n",
      "\n",
      "Epoch 00017: val_loss improved from 0.69223 to 0.69222, saving model to /home/mj/Documents/School_Work/CS3244/PROJECT/CS3244Project/RNN/try2__copy.17-0.69.hdf5\n",
      "Epoch 18/100\n",
      "6093/6093 [==============================] - 15s 2ms/step - loss: 0.6928 - accuracy: 0.4973 - val_loss: 0.6923 - val_accuracy: 0.4934\n",
      "\n",
      "Epoch 00018: val_loss did not improve from 0.69222\n",
      "Epoch 19/100\n",
      "6093/6093 [==============================] - 16s 3ms/step - loss: 0.6927 - accuracy: 0.5058 - val_loss: 0.6923 - val_accuracy: 0.4948\n",
      "\n",
      "Epoch 00019: val_loss did not improve from 0.69222\n",
      "Epoch 20/100\n",
      "6093/6093 [==============================] - 15s 2ms/step - loss: 0.6927 - accuracy: 0.4998 - val_loss: 0.6923 - val_accuracy: 0.4961\n",
      "\n",
      "Epoch 00020: val_loss did not improve from 0.69222\n",
      "Epoch 21/100\n",
      "6093/6093 [==============================] - 16s 3ms/step - loss: 0.6920 - accuracy: 0.5055 - val_loss: 0.6924 - val_accuracy: 0.4948\n",
      "\n",
      "Epoch 00021: val_loss did not improve from 0.69222\n",
      "Epoch 22/100\n",
      "6093/6093 [==============================] - 15s 2ms/step - loss: 0.6929 - accuracy: 0.4986 - val_loss: 0.6923 - val_accuracy: 0.4948\n",
      "\n",
      "Epoch 00022: val_loss did not improve from 0.69222\n",
      "Epoch 23/100\n",
      "6093/6093 [==============================] - 17s 3ms/step - loss: 0.6927 - accuracy: 0.5022 - val_loss: 0.6923 - val_accuracy: 0.4948\n",
      "\n",
      "Epoch 00023: val_loss did not improve from 0.69222\n",
      "Epoch 24/100\n",
      "6093/6093 [==============================] - 13s 2ms/step - loss: 0.6930 - accuracy: 0.4879 - val_loss: 0.6922 - val_accuracy: 0.5066\n",
      "\n",
      "Epoch 00024: val_loss did not improve from 0.69222\n",
      "Epoch 25/100\n",
      "6093/6093 [==============================] - 15s 2ms/step - loss: 0.6929 - accuracy: 0.4930 - val_loss: 0.6922 - val_accuracy: 0.5066\n",
      "\n",
      "Epoch 00025: val_loss improved from 0.69222 to 0.69219, saving model to /home/mj/Documents/School_Work/CS3244/PROJECT/CS3244Project/RNN/try2__copy.25-0.69.hdf5\n",
      "Epoch 26/100\n",
      "6093/6093 [==============================] - 14s 2ms/step - loss: 0.6925 - accuracy: 0.5034 - val_loss: 0.6894 - val_accuracy: 0.5066\n",
      "\n",
      "Epoch 00026: val_loss improved from 0.69219 to 0.68938, saving model to /home/mj/Documents/School_Work/CS3244/PROJECT/CS3244Project/RNN/try2__copy.26-0.69.hdf5\n",
      "Epoch 27/100\n",
      "6093/6093 [==============================] - 14s 2ms/step - loss: 0.6701 - accuracy: 0.6004 - val_loss: 0.6503 - val_accuracy: 0.6220\n",
      "\n",
      "Epoch 00027: val_loss improved from 0.68938 to 0.65030, saving model to /home/mj/Documents/School_Work/CS3244/PROJECT/CS3244Project/RNN/try2__copy.27-0.65.hdf5\n",
      "Epoch 28/100\n",
      "6093/6093 [==============================] - 15s 2ms/step - loss: 0.6539 - accuracy: 0.6268 - val_loss: 0.6416 - val_accuracy: 0.6273\n",
      "\n",
      "Epoch 00028: val_loss improved from 0.65030 to 0.64155, saving model to /home/mj/Documents/School_Work/CS3244/PROJECT/CS3244Project/RNN/try2__copy.28-0.64.hdf5\n",
      "Epoch 29/100\n",
      "6093/6093 [==============================] - 16s 3ms/step - loss: 0.6368 - accuracy: 0.6480 - val_loss: 0.6405 - val_accuracy: 0.6594\n",
      "\n",
      "Epoch 00029: val_loss improved from 0.64155 to 0.64053, saving model to /home/mj/Documents/School_Work/CS3244/PROJECT/CS3244Project/RNN/try2__copy.29-0.64.hdf5\n",
      "Epoch 30/100\n",
      "6093/6093 [==============================] - 19s 3ms/step - loss: 0.6237 - accuracy: 0.6603 - val_loss: 0.6401 - val_accuracy: 0.6194\n"
     ]
    },
    {
     "name": "stdout",
     "output_type": "stream",
     "text": [
      "\n",
      "Epoch 00030: val_loss improved from 0.64053 to 0.64013, saving model to /home/mj/Documents/School_Work/CS3244/PROJECT/CS3244Project/RNN/try2__copy.30-0.64.hdf5\n",
      "Epoch 31/100\n",
      "6093/6093 [==============================] - 16s 3ms/step - loss: 0.6178 - accuracy: 0.6645 - val_loss: 0.6216 - val_accuracy: 0.6549\n",
      "\n",
      "Epoch 00031: val_loss improved from 0.64013 to 0.62158, saving model to /home/mj/Documents/School_Work/CS3244/PROJECT/CS3244Project/RNN/try2__copy.31-0.62.hdf5\n",
      "Epoch 32/100\n",
      "6093/6093 [==============================] - 16s 3ms/step - loss: 0.6040 - accuracy: 0.6824 - val_loss: 0.6182 - val_accuracy: 0.6601\n",
      "\n",
      "Epoch 00032: val_loss improved from 0.62158 to 0.61819, saving model to /home/mj/Documents/School_Work/CS3244/PROJECT/CS3244Project/RNN/try2__copy.32-0.62.hdf5\n",
      "Epoch 33/100\n",
      "6093/6093 [==============================] - 14s 2ms/step - loss: 0.5987 - accuracy: 0.6850 - val_loss: 0.6094 - val_accuracy: 0.6640\n",
      "\n",
      "Epoch 00033: val_loss improved from 0.61819 to 0.60937, saving model to /home/mj/Documents/School_Work/CS3244/PROJECT/CS3244Project/RNN/try2__copy.33-0.61.hdf5\n",
      "Epoch 34/100\n",
      "6093/6093 [==============================] - 15s 2ms/step - loss: 0.5950 - accuracy: 0.6862 - val_loss: 0.6083 - val_accuracy: 0.6699\n",
      "\n",
      "Epoch 00034: val_loss improved from 0.60937 to 0.60826, saving model to /home/mj/Documents/School_Work/CS3244/PROJECT/CS3244Project/RNN/try2__copy.34-0.61.hdf5\n",
      "Epoch 35/100\n",
      "6093/6093 [==============================] - 16s 3ms/step - loss: 0.5888 - accuracy: 0.6952 - val_loss: 0.6049 - val_accuracy: 0.6673\n",
      "\n",
      "Epoch 00035: val_loss improved from 0.60826 to 0.60494, saving model to /home/mj/Documents/School_Work/CS3244/PROJECT/CS3244Project/RNN/try2__copy.35-0.60.hdf5\n",
      "Epoch 36/100\n",
      "6093/6093 [==============================] - 14s 2ms/step - loss: 0.5883 - accuracy: 0.6980 - val_loss: 0.6044 - val_accuracy: 0.6601\n",
      "\n",
      "Epoch 00036: val_loss improved from 0.60494 to 0.60440, saving model to /home/mj/Documents/School_Work/CS3244/PROJECT/CS3244Project/RNN/try2__copy.36-0.60.hdf5\n",
      "Epoch 37/100\n",
      "6093/6093 [==============================] - 14s 2ms/step - loss: 0.5818 - accuracy: 0.7041 - val_loss: 0.6102 - val_accuracy: 0.6654\n",
      "\n",
      "Epoch 00037: val_loss did not improve from 0.60440\n",
      "Epoch 38/100\n",
      "6093/6093 [==============================] - 14s 2ms/step - loss: 0.5778 - accuracy: 0.7054 - val_loss: 0.6042 - val_accuracy: 0.6660\n",
      "\n",
      "Epoch 00038: val_loss improved from 0.60440 to 0.60421, saving model to /home/mj/Documents/School_Work/CS3244/PROJECT/CS3244Project/RNN/try2__copy.38-0.60.hdf5\n",
      "Epoch 39/100\n",
      "6093/6093 [==============================] - 14s 2ms/step - loss: 0.5761 - accuracy: 0.7052 - val_loss: 0.6178 - val_accuracy: 0.6647\n",
      "\n",
      "Epoch 00039: val_loss did not improve from 0.60421\n",
      "Epoch 40/100\n",
      "6093/6093 [==============================] - 13s 2ms/step - loss: 0.5711 - accuracy: 0.7069 - val_loss: 0.6087 - val_accuracy: 0.6430\n",
      "\n",
      "Epoch 00040: val_loss did not improve from 0.60421\n",
      "Epoch 41/100\n",
      "6093/6093 [==============================] - 13s 2ms/step - loss: 0.5677 - accuracy: 0.7118 - val_loss: 0.6088 - val_accuracy: 0.6555\n",
      "\n",
      "Epoch 00041: val_loss did not improve from 0.60421\n",
      "Epoch 42/100\n",
      "6093/6093 [==============================] - 13s 2ms/step - loss: 0.5649 - accuracy: 0.7174 - val_loss: 0.6181 - val_accuracy: 0.6581\n",
      "\n",
      "Epoch 00042: val_loss did not improve from 0.60421\n",
      "Epoch 43/100\n",
      "6093/6093 [==============================] - 13s 2ms/step - loss: 0.5576 - accuracy: 0.7185 - val_loss: 0.6386 - val_accuracy: 0.6581\n",
      "\n",
      "Epoch 00043: val_loss did not improve from 0.60421\n",
      "Epoch 44/100\n",
      "6093/6093 [==============================] - 13s 2ms/step - loss: 0.5579 - accuracy: 0.7208 - val_loss: 0.6088 - val_accuracy: 0.6542\n",
      "\n",
      "Epoch 00044: val_loss did not improve from 0.60421\n",
      "Epoch 45/100\n",
      "6093/6093 [==============================] - 17s 3ms/step - loss: 0.5548 - accuracy: 0.7203 - val_loss: 0.6218 - val_accuracy: 0.6647\n",
      "\n",
      "Epoch 00045: val_loss did not improve from 0.60421\n",
      "Epoch 46/100\n",
      "6093/6093 [==============================] - 15s 2ms/step - loss: 0.5542 - accuracy: 0.7262 - val_loss: 0.6120 - val_accuracy: 0.6509\n",
      "\n",
      "Epoch 00046: val_loss did not improve from 0.60421\n",
      "Epoch 47/100\n",
      "6093/6093 [==============================] - 15s 2ms/step - loss: 0.5426 - accuracy: 0.7300 - val_loss: 0.6180 - val_accuracy: 0.6371\n",
      "\n",
      "Epoch 00047: val_loss did not improve from 0.60421\n",
      "Epoch 48/100\n",
      "6093/6093 [==============================] - 13s 2ms/step - loss: 0.5471 - accuracy: 0.7262 - val_loss: 0.6235 - val_accuracy: 0.6614\n",
      "\n",
      "Epoch 00048: val_loss did not improve from 0.60421\n",
      "Epoch 49/100\n",
      "6093/6093 [==============================] - 14s 2ms/step - loss: 0.5433 - accuracy: 0.7335 - val_loss: 0.6188 - val_accuracy: 0.6509\n",
      "\n",
      "Epoch 00049: val_loss did not improve from 0.60421\n",
      "Epoch 50/100\n",
      "6093/6093 [==============================] - 14s 2ms/step - loss: 0.5336 - accuracy: 0.7358 - val_loss: 0.6581 - val_accuracy: 0.6614\n",
      "\n",
      "Epoch 00050: val_loss did not improve from 0.60421\n",
      "Epoch 51/100\n",
      "6093/6093 [==============================] - 14s 2ms/step - loss: 0.5309 - accuracy: 0.7371 - val_loss: 0.6285 - val_accuracy: 0.6608\n",
      "\n",
      "Epoch 00051: val_loss did not improve from 0.60421\n",
      "Epoch 52/100\n",
      "6093/6093 [==============================] - 14s 2ms/step - loss: 0.5257 - accuracy: 0.7454 - val_loss: 0.6299 - val_accuracy: 0.6522\n",
      "\n",
      "Epoch 00052: val_loss did not improve from 0.60421\n",
      "Epoch 53/100\n",
      "6093/6093 [==============================] - 14s 2ms/step - loss: 0.5245 - accuracy: 0.7477 - val_loss: 0.6166 - val_accuracy: 0.6509\n",
      "\n",
      "Epoch 00053: val_loss did not improve from 0.60421\n",
      "Epoch 54/100\n",
      "6093/6093 [==============================] - 14s 2ms/step - loss: 0.5195 - accuracy: 0.7525 - val_loss: 0.6410 - val_accuracy: 0.6581\n",
      "\n",
      "Epoch 00054: val_loss did not improve from 0.60421\n",
      "Epoch 55/100\n",
      "6093/6093 [==============================] - 14s 2ms/step - loss: 0.5183 - accuracy: 0.7523 - val_loss: 0.6390 - val_accuracy: 0.6601\n",
      "\n",
      "Epoch 00055: val_loss did not improve from 0.60421\n",
      "Epoch 56/100\n",
      "6093/6093 [==============================] - 15s 2ms/step - loss: 0.5110 - accuracy: 0.7528 - val_loss: 0.6361 - val_accuracy: 0.6371\n",
      "\n",
      "Epoch 00056: val_loss did not improve from 0.60421\n",
      "Epoch 57/100\n",
      "6093/6093 [==============================] - 14s 2ms/step - loss: 0.5048 - accuracy: 0.7622 - val_loss: 0.6497 - val_accuracy: 0.6745\n",
      "\n",
      "Epoch 00057: val_loss did not improve from 0.60421\n",
      "Epoch 58/100\n",
      "6093/6093 [==============================] - 14s 2ms/step - loss: 0.5039 - accuracy: 0.7625 - val_loss: 0.6633 - val_accuracy: 0.6417\n",
      "\n",
      "Epoch 00058: val_loss did not improve from 0.60421\n",
      "Epoch 59/100\n",
      "6093/6093 [==============================] - 15s 2ms/step - loss: 0.4955 - accuracy: 0.7704 - val_loss: 0.6486 - val_accuracy: 0.6542\n",
      "\n",
      "Epoch 00059: val_loss did not improve from 0.60421\n",
      "Epoch 60/100\n",
      "6093/6093 [==============================] - 14s 2ms/step - loss: 0.4979 - accuracy: 0.7671 - val_loss: 0.6710 - val_accuracy: 0.6673\n",
      "\n",
      "Epoch 00060: val_loss did not improve from 0.60421\n",
      "Epoch 61/100\n",
      "6093/6093 [==============================] - 14s 2ms/step - loss: 0.4914 - accuracy: 0.7735 - val_loss: 0.6607 - val_accuracy: 0.6476\n",
      "\n",
      "Epoch 00061: val_loss did not improve from 0.60421\n",
      "Epoch 62/100\n",
      "6093/6093 [==============================] - 15s 2ms/step - loss: 0.4910 - accuracy: 0.7750 - val_loss: 0.6723 - val_accuracy: 0.6470\n",
      "\n",
      "Epoch 00062: val_loss did not improve from 0.60421\n",
      "Epoch 63/100\n",
      "6093/6093 [==============================] - 14s 2ms/step - loss: 0.4770 - accuracy: 0.7855 - val_loss: 0.6814 - val_accuracy: 0.6496\n",
      "\n",
      "Epoch 00063: val_loss did not improve from 0.60421\n",
      "Epoch 64/100\n",
      "6093/6093 [==============================] - 15s 2ms/step - loss: 0.4774 - accuracy: 0.7868 - val_loss: 0.6809 - val_accuracy: 0.6575\n",
      "\n",
      "Epoch 00064: val_loss did not improve from 0.60421\n",
      "Epoch 65/100\n",
      "6093/6093 [==============================] - 15s 2ms/step - loss: 0.4742 - accuracy: 0.7835 - val_loss: 0.6728 - val_accuracy: 0.6673\n",
      "\n",
      "Epoch 00065: val_loss did not improve from 0.60421\n",
      "Epoch 66/100\n",
      "6093/6093 [==============================] - 14s 2ms/step - loss: 0.4620 - accuracy: 0.7950 - val_loss: 0.6909 - val_accuracy: 0.6732\n",
      "\n",
      "Epoch 00066: val_loss did not improve from 0.60421\n",
      "Epoch 67/100\n",
      "6093/6093 [==============================] - 16s 3ms/step - loss: 0.4658 - accuracy: 0.7884 - val_loss: 0.6744 - val_accuracy: 0.6555\n"
     ]
    },
    {
     "name": "stdout",
     "output_type": "stream",
     "text": [
      "\n",
      "Epoch 00067: val_loss did not improve from 0.60421\n",
      "Epoch 68/100\n",
      "6093/6093 [==============================] - 15s 2ms/step - loss: 0.4564 - accuracy: 0.8001 - val_loss: 0.6851 - val_accuracy: 0.6588\n",
      "\n",
      "Epoch 00068: val_loss did not improve from 0.60421\n",
      "Epoch 69/100\n",
      "6093/6093 [==============================] - 14s 2ms/step - loss: 0.4556 - accuracy: 0.7991 - val_loss: 0.7034 - val_accuracy: 0.6660\n",
      "\n",
      "Epoch 00069: val_loss did not improve from 0.60421\n",
      "Epoch 70/100\n",
      "6093/6093 [==============================] - 14s 2ms/step - loss: 0.4502 - accuracy: 0.8060 - val_loss: 0.7100 - val_accuracy: 0.6529\n",
      "\n",
      "Epoch 00070: val_loss did not improve from 0.60421\n",
      "Epoch 71/100\n",
      "6093/6093 [==============================] - 15s 2ms/step - loss: 0.4498 - accuracy: 0.8060 - val_loss: 0.6953 - val_accuracy: 0.6601\n",
      "\n",
      "Epoch 00071: val_loss did not improve from 0.60421\n",
      "Epoch 72/100\n",
      "6093/6093 [==============================] - 15s 3ms/step - loss: 0.4486 - accuracy: 0.8055 - val_loss: 0.6807 - val_accuracy: 0.6562\n",
      "\n",
      "Epoch 00072: val_loss did not improve from 0.60421\n",
      "Epoch 73/100\n",
      "6093/6093 [==============================] - 14s 2ms/step - loss: 0.4442 - accuracy: 0.8081 - val_loss: 0.7152 - val_accuracy: 0.6516\n",
      "\n",
      "Epoch 00073: val_loss did not improve from 0.60421\n",
      "Epoch 74/100\n",
      "6093/6093 [==============================] - 14s 2ms/step - loss: 0.4405 - accuracy: 0.8088 - val_loss: 0.6979 - val_accuracy: 0.6627\n",
      "\n",
      "Epoch 00074: val_loss did not improve from 0.60421\n",
      "Epoch 75/100\n",
      "6093/6093 [==============================] - 14s 2ms/step - loss: 0.4337 - accuracy: 0.8111 - val_loss: 0.6988 - val_accuracy: 0.6640\n",
      "\n",
      "Epoch 00075: val_loss did not improve from 0.60421\n",
      "Epoch 76/100\n",
      "6093/6093 [==============================] - 15s 2ms/step - loss: 0.4327 - accuracy: 0.8167 - val_loss: 0.6981 - val_accuracy: 0.6398\n",
      "\n",
      "Epoch 00076: val_loss did not improve from 0.60421\n",
      "Epoch 77/100\n",
      "6093/6093 [==============================] - 14s 2ms/step - loss: 0.4331 - accuracy: 0.8162 - val_loss: 0.7012 - val_accuracy: 0.6706\n",
      "\n",
      "Epoch 00077: val_loss did not improve from 0.60421\n",
      "Epoch 78/100\n",
      "6093/6093 [==============================] - 14s 2ms/step - loss: 0.4355 - accuracy: 0.8137 - val_loss: 0.6831 - val_accuracy: 0.6640\n",
      "\n",
      "Epoch 00078: val_loss did not improve from 0.60421\n",
      "Epoch 79/100\n",
      "6093/6093 [==============================] - 13s 2ms/step - loss: 0.4258 - accuracy: 0.8214 - val_loss: 0.7196 - val_accuracy: 0.6496\n",
      "\n",
      "Epoch 00079: val_loss did not improve from 0.60421\n",
      "Epoch 80/100\n",
      "6093/6093 [==============================] - 15s 2ms/step - loss: 0.4344 - accuracy: 0.8147 - val_loss: 0.7082 - val_accuracy: 0.6424\n",
      "\n",
      "Epoch 00080: val_loss did not improve from 0.60421\n",
      "Epoch 81/100\n",
      "6093/6093 [==============================] - 15s 2ms/step - loss: 0.4200 - accuracy: 0.8244 - val_loss: 0.7135 - val_accuracy: 0.6575\n",
      "\n",
      "Epoch 00081: val_loss did not improve from 0.60421\n",
      "Epoch 82/100\n",
      "6093/6093 [==============================] - 15s 2ms/step - loss: 0.4229 - accuracy: 0.8195 - val_loss: 0.7384 - val_accuracy: 0.6385\n",
      "\n",
      "Epoch 00082: val_loss did not improve from 0.60421\n",
      "Epoch 83/100\n",
      "6093/6093 [==============================] - 14s 2ms/step - loss: 0.4155 - accuracy: 0.8282 - val_loss: 0.7510 - val_accuracy: 0.6483\n",
      "\n",
      "Epoch 00083: val_loss did not improve from 0.60421\n",
      "Epoch 84/100\n",
      "6093/6093 [==============================] - 15s 2ms/step - loss: 0.4108 - accuracy: 0.8305 - val_loss: 0.7262 - val_accuracy: 0.6470\n",
      "\n",
      "Epoch 00084: val_loss did not improve from 0.60421\n",
      "Epoch 85/100\n",
      "6093/6093 [==============================] - 15s 2ms/step - loss: 0.4225 - accuracy: 0.8247 - val_loss: 0.7204 - val_accuracy: 0.6581\n",
      "\n",
      "Epoch 00085: val_loss did not improve from 0.60421\n",
      "Epoch 86/100\n",
      "6093/6093 [==============================] - 14s 2ms/step - loss: 0.4029 - accuracy: 0.8385 - val_loss: 0.7405 - val_accuracy: 0.6660\n",
      "\n",
      "Epoch 00086: val_loss did not improve from 0.60421\n",
      "Epoch 87/100\n",
      "6093/6093 [==============================] - 14s 2ms/step - loss: 0.4034 - accuracy: 0.8359 - val_loss: 0.7384 - val_accuracy: 0.6627\n",
      "\n",
      "Epoch 00087: val_loss did not improve from 0.60421\n",
      "Epoch 88/100\n",
      "6093/6093 [==============================] - 15s 2ms/step - loss: 0.4007 - accuracy: 0.8392 - val_loss: 0.7291 - val_accuracy: 0.6509\n",
      "\n",
      "Epoch 00088: val_loss did not improve from 0.60421\n",
      "Epoch 89/100\n",
      "6093/6093 [==============================] - 14s 2ms/step - loss: 0.4000 - accuracy: 0.8378 - val_loss: 0.7479 - val_accuracy: 0.6647\n",
      "\n",
      "Epoch 00089: val_loss did not improve from 0.60421\n",
      "Epoch 90/100\n",
      "6093/6093 [==============================] - 14s 2ms/step - loss: 0.4017 - accuracy: 0.8369 - val_loss: 0.8131 - val_accuracy: 0.6568\n",
      "\n",
      "Epoch 00090: val_loss did not improve from 0.60421\n",
      "Epoch 91/100\n",
      "6093/6093 [==============================] - 14s 2ms/step - loss: 0.4033 - accuracy: 0.8382 - val_loss: 0.7924 - val_accuracy: 0.6680\n",
      "\n",
      "Epoch 00091: val_loss did not improve from 0.60421\n",
      "Epoch 92/100\n",
      "6093/6093 [==============================] - 15s 2ms/step - loss: 0.4085 - accuracy: 0.8316 - val_loss: 0.7274 - val_accuracy: 0.6562\n",
      "\n",
      "Epoch 00092: val_loss did not improve from 0.60421\n",
      "Epoch 93/100\n",
      "6093/6093 [==============================] - 14s 2ms/step - loss: 0.3905 - accuracy: 0.8444 - val_loss: 0.7516 - val_accuracy: 0.6608\n",
      "\n",
      "Epoch 00093: val_loss did not improve from 0.60421\n",
      "Epoch 94/100\n",
      "6093/6093 [==============================] - 13s 2ms/step - loss: 0.3985 - accuracy: 0.8398 - val_loss: 0.7580 - val_accuracy: 0.6640\n",
      "\n",
      "Epoch 00094: val_loss did not improve from 0.60421\n",
      "Epoch 95/100\n",
      "6093/6093 [==============================] - 14s 2ms/step - loss: 0.4255 - accuracy: 0.8149 - val_loss: 0.7170 - val_accuracy: 0.6457\n",
      "\n",
      "Epoch 00095: val_loss did not improve from 0.60421\n",
      "Epoch 96/100\n",
      "6093/6093 [==============================] - 14s 2ms/step - loss: 0.3941 - accuracy: 0.8413 - val_loss: 0.7556 - val_accuracy: 0.6490\n",
      "\n",
      "Epoch 00096: val_loss did not improve from 0.60421\n",
      "Epoch 97/100\n",
      "6093/6093 [==============================] - 14s 2ms/step - loss: 0.3811 - accuracy: 0.8490 - val_loss: 0.7685 - val_accuracy: 0.6667\n",
      "\n",
      "Epoch 00097: val_loss did not improve from 0.60421\n",
      "Epoch 98/100\n",
      "6093/6093 [==============================] - 14s 2ms/step - loss: 0.3925 - accuracy: 0.8419 - val_loss: 0.8075 - val_accuracy: 0.6470\n",
      "\n",
      "Epoch 00098: val_loss did not improve from 0.60421\n",
      "Epoch 99/100\n",
      "6093/6093 [==============================] - 14s 2ms/step - loss: 0.3888 - accuracy: 0.8459 - val_loss: 0.7800 - val_accuracy: 0.6266\n",
      "\n",
      "Epoch 00099: val_loss did not improve from 0.60421\n",
      "Epoch 100/100\n",
      "6093/6093 [==============================] - 14s 2ms/step - loss: 0.3812 - accuracy: 0.8518 - val_loss: 0.7637 - val_accuracy: 0.6594\n",
      "\n",
      "Epoch 00100: val_loss did not improve from 0.60421\n"
     ]
    }
   ],
   "source": [
    "#Hyper-Params\n",
    "epochs = 100\n",
    "batch_size = 32\n",
    "\n",
    "# train model\n",
    "history1 = model1.fit(X1_train_padded, y1_train, batch_size = batch_size, epochs=epochs, verbose=1, validation_split=0.2, callbacks=callbacks_list)"
   ]
  },
  {
   "cell_type": "code",
   "execution_count": 29,
   "metadata": {},
   "outputs": [
    {
     "data": {
      "image/png": "[encoded data removed]",
      "text/plain": [
       "<Figure size 432x288 with 1 Axes>"
      ]
     },
     "metadata": {
      "needs_background": "light"
     },
     "output_type": "display_data"
    },
    {
     "data": {
      "image/png": "[encoded data removed]",
      "text/plain": [
       "<Figure size 432x288 with 1 Axes>"
      ]
     },
     "metadata": {
      "needs_background": "light"
     },
     "output_type": "display_data"
    }
   ],
   "source": [
    "plot_loss_accuracy(history1)"
   ]
  },
  {
   "cell_type": "code",
   "execution_count": 32,
   "metadata": {},
   "outputs": [
    {
     "name": "stdout",
     "output_type": "stream",
     "text": [
      "1905/1905 [==============================] - 1s 592us/step\n",
      "Confusion matrix, without normalization\n",
      "[[539 434]\n",
      " [209 723]]\n",
      "Normalized confusion matrix\n",
      "[[0.55395683 0.44604317]\n",
      " [0.22424893 0.77575107]]\n"
     ]
    },
    {
     "data": {
      "image/png": "[encoded data removed]",
      "text/plain": [
       "<Figure size 432x288 with 2 Axes>"
      ]
     },
     "metadata": {
      "needs_background": "light"
     },
     "output_type": "display_data"
    },
    {
     "data": {
      "image/png": "[encoded data removed]",
      "text/plain": [
       "<Figure size 432x288 with 2 Axes>"
      ]
     },
     "metadata": {
      "needs_background": "light"
     },
     "output_type": "display_data"
    }
   ],
   "source": [
    "y1_pred = model1.predict(X1_test_padded, verbose=1)\n",
    "\n",
    "print_cm(y1_test, y1_pred)"
   ]
  },
  {
   "cell_type": "code",
   "execution_count": 42,
   "metadata": {},
   "outputs": [
    {
     "name": "stdout",
     "output_type": "stream",
     "text": [
      "F1 score: 0.69220\n"
     ]
    }
   ],
   "source": [
    "from sklearn.metrics import f1_score\n",
    "y1_pred_output = [1 if y1_pred[i] > 0.5 else 0 for i in range(len(y1_pred))]\n",
    "\n",
    "print(\"F1 score: %3.5f\" % f1_score(y1_test, y1_pred_output))"
   ]
  },
  {
   "cell_type": "code",
   "execution_count": 33,
   "metadata": {
    "scrolled": true
   },
   "outputs": [
    {
     "name": "stdout",
     "output_type": "stream",
     "text": [
      "['loss', 'accuracy']\n",
      "1905/1905 [==============================] - 1s 588us/step\n"
     ]
    },
    {
     "data": {
      "text/plain": [
       "[0.7254371929669318, 0.6624671816825867]"
      ]
     },
     "execution_count": 33,
     "metadata": {},
     "output_type": "execute_result"
    }
   ],
   "source": [
    "print(model1.metrics_names)\n",
    "model1.evaluate(X1_test_padded, y1_test)"
   ]
  },
  {
   "cell_type": "markdown",
   "metadata": {},
   "source": [
    "## Using LSTM model - best val loss model"
   ]
  },
  {
   "cell_type": "code",
   "execution_count": 8,
   "metadata": {},
   "outputs": [
    {
     "name": "stdout",
     "output_type": "stream",
     "text": [
      "WARNING:tensorflow:From /home/mj/.local/lib/python3.7/site-packages/tensorflow/python/ops/nn_impl.py:180: add_dispatch_support.<locals>.wrapper (from tensorflow.python.ops.array_ops) is deprecated and will be removed in a future version.\n",
      "Instructions for updating:\n",
      "Use tf.where in 2.0, which has the same broadcast rule as np.where\n",
      "WARNING:tensorflow:From /home/mj/.local/lib/python3.7/site-packages/keras/backend/tensorflow_backend.py:422: The name tf.global_variables is deprecated. Please use tf.compat.v1.global_variables instead.\n",
      "\n"
     ]
    }
   ],
   "source": [
    "# load best val loss model to compare with overfitted model above\n",
    "from keras.models import load_model\n",
    "\n",
    "wd = os.getcwd()\n",
    "path = wd + \"/best_models/try2__copy.38-0.60.hdf5\"\n",
    "model_b = load_model(path)"
   ]
  },
  {
   "cell_type": "code",
   "execution_count": 16,
   "metadata": {
    "scrolled": true
   },
   "outputs": [
    {
     "name": "stdout",
     "output_type": "stream",
     "text": [
      "1905/1905 [==============================] - 2s 1ms/step\n",
      "Confusion matrix, without normalization\n",
      "[[710 263]\n",
      " [329 603]]\n",
      "Normalized confusion matrix\n",
      "[[0.72970195 0.27029805]\n",
      " [0.35300429 0.64699571]]\n"
     ]
    },
    {
     "data": {
      "image/png": "[encoded data removed]",
      "text/plain": [
       "<Figure size 432x288 with 2 Axes>"
      ]
     },
     "metadata": {
      "needs_background": "light"
     },
     "output_type": "display_data"
    },
    {
     "data": {
      "image/png": "[encoded data removed]",
      "text/plain": [
       "<Figure size 432x288 with 2 Axes>"
      ]
     },
     "metadata": {
      "needs_background": "light"
     },
     "output_type": "display_data"
    }
   ],
   "source": [
    "y_pred_b = model_b.predict(X1_test_padded, verbose=1)\n",
    "\n",
    "print_cm(y1_test, y_pred_b)"
   ]
  },
  {
   "cell_type": "code",
   "execution_count": 17,
   "metadata": {},
   "outputs": [
    {
     "name": "stdout",
     "output_type": "stream",
     "text": [
      "F1 score: 0.67075\n"
     ]
    }
   ],
   "source": [
    "y_pred_b_output = [1 if y_pred_b[i] > 0.5 else 0 for i in range(len(y_pred_b))]\n",
    "\n",
    "print(\"F1 score: %3.5f\" % f1_score(y1_test, y_pred_b_output))"
   ]
  },
  {
   "cell_type": "code",
   "execution_count": 36,
   "metadata": {},
   "outputs": [
    {
     "name": "stdout",
     "output_type": "stream",
     "text": [
      "['loss', 'accuracy']\n",
      "1905/1905 [==============================] - 1s 749us/step\n"
     ]
    },
    {
     "data": {
      "text/plain": [
       "[0.5875245457872005, 0.6892388463020325]"
      ]
     },
     "execution_count": 36,
     "metadata": {},
     "output_type": "execute_result"
    }
   ],
   "source": [
    "print(model_b.metrics_names)\n",
    "model_b.evaluate(X1_test_padded, y1_test)"
   ]
  },
  {
   "cell_type": "markdown",
   "metadata": {},
   "source": [
    "## Using DNN - best val loss model"
   ]
  },
  {
   "cell_type": "code",
   "execution_count": 9,
   "metadata": {},
   "outputs": [],
   "source": [
    "# load best val loss model to compare with overfitted model above\n",
    "wd = os.getcwd()\n",
    "path = wd + \"/best_models/DNNWeights_v5_try2.31-0.62.hdf5\"\n",
    "model_dnn = load_model(path)\n",
    "# DNNWeights_v5_try2.31-0.62.hdf5"
   ]
  },
  {
   "cell_type": "code",
   "execution_count": 19,
   "metadata": {
    "scrolled": false
   },
   "outputs": [
    {
     "name": "stdout",
     "output_type": "stream",
     "text": [
      "1905/1905 [==============================] - 0s 168us/step\n",
      "Confusion matrix, without normalization\n",
      "[[626 347]\n",
      " [308 624]]\n",
      "Normalized confusion matrix\n",
      "[[0.64337102 0.35662898]\n",
      " [0.3304721  0.6695279 ]]\n"
     ]
    },
    {
     "data": {
      "image/png": "[encoded data removed]",
      "text/plain": [
       "<Figure size 432x288 with 2 Axes>"
      ]
     },
     "metadata": {
      "needs_background": "light"
     },
     "output_type": "display_data"
    },
    {
     "data": {
      "image/png": "[encoded data removed]",
      "text/plain": [
       "<Figure size 432x288 with 2 Axes>"
      ]
     },
     "metadata": {
      "needs_background": "light"
     },
     "output_type": "display_data"
    }
   ],
   "source": [
    "y_pred_dnn = model_dnn.predict(X1_test_padded, verbose=1)\n",
    "\n",
    "print_cm(y1_test, y_pred_dnn)"
   ]
  },
  {
   "cell_type": "code",
   "execution_count": 20,
   "metadata": {},
   "outputs": [
    {
     "name": "stdout",
     "output_type": "stream",
     "text": [
      "F1 score: 0.65581\n"
     ]
    }
   ],
   "source": [
    "y_pred_dnn_output = [1 if y_pred_dnn[i] > 0.5 else 0 for i in range(len(y_pred_dnn))]\n",
    "print(\"F1 score: %3.5f\" % f1_score(y1_test, y_pred_dnn_output))"
   ]
  },
  {
   "cell_type": "code",
   "execution_count": 52,
   "metadata": {
    "scrolled": false
   },
   "outputs": [
    {
     "name": "stdout",
     "output_type": "stream",
     "text": [
      "['loss', 'accuracy']\n",
      "1905/1905 [==============================] - 0s 135us/step\n"
     ]
    },
    {
     "data": {
      "text/plain": [
       "[0.6224676029888664, 0.6561679840087891]"
      ]
     },
     "execution_count": 52,
     "metadata": {},
     "output_type": "execute_result"
    }
   ],
   "source": [
    "print(model_dnn.metrics_names)\n",
    "model_dnn.evaluate(X1_test_padded, y1_test)"
   ]
  }
 ],
 "metadata": {
  "colab": {
   "collapsed_sections": [],
   "name": "CS3244 RNN with fasttext.ipynb",
   "provenance": []
  },
  "kernelspec": {
   "display_name": "Python 3",
   "language": "python",
   "name": "python3"
  },
  "language_info": {
   "codemirror_mode": {
    "name": "ipython",
    "version": 3
   },
   "file_extension": ".py",
   "mimetype": "text/x-python",
   "name": "python",
   "nbconvert_exporter": "python",
   "pygments_lexer": "ipython3",
   "version": "3.7.4"
  }
 },
 "nbformat": 4,
 "nbformat_minor": 1
}
