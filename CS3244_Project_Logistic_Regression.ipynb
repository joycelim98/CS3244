{
  "nbformat": 4,
  "nbformat_minor": 0,
  "metadata": {
    "colab": {
      "name": "CS3244 Project: Logistic Regression.ipynb",
      "provenance": [],
      "collapsed_sections": []
    },
    "kernelspec": {
      "name": "python3",
      "display_name": "Python 3"
    }
  },
  "cells": [
    {
      "cell_type": "code",
      "metadata": {
        "id": "U7hyBKXq53TE",
        "colab_type": "code",
        "colab": {}
      },
      "source": [
        "import numpy as np\n",
        "import pandas as pd\n",
        "from sklearn.linear_model import LogisticRegression\n",
        "from sklearn.model_selection import train_test_split, cross_val_score\n",
        "from sklearn.metrics import accuracy_score,confusion_matrix,f1_score\n",
        "from sklearn import preprocessing\n",
        "from imblearn.over_sampling import RandomOverSampler\n",
        "\n",
        "# this is the new url for the large dataset\n",
        "url = 'https://raw.githubusercontent.com/SarahTaaherBonna/CS3244Project/master/ExtractedFeaturesDataset/extracted_features_LARGE_v4.csv?token=AIQX6SIJAPXGAQ33YKUAHPS53JBWY' \n",
        "df = pd.read_csv(url)"
      ],
      "execution_count": 0,
      "outputs": []
    },
    {
      "cell_type": "code",
      "metadata": {
        "id": "rIdufcFebcXz",
        "colab_type": "code",
        "outputId": "33a982a2-f564-4764-b29e-51e8d762a21e",
        "colab": {
          "base_uri": "https://localhost:8080/",
          "height": 51
        }
      },
      "source": [
        "# percentage of test data\n",
        "percentage = 0.2\n",
        "\n",
        "# split into training and testing data\n",
        "\n",
        "# #for dataset without oversampling or undersampling\n",
        "# #separate into inputs and labels\n",
        "# X = df[['proportion_exclamations_title', 'proportion_question_title', 'proportion_allcaps_title', 'proportion_contractions_title', 'sentiment_title', 'starts_with_number_title',  'starts_with_5W1H_title', 'proportion_of_stop_words_in_title']]\n",
        "# y = df['label']\n",
        "# X_train1, X_test, y_train, y_test = train_test_split(X, y, test_size = percentage)\n",
        "# X_train = preprocessing.normalize(X_train1, norm='l2')\n",
        "\n",
        "# #for dataset with oversampling\n",
        "# #separate into inputs and labels\n",
        "# X = df[['proportion_exclamations_title', 'proportion_question_title', 'proportion_allcaps_title', 'proportion_contractions_title', 'sentiment_title', 'starts_with_number_title',  'starts_with_5W1H_title', 'proportion_of_stop_words_in_title']]\n",
        "# y = df['label']\n",
        "# X_train1, X_test, y_train1, y_test = train_test_split(X, y, test_size = percentage)\n",
        "# #balance data\n",
        "# ros = RandomOverSampler(random_state=0)\n",
        "# X_resampled, y_train = ros.fit_resample(X_train1, y_train1)\n",
        "# X_train = preprocessing.normalize(X_resampled, norm='l2')\n",
        "\n",
        "# for dataset with undersampling\n",
        "num_clickbait = len(df[df['label'] == 0])\n",
        "non_clickbait_indices = df[df.label == 1].index\n",
        "random_non_clickbait_indices = np.random.choice(non_clickbait_indices, num_clickbait)\n",
        "clickbait_indices = df[df.label == 0].index\n",
        "under_sample_indices = np.concatenate([clickbait_indices, random_non_clickbait_indices])\n",
        "under_sample = df.loc[under_sample_indices]\n",
        "X = under_sample[['proportion_exclamations_title', 'proportion_question_title', 'proportion_allcaps_title', 'proportion_contractions_title', 'sentiment_title', 'starts_with_number_title',  'starts_with_5W1H_title', 'proportion_of_stop_words_in_title']]\n",
        "y = under_sample['label']\n",
        "X_train1, X_test, y_train, y_test = train_test_split(X, y, test_size = percentage)\n",
        "X_train = preprocessing.normalize(X_train1, norm='l2')\n",
        "\n",
        "print(\"total training examples: %d\\ntotal test examples: %d\" % (len(X_train), len(X_test)))"
      ],
      "execution_count": 31,
      "outputs": [
        {
          "output_type": "stream",
          "text": [
            "total training examples: 23643\n",
            "total test examples: 5911\n"
          ],
          "name": "stdout"
        }
      ]
    },
    {
      "cell_type": "code",
      "metadata": {
        "colab_type": "code",
        "id": "gs60fLSR1tNB",
        "outputId": "13d5f5ea-ce60-45b1-dd71-eccd3f26d212",
        "colab": {
          "base_uri": "https://localhost:8080/",
          "height": 340
        }
      },
      "source": [
        "from sklearn.model_selection import validation_curve\n",
        "\n",
        "# set up sklearn logistic regression\n",
        "regularisation_vals = [1e-10, 1e-5, 1e-2, 0.1, 0.25, 0.4, 0.5, 0.75, 1.0, 1.25, 1.5, 10, 100, 1000, 1e5, 1e10, 1e15, 1e20] # an array of values, to find out which is the best C \n",
        "best_accuracy = 0\n",
        "best_reg_val = regularisation_vals[0]\n",
        "\n",
        "model = \"\"\n",
        "\n",
        "for i in range(len(regularisation_vals)):\n",
        "  reg_val = regularisation_vals[i]\n",
        "  model = LogisticRegression(C=reg_val, solver = 'liblinear')\n",
        "\n",
        "  cv = cross_val_score(model, X_train, y_train, cv=10)\n",
        "  # print(\"Accuracy of different folds: {}\".format(cv))\n",
        "  print(\"The mean accuracy of all folds: {}\".format(cv.mean()))\n",
        "  if cv.mean() > best_accuracy:\n",
        "    best_accuracy = cv.mean()\n",
        "    best_reg_val = reg_val\n",
        "\n",
        "print(\"best regularisation value = %3.9f\" % best_reg_val)\n",
        "\n",
        "train_scores, valid_scores = validation_curve(model, X_train, y_train, param_name=\"C\", param_range=regularisation_vals, cv=10)"
      ],
      "execution_count": 32,
      "outputs": [
        {
          "output_type": "stream",
          "text": [
            "The mean accuracy of all folds: 0.5482376801457746\n",
            "The mean accuracy of all folds: 0.5507329672930643\n",
            "The mean accuracy of all folds: 0.5768293299860769\n",
            "The mean accuracy of all folds: 0.5803822720091019\n",
            "The mean accuracy of all folds: 0.5813973753825332\n",
            "The mean accuracy of all folds: 0.5823277510616374\n",
            "The mean accuracy of all folds: 0.5828776486183486\n",
            "The mean accuracy of all folds: 0.5826661963551905\n",
            "The mean accuracy of all folds: 0.5825392391277446\n",
            "The mean accuracy of all folds: 0.5825815224258418\n",
            "The mean accuracy of all folds: 0.582793010491949\n",
            "The mean accuracy of all folds: 0.5831314200128304\n",
            "The mean accuracy of all folds: 0.5833006068793658\n",
            "The mean accuracy of all folds: 0.5833006068793658\n",
            "The mean accuracy of all folds: 0.5833006068793658\n",
            "The mean accuracy of all folds: 0.5833006068793658\n",
            "The mean accuracy of all folds: 0.5833006068793658\n",
            "The mean accuracy of all folds: 0.5833006068793658\n",
            "best regularisation value = 100.000000000\n"
          ],
          "name": "stdout"
        }
      ]
    },
    {
      "cell_type": "code",
      "metadata": {
        "id": "cxMr8ybe22I3",
        "colab_type": "code",
        "outputId": "a865a4a5-1eb8-4fea-e2d0-289e4626d949",
        "colab": {
          "base_uri": "https://localhost:8080/",
          "height": 301
        }
      },
      "source": [
        "import matplotlib.pyplot as plt\n",
        "\n",
        "param_range = regularisation_vals\n",
        "\n",
        "train_scores_mean = np.mean(train_scores, axis=1)\n",
        "train_scores_std = np.std(train_scores, axis=1)\n",
        "valid_scores_mean = np.mean(valid_scores, axis=1)\n",
        "valid_scores_std = np.std(valid_scores, axis=1)\n",
        "\n",
        "plt.title(\"Validation Curve with SVM\")\n",
        "plt.xlabel(r\"$C$\")\n",
        "plt.ylabel(\"Score\")\n",
        "plt.ylim(0.0, 1.0)\n",
        "lw = 2\n",
        "plt.semilogx(param_range, train_scores_mean, label=\"Training score\",\n",
        "             color=\"darkorange\", lw=lw)\n",
        "plt.fill_between(param_range, train_scores_mean - train_scores_std,\n",
        "                 train_scores_mean + train_scores_std, alpha=0.2,\n",
        "                 color=\"darkorange\", lw=lw)\n",
        "plt.semilogx(param_range, valid_scores_mean, label=\"Cross-validation score\",\n",
        "             color=\"navy\", lw=lw)\n",
        "plt.fill_between(param_range, valid_scores_mean - valid_scores_std,\n",
        "                 valid_scores_mean + valid_scores_std, alpha=0.2,\n",
        "                 color=\"navy\", lw=lw)\n",
        "plt.legend(loc=\"best\")\n",
        "plt.show()"
      ],
      "execution_count": 33,
      "outputs": [
        {
          "output_type": "display_data",
          "data": {
            "image/png": "[encoded data removed]",
            "text/plain": [
              "<Figure size 432x288 with 1 Axes>"
            ]
          },
          "metadata": {
            "tags": []
          }
        }
      ]
    },
    {
      "cell_type": "code",
      "metadata": {
        "id": "rx3EkjCQrq5j",
        "colab_type": "code",
        "outputId": "dbb3bb35-6f44-4aec-a807-f2d71762456f",
        "colab": {
          "base_uri": "https://localhost:8080/",
          "height": 102
        }
      },
      "source": [
        "improved_model = LogisticRegression(C= best_reg_val, solver = 'liblinear')\n",
        "improved_model.fit(X_train, y_train)\n",
        "\n",
        "y_pred = improved_model.predict(X_test)\n",
        "print(\"classification accuracy: {}\".format(accuracy_score(y_test, y_pred)))\n",
        "\n",
        "# get confusion matrix for visualisation\n",
        "cm = confusion_matrix(y_test, y_pred)\n",
        "f1 = f1_score(y_test, y_pred)\n",
        "print(\"F1-Score: \", f1)\n",
        "print(\"Confusion Matrix: \")\n",
        "print(cm)"
      ],
      "execution_count": 34,
      "outputs": [
        {
          "output_type": "stream",
          "text": [
            "classification accuracy: 0.5005921163931653\n",
            "F1-Score:  0.6636280765724705\n",
            "Confusion Matrix: \n",
            "[[  47 2872]\n",
            " [  80 2912]]\n"
          ],
          "name": "stdout"
        }
      ]
    },
    {
      "cell_type": "code",
      "metadata": {
        "id": "8t72k8Nff2gy",
        "colab_type": "code",
        "colab": {}
      },
      "source": [
        "def plot_confusion_matrix(y_true, y_pred, classes,\n",
        "                          normalize=False,\n",
        "                          title=None,\n",
        "                          cmap=plt.cm.Blues):\n",
        "    \"\"\"\n",
        "    This function prints and plots the confusion matrix.\n",
        "    Normalization can be applied by setting `normalize=True`.\n",
        "    \"\"\"\n",
        "    if not title:\n",
        "        if normalize:\n",
        "            title = 'Normalized Confusion Matrix'\n",
        "        else:\n",
        "            title = 'Non-Normalized Confusion Matrix'\n",
        "\n",
        "    # Compute confusion matrix\n",
        "    cm = confusion_matrix(y_true, y_pred)\n",
        "    # Only use the labels that appear in the data\n",
        "    #classes = classes[unique_labels(y_true, y_pred)]\n",
        "    if normalize:\n",
        "        cm = cm.astype('float') / cm.sum(axis=1)[:, np.newaxis]\n",
        "        print(\"Normalized confusion matrix\")\n",
        "    else:\n",
        "        print('Non-Normalized Confusion Matrix')\n",
        "\n",
        "    print(cm)\n",
        "\n",
        "    fig, ax = plt.subplots()\n",
        "    im = ax.imshow(cm, interpolation='nearest', cmap=cmap)\n",
        "    ax.figure.colorbar(im, ax=ax)\n",
        "    # We want to show all ticks...\n",
        "    ax.set(xticks=np.arange(cm.shape[1]),\n",
        "           yticks=np.arange(cm.shape[0]),\n",
        "           # ... and label them with the respective list entries\n",
        "           xticklabels=classes, yticklabels=classes,\n",
        "           title=title,\n",
        "           ylabel='True label',\n",
        "           xlabel='Predicted label')\n",
        "\n",
        "    # Rotate the tick labels and set their alignment.\n",
        "    plt.setp(ax.get_xticklabels(), rotation=45, ha=\"right\",\n",
        "             rotation_mode=\"anchor\")\n",
        "    return ax"
      ],
      "execution_count": 0,
      "outputs": []
    },
    {
      "cell_type": "code",
      "metadata": {
        "id": "VS44R8gUf7G2",
        "colab_type": "code",
        "colab": {}
      },
      "source": [
        "def print_cm(y_test, y_pred):\n",
        "    y_test = np.array(y_test)\n",
        "\n",
        "    y_pred_output = np.array([1 if y_pred[i] > 0.5 else 0 for i in range(len(y_pred))])\n",
        "    cm = confusion_matrix(y_test, y_pred_output)\n",
        "\n",
        "    class_names = [\"non-clickbait\", \"clickbait\"]\n",
        "    plot_confusion_matrix(y_test, y_pred_output, classes=class_names,\n",
        "                          title='Non-Normalized Confusion Matrix (Log Reg)')\n",
        "\n",
        "    # Plot normalized confusion matrix\n",
        "    plot_confusion_matrix(y_test, y_pred_output, classes=class_names, normalize=True,\n",
        "                          title='Normalized Confusion Matrix (Log Reg)')\n",
        "\n",
        "    plt.show()"
      ],
      "execution_count": 0,
      "outputs": []
    },
    {
      "cell_type": "code",
      "metadata": {
        "id": "f3QahTqApA29",
        "colab_type": "code",
        "outputId": "83c6fd96-748e-4f35-9302-c22c6633332e",
        "colab": {
          "base_uri": "https://localhost:8080/",
          "height": 645
        }
      },
      "source": [
        "print_cm(y_test, y_pred)"
      ],
      "execution_count": 37,
      "outputs": [
        {
          "output_type": "stream",
          "text": [
            "Non-Normalized Confusion Matrix\n",
            "[[  47 2872]\n",
            " [  80 2912]]\n",
            "Normalized confusion matrix\n",
            "[[0.0161014  0.9838986 ]\n",
            " [0.02673797 0.97326203]]\n"
          ],
          "name": "stdout"
        },
        {
          "output_type": "display_data",
          "data": {
            "image/png": "[encoded data removed]",
            "text/plain": [
              "<Figure size 432x288 with 2 Axes>"
            ]
          },
          "metadata": {
            "tags": []
          }
        },
        {
          "output_type": "display_data",
          "data": {
            "image/png": "[encoded data removed]",
            "text/plain": [
              "<Figure size 432x288 with 2 Axes>"
            ]
          },
          "metadata": {
            "tags": []
          }
        }
      ]
    }
  ]
}