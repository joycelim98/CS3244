{
  "nbformat": 4,
  "nbformat_minor": 0,
  "metadata": {
    "colab": {
      "name": "CS3244 Project: Logistic Regression.ipynb",
      "provenance": [],
      "collapsed_sections": []
    },
    "kernelspec": {
      "name": "python3",
      "display_name": "Python 3"
    }
  },
  "cells": [
    {
      "cell_type": "code",
      "metadata": {
        "id": "U7hyBKXq53TE",
        "colab_type": "code",
        "colab": {
          "base_uri": "https://localhost:8080/",
          "height": 71
        },
        "outputId": "0b4f3490-3839-4bae-d0d2-95e61e32b3e7"
      },
      "source": [
        "import numpy as np\n",
        "import pandas as pd\n",
        "from sklearn.linear_model import LogisticRegression\n",
        "from sklearn.model_selection import train_test_split, cross_val_score\n",
        "from sklearn.metrics import accuracy_score,confusion_matrix,f1_score\n",
        "from sklearn import preprocessing\n",
        "from imblearn.over_sampling import RandomOverSampler\n",
        "\n",
        "# this is the new url for the large dataset\n",
        "url = 'https://raw.githubusercontent.com/SarahTaaherBonna/CS3244Project/master/ExtractedFeaturesDataset/extracted_features_LARGE_v4.csv?token=AIQX6SIJAPXGAQ33YKUAHPS53JBWY' \n",
        "df = pd.read_csv(url)"
      ],
      "execution_count": 1,
      "outputs": [
        {
          "output_type": "stream",
          "text": [
            "/usr/local/lib/python3.6/dist-packages/sklearn/externals/six.py:31: DeprecationWarning: The module is deprecated in version 0.21 and will be removed in version 0.23 since we've dropped support for Python 2.7. Please rely on the official version of six (https://pypi.org/project/six/).\n",
            "  \"(https://pypi.org/project/six/).\", DeprecationWarning)\n"
          ],
          "name": "stderr"
        }
      ]
    },
    {
      "cell_type": "code",
      "metadata": {
        "id": "rIdufcFebcXz",
        "colab_type": "code",
        "outputId": "eafe0b91-dae1-44f3-a71a-60188257a8c8",
        "colab": {
          "base_uri": "https://localhost:8080/",
          "height": 51
        }
      },
      "source": [
        "# percentage of test data\n",
        "percentage = 0.2\n",
        "\n",
        "# split into training and testing data\n",
        "\n",
        "# #for dataset without oversampling or undersampling\n",
        "# #separate into inputs and labels\n",
        "# X = df[['proportion_exclamations_title', 'proportion_question_title', 'proportion_allcaps_title', 'proportion_contractions_title', 'sentiment_title', 'starts_with_number_title',  'starts_with_5W1H_title', 'proportion_of_stop_words_in_title']]\n",
        "# y = df['label']\n",
        "# X_train1, X_test, y_train, y_test = train_test_split(X, y, test_size = percentage)\n",
        "# X_train = preprocessing.normalize(X_train1, norm='l2')\n",
        "\n",
        "# #for dataset with oversampling\n",
        "# #separate into inputs and labels\n",
        "# X = df[['proportion_exclamations_title', 'proportion_question_title', 'proportion_allcaps_title', 'proportion_contractions_title', 'sentiment_title', 'starts_with_number_title',  'starts_with_5W1H_title', 'proportion_of_stop_words_in_title']]\n",
        "# y = df['label']\n",
        "# X_train1, X_test, y_train1, y_test = train_test_split(X, y, test_size = percentage)\n",
        "# #balance data\n",
        "# ros = RandomOverSampler(random_state=0)\n",
        "# X_resampled, y_train = ros.fit_resample(X_train1, y_train1)\n",
        "# X_train = preprocessing.normalize(X_resampled, norm='l2')\n",
        "\n",
        "# for dataset with undersampling\n",
        "num_clickbait = len(df[df['label'] == 1])\n",
        "non_clickbait_indices = df[df.label == 0].index\n",
        "random_non_clickbait_indices = np.random.choice(non_clickbait_indices, num_clickbait)\n",
        "clickbait_indices = df[df.label == 1].index\n",
        "under_sample_indices = np.concatenate([clickbait_indices, random_non_clickbait_indices])\n",
        "under_sample = df.loc[under_sample_indices]\n",
        "X = under_sample[['proportion_exclamations_title', 'proportion_question_title', 'proportion_allcaps_title', 'proportion_contractions_title', 'sentiment_title', 'starts_with_number_title',  'starts_with_5W1H_title', 'proportion_of_stop_words_in_title']]\n",
        "y = under_sample['label']\n",
        "X_train1, X_test, y_train, y_test = train_test_split(X, y, test_size = percentage)\n",
        "X_train = preprocessing.normalize(X_train1, norm='l2')\n",
        "\n",
        "print(\"total training examples: %d\\ntotal test examples: %d\" % (len(X_train), len(X_test)))"
      ],
      "execution_count": 2,
      "outputs": [
        {
          "output_type": "stream",
          "text": [
            "total training examples: 7617\n",
            "total test examples: 1905\n"
          ],
          "name": "stdout"
        }
      ]
    },
    {
      "cell_type": "code",
      "metadata": {
        "colab_type": "code",
        "id": "gs60fLSR1tNB",
        "outputId": "2e130140-3c7b-4d00-9ceb-4fedd277998e",
        "colab": {
          "base_uri": "https://localhost:8080/",
          "height": 340
        }
      },
      "source": [
        "from sklearn.model_selection import validation_curve\n",
        "\n",
        "# set up sklearn logistic regression\n",
        "regularisation_vals = [1e-10, 1e-5, 1e-2, 0.1, 0.25, 0.4, 0.5, 0.75, 1.0, 1.25, 1.5, 10, 100, 1000, 1e5, 1e10, 1e15, 1e20] # an array of values, to find out which is the best C \n",
        "best_accuracy = 0\n",
        "best_reg_val = regularisation_vals[0]\n",
        "\n",
        "model = \"\"\n",
        "\n",
        "for i in range(len(regularisation_vals)):\n",
        "  reg_val = regularisation_vals[i]\n",
        "  model = LogisticRegression(C=reg_val, solver = 'liblinear')\n",
        "\n",
        "  cv = cross_val_score(model, X_train, y_train, cv=10)\n",
        "  # print(\"Accuracy of different folds: {}\".format(cv))\n",
        "  print(\"The mean accuracy of all folds: {}\".format(cv.mean()))\n",
        "  if cv.mean() > best_accuracy:\n",
        "    best_accuracy = cv.mean()\n",
        "    best_reg_val = reg_val\n",
        "\n",
        "print(\"best regularisation value = %3.9f\" % best_reg_val)\n",
        "\n",
        "train_scores, valid_scores = validation_curve(model, X_train, y_train, param_name=\"C\", param_range=regularisation_vals, cv=10)"
      ],
      "execution_count": 3,
      "outputs": [
        {
          "output_type": "stream",
          "text": [
            "The mean accuracy of all folds: 0.5586152155456672\n",
            "The mean accuracy of all folds: 0.5571709552887257\n",
            "The mean accuracy of all folds: 0.5721395273884216\n",
            "The mean accuracy of all folds: 0.5788358929284886\n",
            "The mean accuracy of all folds: 0.5794911973016652\n",
            "The mean accuracy of all folds: 0.5793591001000384\n",
            "The mean accuracy of all folds: 0.5792271758011022\n",
            "The mean accuracy of all folds: 0.5796215668378266\n",
            "The mean accuracy of all folds: 0.5801468465725967\n",
            "The mean accuracy of all folds: 0.5804093137641979\n",
            "The mean accuracy of all folds: 0.5801473643730422\n",
            "The mean accuracy of all folds: 0.5805417558635795\n",
            "The mean accuracy of all folds: 0.5808042230551805\n",
            "The mean accuracy of all folds: 0.5808042230551805\n",
            "The mean accuracy of all folds: 0.5808042230551805\n",
            "The mean accuracy of all folds: 0.5808042230551805\n",
            "The mean accuracy of all folds: 0.5808042230551805\n",
            "The mean accuracy of all folds: 0.5808042230551805\n",
            "best regularisation value = 100.000000000\n"
          ],
          "name": "stdout"
        }
      ]
    },
    {
      "cell_type": "code",
      "metadata": {
        "id": "cxMr8ybe22I3",
        "colab_type": "code",
        "outputId": "9926ab9d-6cbb-4e09-a1bc-d6a6ca64d342",
        "colab": {
          "base_uri": "https://localhost:8080/",
          "height": 301
        }
      },
      "source": [
        "import matplotlib.pyplot as plt\n",
        "\n",
        "param_range = regularisation_vals\n",
        "\n",
        "train_scores_mean = np.mean(train_scores, axis=1)\n",
        "train_scores_std = np.std(train_scores, axis=1)\n",
        "valid_scores_mean = np.mean(valid_scores, axis=1)\n",
        "valid_scores_std = np.std(valid_scores, axis=1)\n",
        "\n",
        "plt.title(\"Validation Curve with SVM\")\n",
        "plt.xlabel(r\"$C$\")\n",
        "plt.ylabel(\"Score\")\n",
        "plt.ylim(0.0, 1.0)\n",
        "lw = 2\n",
        "plt.semilogx(param_range, train_scores_mean, label=\"Training score\",\n",
        "             color=\"darkorange\", lw=lw)\n",
        "plt.fill_between(param_range, train_scores_mean - train_scores_std,\n",
        "                 train_scores_mean + train_scores_std, alpha=0.2,\n",
        "                 color=\"darkorange\", lw=lw)\n",
        "plt.semilogx(param_range, valid_scores_mean, label=\"Cross-validation score\",\n",
        "             color=\"navy\", lw=lw)\n",
        "plt.fill_between(param_range, valid_scores_mean - valid_scores_std,\n",
        "                 valid_scores_mean + valid_scores_std, alpha=0.2,\n",
        "                 color=\"navy\", lw=lw)\n",
        "plt.legend(loc=\"best\")\n",
        "plt.show()"
      ],
      "execution_count": 4,
      "outputs": [
        {
          "output_type": "display_data",
          "data": {
            "image/png": "[encoded data removed]",
            "text/plain": [
              "<Figure size 432x288 with 1 Axes>"
            ]
          },
          "metadata": {
            "tags": []
          }
        }
      ]
    },
    {
      "cell_type": "code",
      "metadata": {
        "id": "rx3EkjCQrq5j",
        "colab_type": "code",
        "outputId": "b4930695-733d-4965-d1c9-2fe870d1b27e",
        "colab": {
          "base_uri": "https://localhost:8080/",
          "height": 102
        }
      },
      "source": [
        "improved_model = LogisticRegression(C= best_reg_val, solver = 'liblinear')\n",
        "improved_model.fit(X_train, y_train)\n",
        "\n",
        "y_pred = improved_model.predict(X_test)\n",
        "print(\"classification accuracy: {}\".format(accuracy_score(y_test, y_pred)))\n",
        "\n",
        "# get confusion matrix for visualisation\n",
        "cm = confusion_matrix(y_test, y_pred)\n",
        "f1 = f1_score(y_test, y_pred)\n",
        "print(\"F1-Score: \", f1)\n",
        "print(\"Confusion Matrix: \")\n",
        "print(cm)"
      ],
      "execution_count": 5,
      "outputs": [
        {
          "output_type": "stream",
          "text": [
            "classification accuracy: 0.4965879265091864\n",
            "F1-Score:  0.6576222777579436\n",
            "Confusion Matrix: \n",
            "[[ 25 938]\n",
            " [ 21 921]]\n"
          ],
          "name": "stdout"
        }
      ]
    },
    {
      "cell_type": "code",
      "metadata": {
        "id": "8t72k8Nff2gy",
        "colab_type": "code",
        "colab": {}
      },
      "source": [
        "def plot_confusion_matrix(y_true, y_pred, classes,\n",
        "                          normalize=False,\n",
        "                          title=None,\n",
        "                          cmap=plt.cm.Blues):\n",
        "    \"\"\"\n",
        "    This function prints and plots the confusion matrix.\n",
        "    Normalization can be applied by setting `normalize=True`.\n",
        "    \"\"\"\n",
        "    if not title:\n",
        "        if normalize:\n",
        "            title = 'Normalized Confusion Matrix'\n",
        "        else:\n",
        "            title = 'Non-Normalized Confusion Matrix'\n",
        "\n",
        "    # Compute confusion matrix\n",
        "    cm = confusion_matrix(y_true, y_pred)\n",
        "    # Only use the labels that appear in the data\n",
        "    #classes = classes[unique_labels(y_true, y_pred)]\n",
        "    if normalize:\n",
        "        cm = cm.astype('float') / cm.sum(axis=1)[:, np.newaxis]\n",
        "        print(\"Normalized confusion matrix\")\n",
        "    else:\n",
        "        print('Non-Normalized Confusion Matrix')\n",
        "\n",
        "    print(cm)\n",
        "\n",
        "    fig, ax = plt.subplots()\n",
        "    im = ax.imshow(cm, interpolation='nearest', cmap=cmap)\n",
        "    ax.figure.colorbar(im, ax=ax)\n",
        "    # We want to show all ticks...\n",
        "    ax.set(xticks=np.arange(cm.shape[1]),\n",
        "           yticks=np.arange(cm.shape[0]),\n",
        "           # ... and label them with the respective list entries\n",
        "           xticklabels=classes, yticklabels=classes,\n",
        "           title=title,\n",
        "           ylabel='True label',\n",
        "           xlabel='Predicted label')\n",
        "\n",
        "    # Rotate the tick labels and set their alignment.\n",
        "    plt.setp(ax.get_xticklabels(), rotation=45, ha=\"right\",\n",
        "             rotation_mode=\"anchor\")\n",
        "    return ax"
      ],
      "execution_count": 0,
      "outputs": []
    },
    {
      "cell_type": "code",
      "metadata": {
        "id": "VS44R8gUf7G2",
        "colab_type": "code",
        "colab": {}
      },
      "source": [
        "def print_cm(y_test, y_pred):\n",
        "    y_test = np.array(y_test)\n",
        "\n",
        "    y_pred_output = np.array([1 if y_pred[i] > 0.5 else 0 for i in range(len(y_pred))])\n",
        "    cm = confusion_matrix(y_test, y_pred_output)\n",
        "\n",
        "    class_names = [\"non-clickbait\", \"clickbait\"]\n",
        "    plot_confusion_matrix(y_test, y_pred_output, classes=class_names,\n",
        "                          title='Non-Normalized Confusion Matrix (Log Reg)')\n",
        "\n",
        "    # Plot normalized confusion matrix\n",
        "    plot_confusion_matrix(y_test, y_pred_output, classes=class_names, normalize=True,\n",
        "                          title='Normalized Confusion Matrix (Log Reg)')\n",
        "\n",
        "    plt.show()"
      ],
      "execution_count": 0,
      "outputs": []
    },
    {
      "cell_type": "code",
      "metadata": {
        "id": "f3QahTqApA29",
        "colab_type": "code",
        "outputId": "836e5c80-4d7b-4442-af69-981d19a88d34",
        "colab": {
          "base_uri": "https://localhost:8080/",
          "height": 645
        }
      },
      "source": [
        "print_cm(y_test, y_pred)"
      ],
      "execution_count": 8,
      "outputs": [
        {
          "output_type": "stream",
          "text": [
            "Non-Normalized Confusion Matrix\n",
            "[[ 25 938]\n",
            " [ 21 921]]\n",
            "Normalized confusion matrix\n",
            "[[0.02596054 0.97403946]\n",
            " [0.02229299 0.97770701]]\n"
          ],
          "name": "stdout"
        },
        {
          "output_type": "display_data",
          "data": {
            "image/png": "[encoded data removed]",
            "text/plain": [
              "<Figure size 432x288 with 2 Axes>"
            ]
          },
          "metadata": {
            "tags": []
          }
        },
        {
          "output_type": "display_data",
          "data": {
            "image/png": "[encoded data removed]",
            "text/plain": [
              "<Figure size 432x288 with 2 Axes>"
            ]
          },
          "metadata": {
            "tags": []
          }
        }
      ]
    },
    {
      "cell_type": "code",
      "metadata": {
        "id": "se6gOkepzmRh",
        "colab_type": "code",
        "outputId": "2283be0e-43b1-4916-adf1-5b1d41b7839c",
        "colab": {
          "base_uri": "https://localhost:8080/",
          "height": 102
        }
      },
      "source": [
        "test_url = 'https://raw.githubusercontent.com/SarahTaaherBonna/CS3244Project/master/ExtractedFeaturesDataset/extracted_features_SMALL_v6.csv?token=AIQX6SKFGTYWDLXG4QGG3S253JKWO'\n",
        "df_test = pd.read_csv(test_url)\n",
        "#label 0 is non-clickbait, label 1 is clickbait. Index 0 is non-clickbait, and index 1 is clickbait\n",
        "test_df = df_test.iloc[[0, 2]]\n",
        "# print(test_df)\n",
        "X = test_df[['proportion_exclamations_title', 'proportion_question_title', 'proportion_allcaps_title', 'proportion_contractions_title', 'sentiment_title', 'starts_with_number_title',  'starts_with_5W1H_title', 'proportion_of_stop_words_in_title']]\n",
        "y_test = test_df['label']\n",
        "y_pred = improved_model.predict(X)\n",
        "print(\"classification accuracy: {}\".format(accuracy_score(y_test, y_pred)))\n",
        "\n",
        "# get confusion matrix for visualisation\n",
        "cm = confusion_matrix(y_test, y_pred)\n",
        "f1 = f1_score(y_test, y_pred)\n",
        "print(\"F1-Score: \", f1)\n",
        "print(\"Confusion Matrix: \")\n",
        "print(cm)"
      ],
      "execution_count": 9,
      "outputs": [
        {
          "output_type": "stream",
          "text": [
            "classification accuracy: 0.5\n",
            "F1-Score:  0.6666666666666666\n",
            "Confusion Matrix: \n",
            "[[0 1]\n",
            " [0 1]]\n"
          ],
          "name": "stdout"
        }
      ]
    }
  ]
}