{
 "cells": [
  {
   "cell_type": "code",
   "execution_count": 294,
   "metadata": {},
   "outputs": [],
   "source": [
    "import pandas as pd\n",
    "import numpy as np\n",
    "import os\n",
    "from sklearn.model_selection import train_test_split\n",
    "from sklearn import metrics\n",
    "import matplotlib.pyplot as plt\n",
    "\n",
    "from load_dataset_title import get_dataset\n",
    "\n",
    "from keras.preprocessing.text import Tokenizer\n",
    "from keras.preprocessing.sequence import pad_sequences\n",
    "\n",
    "from keras.callbacks import ModelCheckpoint,EarlyStopping\n",
    "\n",
    "from gensim.models import KeyedVectors\n",
    "from gensim.models import FastText as ft\n",
    "\n",
    "from keras import layers, models, optimizers\n",
    "from keras.regularizers import l2\n",
    "from keras.models import Sequential\n",
    "from keras.models import load_model\n",
    "from keras.layers import Dense\n",
    "from keras.layers import Flatten\n",
    "from keras.layers import Embedding\n",
    "from keras.layers import Conv1D,MaxPooling1D,Dropout,GlobalMaxPool1D,SpatialDropout1D,AveragePooling1D,GlobalAveragePooling1D\n",
    "from keras.layers.normalization import BatchNormalization\n",
    "import regex as re\n",
    "from imblearn.over_sampling import RandomOverSampler\n",
    "import random as random\n",
    "\n",
    "\n",
    "cwd = os.getcwd()"
   ]
  },
  {
   "cell_type": "code",
   "execution_count": 4,
   "metadata": {},
   "outputs": [],
   "source": [
    "#Min Jia suggested this...dunno why\n",
    "def preprocess_text(sen):\n",
    "    # Remove punctuations and numbers\n",
    "    sentence = re.sub('[^a-zA-Z]', ' ', sen)\n",
    "\n",
    "    # Single character removal\n",
    "    sentence = re.sub(r\"\\s+[a-zA-Z]\\s+\", ' ', sentence)\n",
    "\n",
    "    # Removing multiple spaces\n",
    "    sentence = re.sub(r'\\s+', ' ', sentence)\n",
    "\n",
    "    return sentence"
   ]
  },
  {
   "cell_type": "code",
   "execution_count": 5,
   "metadata": {},
   "outputs": [
    {
     "name": "stderr",
     "output_type": "stream",
     "text": [
      "c:\\python 3.6.4\\lib\\site-packages\\ipykernel_launcher.py:1: DeprecationWarning: Call to deprecated `load_fasttext_format` (use load_facebook_vectors (to use pretrained embeddings) or load_facebook_model (to continue training with the loaded full model, more RAM) instead).\n",
      "  \"\"\"Entry point for launching an IPython kernel.\n",
      "c:\\python 3.6.4\\lib\\site-packages\\ipykernel_launcher.py:3: DeprecationWarning: Call to deprecated `__getitem__` (Method will be removed in 4.0.0, use self.wv.__getitem__() instead).\n",
      "  This is separate from the ipykernel package so we can avoid doing imports until\n"
     ]
    }
   ],
   "source": [
    "embed_model2 = ft.load_fasttext_format(\"cc.en.300.bin\")\n",
    "\n",
    "vec_dim = len(embed_model2[\"cat\"])"
   ]
  },
  {
   "cell_type": "code",
   "execution_count": 424,
   "metadata": {},
   "outputs": [
    {
     "name": "stdout",
     "output_type": "stream",
     "text": [
      "loading large document\n",
      "19539\n",
      "hi\n",
      "loading small document\n",
      "2460\n",
      "hi\n",
      "Done generating balanced dataset via undersampling\n"
     ]
    }
   ],
   "source": [
    "df = get_dataset(size = \"large\") #use small for small dataset, large for large dataset. Will print the number of articles loaded.\n",
    "df_test = get_dataset(size = \"small\") #use small for small dataset, large for large dataset. Will print the number of articles loaded.\n",
    "\n",
    "def generate_balanced_dataset_undersampling(df):\n",
    "    only_nonclickbait = df.loc[df['label'] == \"0\"]\n",
    "    only_clickbait = df.loc[df['label'] == \"1\"]\n",
    "\n",
    "    while len(only_nonclickbait)!= len(only_clickbait):\n",
    "        to_drop = random.randint(0, len(only_nonclickbait) - 1)\n",
    "        only_nonclickbait = only_nonclickbait.drop(only_nonclickbait.index[to_drop])\n",
    "        \n",
    "    frames = [only_clickbait, only_nonclickbait]\n",
    "    final_balanced_dataset = pd.concat(frames)\n",
    "    print(\"Done generating balanced dataset via undersampling\")\n",
    "    return final_balanced_dataset\n",
    "    \n",
    "df_balanced = generate_balanced_dataset_undersampling(df)\n",
    "df_balanced = df_balanced.sample(frac=1)\n",
    "#percentage = 0.2\n",
    "\n",
    "#Don't need this anymore, we are using the small dataset as our test set.\n",
    "# (random_state): we use a fixed random seed so we get the same results every time.\n",
    "# X_train, X_test, y_train, y_test = train_test_split(X, y, test_size = percentage, random_state=51)\n"
   ]
  },
  {
   "cell_type": "code",
   "execution_count": 425,
   "metadata": {},
   "outputs": [],
   "source": [
    "X_train = df_balanced[\"title\"]\n",
    "y_train = df_balanced['label'].astype(int)\n",
    "\n",
    "\n",
    "X_test = df_test[\"title\"]\n",
    "y_test = df_test[\"label\"].astype(int)"
   ]
  },
  {
   "cell_type": "code",
   "execution_count": 426,
   "metadata": {},
   "outputs": [
    {
     "name": "stdout",
     "output_type": "stream",
     "text": [
      "237\n"
     ]
    }
   ],
   "source": [
    "#Finding length of longest title in training data\n",
    "\n",
    "def get_max_length():\n",
    "    t = Tokenizer()\n",
    "    t.fit_on_texts(X_train)\n",
    "    encoded_X = t.texts_to_sequences(X_train)\n",
    "    max_length = 0\n",
    "    for i in encoded_X:\n",
    "        max_length = max(len(i), max_length)\n",
    "    \n",
    "    return max_length + 1\n",
    "\n",
    "input_length = get_max_length()\n",
    "print(input_length)"
   ]
  },
  {
   "cell_type": "code",
   "execution_count": 379,
   "metadata": {},
   "outputs": [],
   "source": [
    "# # Outright setting length of longest title as 250\n",
    "# input_length = 250\n",
    "# print(input_length)"
   ]
  },
  {
   "cell_type": "code",
   "execution_count": 427,
   "metadata": {},
   "outputs": [],
   "source": [
    "def pre_process_input(array):\n",
    "    t = Tokenizer()\n",
    "    t.fit_on_texts(array)\n",
    "    vocab_size = len(t.word_index) + 1\n",
    "    encoded_X = t.texts_to_sequences(array)\n",
    "\n",
    "    ##input_length is a global variable\n",
    "    padded_X = pad_sequences(encoded_X, maxlen = input_length,\n",
    "                          padding = \"post\")\n",
    "    \n",
    "    return (padded_X, t)\n",
    "    "
   ]
  },
  {
   "cell_type": "code",
   "execution_count": 428,
   "metadata": {},
   "outputs": [],
   "source": [
    "#Create the padded X_test data as well as the padded X_train data\n",
    "padded_X_train, t_train = pre_process_input(X_train)\n",
    "vocab_size = len(t_train.word_index) + 1\n",
    "input_length = len(padded_X_train[0])\n",
    "\n",
    "padded_X_test = pre_process_input(X_test)[0]"
   ]
  },
  {
   "cell_type": "code",
   "execution_count": 429,
   "metadata": {},
   "outputs": [
    {
     "name": "stderr",
     "output_type": "stream",
     "text": [
      "c:\\python 3.6.4\\lib\\site-packages\\ipykernel_launcher.py:4: DeprecationWarning: Call to deprecated `__getitem__` (Method will be removed in 4.0.0, use self.wv.__getitem__() instead).\n",
      "  after removing the cwd from sys.path.\n"
     ]
    }
   ],
   "source": [
    "#Create the embedding matrix using the training data,\n",
    "embedding_matrix = np.zeros((vocab_size, vec_dim))\n",
    "for word,i in t_train.word_index.items():\n",
    "    embedding_vector = embed_model2[word]\n",
    "    embedding_matrix[i] = embedding_vector\n",
    "    "
   ]
  },
  {
   "cell_type": "markdown",
   "metadata": {},
   "source": [
    "## First model: Just logistic regression"
   ]
  },
  {
   "cell_type": "code",
   "execution_count": 431,
   "metadata": {},
   "outputs": [
    {
     "name": "stdout",
     "output_type": "stream",
     "text": [
      "Model: \"sequential_52\"\n",
      "_________________________________________________________________\n",
      "Layer (type)                 Output Shape              Param #   \n",
      "=================================================================\n",
      "embedding_52 (Embedding)     (None, 237, 300)          5571600   \n",
      "_________________________________________________________________\n",
      "flatten_29 (Flatten)         (None, 71100)             0         \n",
      "_________________________________________________________________\n",
      "dense_50 (Dense)             (None, 1)                 71101     \n",
      "=================================================================\n",
      "Total params: 5,642,701\n",
      "Trainable params: 71,101\n",
      "Non-trainable params: 5,571,600\n",
      "_________________________________________________________________\n",
      "None\n",
      "Train on 8093 samples, validate on 1429 samples\n",
      "Epoch 1/10\n",
      "8093/8093 [==============================] - 2s 281us/step - loss: 0.6397 - accuracy: 0.6491 - val_loss: 0.6250 - val_accuracy: 0.6522\n",
      "Epoch 2/10\n",
      "8093/8093 [==============================] - 2s 269us/step - loss: 0.5874 - accuracy: 0.6992 - val_loss: 0.6191 - val_accuracy: 0.6648\n",
      "Epoch 3/10\n",
      "8093/8093 [==============================] - 2s 265us/step - loss: 0.5635 - accuracy: 0.7149 - val_loss: 0.6176 - val_accuracy: 0.6599\n",
      "Epoch 4/10\n",
      "8093/8093 [==============================] - 2s 267us/step - loss: 0.5461 - accuracy: 0.7295 - val_loss: 0.6188 - val_accuracy: 0.6606\n",
      "Epoch 5/10\n",
      "8093/8093 [==============================] - 2s 269us/step - loss: 0.5327 - accuracy: 0.7379 - val_loss: 0.6191 - val_accuracy: 0.6585\n"
     ]
    },
    {
     "data": {
      "text/plain": [
       "<keras.callbacks.callbacks.History at 0x28d0c4b2fd0>"
      ]
     },
     "execution_count": 431,
     "metadata": {},
     "output_type": "execute_result"
    }
   ],
   "source": [
    "#Hyper-Params\n",
    "epochs = 10\n",
    "batch_size = 32\n",
    "patience = 3\n",
    "\n",
    "#Define model\n",
    "model1 = Sequential()\n",
    "e = Embedding(vocab_size, vec_dim, weights = [embedding_matrix],\n",
    "              input_length = input_length, trainable = False)\n",
    "model1.add(e)\n",
    "model1.add(Flatten())\n",
    "model1.add(Dense(1, activation = \"sigmoid\"))\n",
    "\n",
    "model1.compile(optimizer='adam',\n",
    "              loss='binary_crossentropy',\n",
    "              metrics=['accuracy'])\n",
    "\n",
    "### summarize the model\n",
    "print(model1.summary())\n",
    "\n",
    "### Create model checkpoint\n",
    "output_dir = cwd\n",
    "modelcheckpoint = ModelCheckpoint(filepath = output_dir + \"/model1_titleweights.{epoch:02d}-{val_loss:.3f}.hdf5\",\n",
    "                                 monitor='val_loss', verbose=1, save_best_only=True)\n",
    "callbacks_list = [modelcheckpoint, EarlyStopping(monitor = \"val_loss\", patience = patience)]\n",
    "\n",
    "### fit the model\n",
    "#model1.fit(padded_X_train, y_train, batch_size = batch_size, epochs=epochs, verbose=1, validation_split = 0.2, callbacks = callbacks_list)\n",
    "\n",
    "callbacks_list_no_chkpt = [EarlyStopping(monitor = \"val_loss\", patience = 2)]\n",
    "\n",
    "#fit with no checkpointing (oversampling)\n",
    "#model1.fit(padded_X_train, y_train_resampled, batch_size = batch_size, epochs=epochs, verbose=1, validation_split = 0.1, callbacks = callbacks_list_no_chkpt)\n",
    "\n",
    "#fit with no checkpointing\n",
    "model1.fit(padded_X_train, y_train, batch_size = batch_size, epochs=epochs, verbose=1, validation_split = 0.15, callbacks = callbacks_list_no_chkpt)"
   ]
  },
  {
   "cell_type": "code",
   "execution_count": 432,
   "metadata": {},
   "outputs": [
    {
     "name": "stdout",
     "output_type": "stream",
     "text": [
      "['loss', 'accuracy']\n",
      "2459/2459 [==============================] - 0s 195us/step\n"
     ]
    },
    {
     "data": {
      "text/plain": [
       "[0.8985474156189275, 0.53721022605896]"
      ]
     },
     "execution_count": 432,
     "metadata": {},
     "output_type": "execute_result"
    }
   ],
   "source": [
    "### Evaluate the model\n",
    "print(model1.metrics_names)\n",
    "model1.evaluate(x=padded_X_test, y=y_test, verbose = 1)"
   ]
  },
  {
   "cell_type": "code",
   "execution_count": 433,
   "metadata": {},
   "outputs": [
    {
     "name": "stdout",
     "output_type": "stream",
     "text": [
      "Confusion matrix for training data\n",
      "[[3632 1129]\n",
      " [1360 3401]]\n",
      "Confusion matrix for testing data\n",
      "[[1007  690]\n",
      " [ 448  314]]\n"
     ]
    }
   ],
   "source": [
    "#Printing confusion matrix for training data\n",
    "y_train_pred = model1.predict(padded_X_train)\n",
    "y_train_pred = np.array([1 if i > 0.5 else 0 for i in y_train_pred])\n",
    "print(\"Confusion matrix for training data\")\n",
    "confusion_matrix_train = metrics.confusion_matrix(y_train, y_train_pred)\n",
    "print(confusion_matrix_train)\n",
    "\n",
    "#Printing confusion matrix for testing data\n",
    "y_test_pred = model1.predict(padded_X_test)\n",
    "y_test_pred = np.array([1 if i > 0.5 else 0 for i in y_test_pred])\n",
    "print(\"Confusion matrix for testing data\")\n",
    "confusion_matrix_test = metrics.confusion_matrix(y_test,y_test_pred)\n",
    "print(confusion_matrix_test)"
   ]
  },
  {
   "cell_type": "code",
   "execution_count": 434,
   "metadata": {},
   "outputs": [
    {
     "data": {
      "image/png": "[encoded data removed]",
      "text/plain": [
       "<Figure size 432x288 with 2 Axes>"
      ]
     },
     "metadata": {},
     "output_type": "display_data"
    }
   ],
   "source": [
    "# Show confusion matrix in a separate window\n",
    "def plot_cm(confusion_matrix):\n",
    "    TN = confusion_matrix[0][0]\n",
    "    TP = confusion_matrix[1][1]\n",
    "    FP = confusion_matrix[0][1]\n",
    "    FN = confusion_matrix[1][0]\n",
    "    cm = [[0,0],[0,0]]\n",
    "    cm[0][0] = TN / (TN + FP)\n",
    "    cm[0][1] = FP / (TN + FP)\n",
    "    cm[1][0] = FN / (FN + TP)\n",
    "    cm[1][1] = TP / (FN + TP)\n",
    "    \n",
    "    labels = ['Non-Clickbait', 'Clickbait']\n",
    "    fig = plt.figure()\n",
    "    ax = fig.add_subplot(111)\n",
    "    cax = ax.matshow(cm, cmap=plt.cm.Blues)\n",
    "    plt.title('Confusion matrix of the classifier')\n",
    "    fig.colorbar(cax)\n",
    "    ax.set_xticklabels([''] + labels)\n",
    "    ax.set_yticklabels([''] + labels)\n",
    "    plt.xlabel('Predicted')\n",
    "    plt.ylabel('True')\n",
    "    plt.show()\n",
    "    \n",
    "plot_cm(confusion_matrix_test)"
   ]
  },
  {
   "cell_type": "markdown",
   "metadata": {},
   "source": [
    "## Second model: Coming soon!"
   ]
  },
  {
   "cell_type": "markdown",
   "metadata": {},
   "source": [
    "## Third model: 1-D convnet"
   ]
  },
  {
   "cell_type": "code",
   "execution_count": 435,
   "metadata": {},
   "outputs": [
    {
     "name": "stdout",
     "output_type": "stream",
     "text": [
      "Model: \"sequential_53\"\n",
      "_________________________________________________________________\n",
      "Layer (type)                 Output Shape              Param #   \n",
      "=================================================================\n",
      "embedding_53 (Embedding)     (None, 237, 300)          5571600   \n",
      "_________________________________________________________________\n",
      "spatial_dropout1d_24 (Spatia (None, 237, 300)          0         \n",
      "_________________________________________________________________\n",
      "conv1d_171 (Conv1D)          (None, 237, 100)          90100     \n",
      "_________________________________________________________________\n",
      "conv1d_172 (Conv1D)          (None, 237, 100)          30100     \n",
      "_________________________________________________________________\n",
      "max_pooling1d_68 (MaxPooling (None, 79, 100)           0         \n",
      "_________________________________________________________________\n",
      "max_pooling1d_69 (MaxPooling (None, 26, 100)           0         \n",
      "_________________________________________________________________\n",
      "conv1d_173 (Conv1D)          (None, 26, 150)           45150     \n",
      "_________________________________________________________________\n",
      "global_max_pooling1d_24 (Glo (None, 150)               0         \n",
      "_________________________________________________________________\n",
      "dropout_24 (Dropout)         (None, 150)               0         \n",
      "_________________________________________________________________\n",
      "dense_51 (Dense)             (None, 1)                 151       \n",
      "=================================================================\n",
      "Total params: 5,737,101\n",
      "Trainable params: 165,501\n",
      "Non-trainable params: 5,571,600\n",
      "_________________________________________________________________\n",
      "None\n",
      "Train on 8093 samples, validate on 1429 samples\n",
      "Epoch 1/50\n",
      "8093/8093 [==============================] - 22s 3ms/step - loss: 0.6330 - accuracy: 0.6357 - val_loss: 0.6059 - val_accuracy: 0.6711\n",
      "\n",
      "Epoch 00001: val_loss improved from inf to 0.60586, saving model to C:\\Users\\Admin\\Desktop\\CS3244Project\\CNN-kh-n-joyce/model3_titleweights.01-0.606.hdf5\n",
      "Epoch 2/50\n",
      "8093/8093 [==============================] - 23s 3ms/step - loss: 0.5803 - accuracy: 0.6989 - val_loss: 0.5982 - val_accuracy: 0.6739\n",
      "\n",
      "Epoch 00002: val_loss improved from 0.60586 to 0.59816, saving model to C:\\Users\\Admin\\Desktop\\CS3244Project\\CNN-kh-n-joyce/model3_titleweights.02-0.598.hdf5\n",
      "Epoch 3/50\n",
      "8093/8093 [==============================] - 22s 3ms/step - loss: 0.5583 - accuracy: 0.7183 - val_loss: 0.5997 - val_accuracy: 0.6879\n",
      "\n",
      "Epoch 00003: val_loss did not improve from 0.59816\n",
      "Epoch 4/50\n",
      "8093/8093 [==============================] - 22s 3ms/step - loss: 0.5176 - accuracy: 0.7481 - val_loss: 0.6020 - val_accuracy: 0.6865\n",
      "\n",
      "Epoch 00004: val_loss did not improve from 0.59816\n",
      "Epoch 5/50\n",
      "8093/8093 [==============================] - 22s 3ms/step - loss: 0.4807 - accuracy: 0.7754 - val_loss: 0.6432 - val_accuracy: 0.6690\n",
      "\n",
      "Epoch 00005: val_loss did not improve from 0.59816\n",
      "Epoch 6/50\n",
      "8093/8093 [==============================] - 22s 3ms/step - loss: 0.4336 - accuracy: 0.8054 - val_loss: 0.6482 - val_accuracy: 0.6606\n",
      "\n",
      "Epoch 00006: val_loss did not improve from 0.59816\n"
     ]
    },
    {
     "data": {
      "text/plain": [
       "<keras.callbacks.callbacks.History at 0x28ae37bff28>"
      ]
     },
     "execution_count": 435,
     "metadata": {},
     "output_type": "execute_result"
    }
   ],
   "source": [
    "#Hyper-Params\n",
    "epochs = 50 #50 orig\n",
    "batch_size = 32 #for stochastic gradient descent\n",
    "drop_embed = 0.2 #0.2 orig\n",
    "\n",
    "n_dense = 256\n",
    "dropout = 0.5 #0.5 orig\n",
    "\n",
    "n_conv_layer1 = 100\n",
    "n_conv_layer2 = 150\n",
    "n_conv_layer3 = 150\n",
    "n_conv_layer4 = 150\n",
    "#n_conv_layer5 = 100\n",
    "k_conv = 3\n",
    "\n",
    "#Define model\n",
    "\n",
    "model3 = Sequential()\n",
    "e = Embedding(vocab_size, vec_dim, weights = [embedding_matrix],\n",
    "              input_length = input_length, trainable = False)\n",
    "model3.add(e)\n",
    "model3.add(SpatialDropout1D(drop_embed))\n",
    "model3.add(Conv1D(filters = n_conv_layer1, kernel_size = k_conv, activation = \"relu\", padding = \"same\"))\n",
    "model3.add(Conv1D(filters = n_conv_layer1, kernel_size = k_conv, activation = \"relu\", padding = \"same\"))\n",
    "model3.add(MaxPooling1D(3))\n",
    "# model3.add(Conv1D(filters = n_conv_layer2, kernel_size = k_conv, activation = \"relu\", padding = \"same\"))\n",
    "# model3.add(Conv1D(filters = n_conv_layer2, kernel_size = k_conv, activation = \"relu\", padding = \"same\"))\n",
    "# model3.add(MaxPooling1D(2))\n",
    "# model3.add(Conv1D(filters = n_conv_layer3, kernel_size = k_conv, activation = \"relu\", padding = \"same\"))\n",
    "# model3.add(Conv1D(filters = n_conv_layer3, kernel_size = k_conv, activation = \"relu\", padding = \"same\"))\n",
    "model3.add(MaxPooling1D(3))\n",
    "# model3.add(Conv1D(filters = n_conv_layer4, kernel_size = k_conv, activation = \"relu\", padding = \"same\"))\n",
    "model3.add(Conv1D(filters = n_conv_layer4, kernel_size = k_conv, activation = \"relu\", padding = \"same\"))\n",
    "model3.add(GlobalMaxPool1D())\n",
    "model3.add(Dropout(dropout))\n",
    "model3.add(Dense(1, activation = \"sigmoid\"))\n",
    "model3.compile(optimizer='adam',\n",
    "              loss='binary_crossentropy',\n",
    "#              loss = \"mean_squared_error\",\n",
    "              metrics=['accuracy'])\n",
    "\n",
    "### summarize the model\n",
    "print(model3.summary())\n",
    "\n",
    "### Create model checkpoint\n",
    "output_dir = cwd\n",
    "modelcheckpoint = ModelCheckpoint(filepath = output_dir + \"/model3_titleweights.{epoch:02d}-{val_loss:.3f}.hdf5\",\n",
    "                                 monitor='val_loss', verbose=1, save_best_only=True)\n",
    "callbacks_list = [modelcheckpoint, EarlyStopping(monitor = \"val_loss\", patience = 4)]\n",
    "\n",
    "callbacks_list_no_chkpt = [EarlyStopping(monitor = \"val_loss\", patience = 2)]\n",
    "\n",
    "### fit the model\n",
    "model3.fit(padded_X_train, y_train, batch_size = batch_size, epochs=epochs, verbose=1, validation_split = 0.15, callbacks = callbacks_list)\n",
    "\n",
    "#fit with no checkpointing\n",
    "#model3.fit(padded_X_train, y_train, batch_size = batch_size, epochs=epochs, verbose=1, validation_split = 0.1, callbacks = callbacks_list_no_chkpt)"
   ]
  },
  {
   "cell_type": "code",
   "execution_count": 436,
   "metadata": {},
   "outputs": [
    {
     "name": "stdout",
     "output_type": "stream",
     "text": [
      "['loss', 'accuracy']\n",
      "2459/2459 [==============================] - 3s 1ms/step\n"
     ]
    },
    {
     "data": {
      "text/plain": [
       "[0.7369953622028759, 0.5420902967453003]"
      ]
     },
     "execution_count": 436,
     "metadata": {},
     "output_type": "execute_result"
    }
   ],
   "source": [
    "### Evaluate the best model\n",
    "#model3_loaded = load_model(\"model3_titleweights.03-0.462.hdf5\") #this is with pre-processing\n",
    "#model3_loaded = load_model(\"model3_titleweights_resamp.17-0.032.hdf5\")  #This is with random oversampling\n",
    "#model3_loaded = load_model(\"model3_titleweights_undersamp.03-0.594.hdf5\") #this is with undersampling. padding length = 250\n",
    "#model3_loaded = load_model(\"model3_titleweights.03-0.478.hdf5\") #another without pre-processing, gives better results than first one\n",
    "# model3_loaded = load_model(\"model3_titleweights.04-0.588.hdf5\") #With undersampling. Padding length = 237\n",
    "\n",
    "model3_loaded = load_model(\"model3_titleweights.02-0.598.hdf5\")\n",
    "print(model3_loaded.metrics_names)\n",
    "model3_loaded.evaluate(x=padded_X_test, y=y_test, verbose = 1)"
   ]
  },
  {
   "cell_type": "code",
   "execution_count": 437,
   "metadata": {},
   "outputs": [
    {
     "name": "stdout",
     "output_type": "stream",
     "text": [
      "Confusion matrix for training data\n",
      "[[3785  976]\n",
      " [1632 3129]]\n",
      "Confusion matrix for testing data\n",
      "[[1059  638]\n",
      " [ 488  274]]\n"
     ]
    }
   ],
   "source": [
    "#Printing confusion matrix for training data\n",
    "y_train_pred = model3_loaded.predict(padded_X_train)\n",
    "y_train_pred = np.array([1 if i > 0.5 else 0 for i in y_train_pred])\n",
    "print(\"Confusion matrix for training data\")\n",
    "confusion_matrix_train = metrics.confusion_matrix(y_train, y_train_pred)\n",
    "print(confusion_matrix_train)\n",
    "\n",
    "#Printing confusion matrix for training data\n",
    "y_test_pred = model3_loaded.predict(padded_X_test)\n",
    "y_test_pred = np.array([1 if i > 0.5 else 0 for i in y_test_pred])\n",
    "print(\"Confusion matrix for testing data\")\n",
    "confusion_matrix_test = metrics.confusion_matrix(y_test, y_test_pred)\n",
    "print(confusion_matrix_test)"
   ]
  },
  {
   "cell_type": "code",
   "execution_count": 438,
   "metadata": {},
   "outputs": [
    {
     "data": {
      "image/png": "[encoded data removed]",
      "text/plain": [
       "<Figure size 432x288 with 2 Axes>"
      ]
     },
     "metadata": {},
     "output_type": "display_data"
    }
   ],
   "source": [
    "# Show confusion matrix in a separate window\n",
    "def plot_cm(confusion_matrix):\n",
    "    TN = confusion_matrix[0][0]\n",
    "    TP = confusion_matrix[1][1]\n",
    "    FP = confusion_matrix[0][1]\n",
    "    FN = confusion_matrix[1][0]\n",
    "    cm = [[0,0],[0,0]]\n",
    "    cm[0][0] = TN / (TN + FP)\n",
    "    cm[0][1] = FP / (TN + FP)\n",
    "    cm[1][0] = FN / (FN + TP)\n",
    "    cm[1][1] = TP / (FN + TP)\n",
    "    \n",
    "    labels = ['Non-Clickbait', 'Clickbait']\n",
    "    fig = plt.figure()\n",
    "    ax = fig.add_subplot(111)\n",
    "    cax = ax.matshow(cm, cmap=plt.cm.Blues)\n",
    "    plt.title('Confusion matrix of the classifier')\n",
    "    fig.colorbar(cax)\n",
    "    ax.set_xticklabels([''] + labels)\n",
    "    ax.set_yticklabels([''] + labels)\n",
    "    plt.xlabel('Predicted')\n",
    "    plt.ylabel('True')\n",
    "    plt.show()\n",
    "    \n",
    "plot_cm(confusion_matrix_test)"
   ]
  },
  {
   "cell_type": "code",
   "execution_count": 439,
   "metadata": {},
   "outputs": [
    {
     "name": "stdout",
     "output_type": "stream",
     "text": [
      "0.7261079605124974\n",
      "0.49181124015361366\n"
     ]
    }
   ],
   "source": [
    "#get the balanced accuracy score\n",
    "def get_balanced_accuracy(confusion_matrix):\n",
    "    TN = confusion_matrix[0][0]\n",
    "    TP = confusion_matrix[1][1]\n",
    "    FP = confusion_matrix[0][1]\n",
    "    FN = confusion_matrix[1][0]\n",
    "    TPR = TP / (TP + FN)\n",
    "    TNR = TN/(TN + FP)\n",
    "    return 0.5 * (TPR + TNR)\n",
    "\n",
    "print(get_balanced_accuracy(confusion_matrix_train))\n",
    "print(get_balanced_accuracy(confusion_matrix_test))\n",
    "    "
   ]
  },
  {
   "cell_type": "code",
   "execution_count": null,
   "metadata": {},
   "outputs": [],
   "source": []
  }
 ],
 "metadata": {
  "hide_input": false,
  "kernelspec": {
   "display_name": "Python 3",
   "language": "python",
   "name": "python3"
  },
  "language_info": {
   "codemirror_mode": {
    "name": "ipython",
    "version": 3
   },
   "file_extension": ".py",
   "mimetype": "text/x-python",
   "name": "python",
   "nbconvert_exporter": "python",
   "pygments_lexer": "ipython3",
   "version": "3.6.4"
  },
  "latex_envs": {
   "bibliofile": "biblio.bib",
   "cite_by": "apalike",
   "current_citInitial": 1,
   "eqLabelWithNumbers": true,
   "eqNumInitial": 0
  },
  "nav_menu": {},
  "toc": {
   "navigate_menu": true,
   "number_sections": true,
   "sideBar": true,
   "threshold": 6,
   "toc_cell": false,
   "toc_section_display": "block",
   "toc_window_display": false
  }
 },
 "nbformat": 4,
 "nbformat_minor": 2
}
